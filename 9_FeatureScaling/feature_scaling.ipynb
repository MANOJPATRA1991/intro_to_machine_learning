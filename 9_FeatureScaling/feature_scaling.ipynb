{
 "cells": [
  {
   "cell_type": "markdown",
   "metadata": {},
   "source": [
    "## Feature scaling\n",
    "\n",
    "- scaling the features so that they can be compared or that they can be used to contribute to the evaluation of data"
   ]
  },
  {
   "cell_type": "markdown",
   "metadata": {},
   "source": [
    "#### Formula\n",
    "\n",
    "```\n",
    "x' = (x - xmin) / (xmax - xmin)\n",
    "\n",
    "where x' = rescaled data point,\n",
    "      x = data point\n",
    "      xmin = min of the old data points\n",
    "      xmax = max of the old data points\n",
    "      \n",
    "```\n",
    "\n",
    "Transformed feature always between 0 and 1. But it can be messed up by outliers.\n"
   ]
  },
  {
   "cell_type": "markdown",
   "metadata": {},
   "source": [
    "#### Min/Max rescaler coding quiz\n",
    "\n",
    "```\n",
    "\"\"\" quiz materials for feature scaling clustering \"\"\"\n",
    "\n",
    "### FYI, the most straightforward implementation might \n",
    "### throw a divide-by-zero error, if the min and max\n",
    "### values are the same\n",
    "### but think about this for a second--that means that every\n",
    "### data point has the same value for that feature!  \n",
    "### why would you rescale it?  Or even use it at all?\n",
    "\n",
    "from __future__ import division\n",
    "import numpy as np\n",
    "\n",
    "def featureScaling(arr):\n",
    "    arr = np.array(arr)\n",
    "    return (arr - arr.min())/(arr.max() - arr.min())\n",
    "\n",
    "# tests of your feature scaler--line below is input data\n",
    "data = [115, 140, 175]\n",
    "print featureScaling(data)\n",
    "\n",
    "```\n"
   ]
  },
  {
   "cell_type": "markdown",
   "metadata": {},
   "source": [
    "#### Min/Max rescaler in sklearn\n",
    "\n",
    "http://scikit-learn.org/stable/modules/preprocessing.html#scaling-features-to-a-range\n",
    "\n",
    "http://scikit-learn.org/stable/modules/generated/sklearn.preprocessing.MinMaxScaler.html\n",
    "\n",
    "- have to import numpy\n",
    "\n",
    "#### - must use floats in the numpy array ###"
   ]
  },
  {
   "cell_type": "markdown",
   "metadata": {},
   "source": [
    "#### Quiz on algorithms requiring rescaling\n",
    "\n",
    "Which algorithm would be affected by feature rescaling?\n",
    "\n",
    "- decision trees\n",
    "- SVM with RBF kernel\n",
    "- linear regression\n",
    "- k-means clustering\n",
    "\n",
    "Answer:\n",
    "\n",
    "- SVM with RBF kernel\n",
    "- k-means clustering\n",
    "\n",
    "-> both need calculation of distances"
   ]
  },
  {
   "cell_type": "code",
   "execution_count": null,
   "metadata": {
    "collapsed": true
   },
   "outputs": [],
   "source": []
  }
 ],
 "metadata": {
  "anaconda-cloud": {},
  "kernelspec": {
   "display_name": "Python [default]",
   "language": "python",
   "name": "python2"
  },
  "language_info": {
   "codemirror_mode": {
    "name": "ipython",
    "version": 2
   },
   "file_extension": ".py",
   "mimetype": "text/x-python",
   "name": "python",
   "nbconvert_exporter": "python",
   "pygments_lexer": "ipython2",
   "version": "2.7.12"
  }
 },
 "nbformat": 4,
 "nbformat_minor": 1
}
