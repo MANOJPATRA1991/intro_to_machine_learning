{
 "cells": [
  {
   "cell_type": "markdown",
   "metadata": {},
   "source": [
    "In the last project, you performed k-means clustering on the Enron characters using their financial data as inputs. We’ll update that work to include scaled features, to see how that changes things.\n",
    "\n",
    "#### What kind of Scaling\n",
    "\n",
    "Look back to the last part of the K-Means Clustering Mini-Project. We deployed scaling there without going into the details of the scaling algorithm, but now you know much more about specific scaling algorithms and can diagnose what kind of scaling we were using.\n",
    "\n",
    "What type of scaling was deployed?\n",
    "\n",
    "--> MinMaxScaler\n",
    "\n",
    "#### Computing Rescaled Features\n",
    "\n",
    "Apply feature scaling to your k-means clustering code from the last lesson, on the “salary” and “exercised_stock_options” features (use only these two features). What would be the rescaled value of a \"salary\" feature that had an original value of $ 200000 and an \"exercised_stock_options\" feature of $1 million? (Be sure to represent these numbers as floats, not integers!)\n"
   ]
  },
  {
   "cell_type": "code",
   "execution_count": 1,
   "metadata": {
    "collapsed": true
   },
   "outputs": [],
   "source": [
    "import pickle\n",
    "import numpy as np\n",
    "import matplotlib.pyplot as plt\n",
    "%matplotlib inline"
   ]
  },
  {
   "cell_type": "code",
   "execution_count": 2,
   "metadata": {
    "collapsed": true
   },
   "outputs": [],
   "source": [
    "def featureFormat(dictionary, features, remove_NaN=True,\n",
    "                  remove_all_zeroes=False, remove_any_zeroes=False, sort_keys=False):\n",
    "    \"\"\" convert dictionary to numpy array of features\n",
    "        remove_NaN = True will convert \"NaN\" string to 0.0\n",
    "        remove_all_zeroes = True will omit any data points for which\n",
    "            all the features you seek are 0.0\n",
    "        remove_any_zeroes = True will omit any data points for which\n",
    "            any of the features you seek are 0.0\n",
    "        sort_keys = True sorts keys by alphabetical order. Setting the value as\n",
    "            a string opens the corresponding pickle file with a preset key\n",
    "            order (this is used for Python 3 compatibility, and sort_keys\n",
    "            should be left as False for the course mini-projects).\n",
    "        NOTE: first feature is assumed to be 'poi' and is not checked for\n",
    "            removal for zero or missing values.\n",
    "    \"\"\"\n",
    "    return_list = []\n",
    "    # Key order - first branch is for Python 3 compatibility on mini-projects,\n",
    "    # second branch is for compatibility on final project.\n",
    "    if isinstance(sort_keys, str):\n",
    "        import pickle\n",
    "        keys = pickle.load(open(sort_keys, \"rb\"))\n",
    "    elif sort_keys:\n",
    "        keys = sorted(dictionary.keys())\n",
    "    else:\n",
    "        keys = dictionary.keys()\n",
    "\n",
    "    for key in keys:\n",
    "        tmp_list = []\n",
    "        for feature in features:\n",
    "            try:\n",
    "                dictionary[key][feature]\n",
    "            except KeyError:\n",
    "                print \"error: key \", feature, \" not present\"\n",
    "                return\n",
    "            value = dictionary[key][feature]\n",
    "            if value==\"NaN\" and remove_NaN:\n",
    "                value = 0\n",
    "            tmp_list.append( float(value) )\n",
    "\n",
    "        # Logic for deciding whether or not to add the data point.\n",
    "        append = True\n",
    "        # exclude 'poi' class as criteria.\n",
    "        if features[0] == 'poi':\n",
    "            test_list = tmp_list[1:]\n",
    "        else:\n",
    "            test_list = tmp_list\n",
    "        ### if all features are zero and you want to remove\n",
    "        ### data points that are all zero, do that here\n",
    "        if remove_all_zeroes:\n",
    "            append = False\n",
    "            for item in test_list:\n",
    "                if item != 0 and item != \"NaN\":\n",
    "                    append = True\n",
    "                    break\n",
    "        ### if any features for a given data point are zero\n",
    "        ### and you want to remove data points with any zeroes,\n",
    "        ### handle that here\n",
    "        if remove_any_zeroes:\n",
    "            if 0 in test_list or \"NaN\" in test_list:\n",
    "                append = False\n",
    "        ### Append the data point if flagged for addition.\n",
    "        if append:\n",
    "            return_list.append( np.array(tmp_list) )\n",
    "\n",
    "    return np.array(return_list)"
   ]
  },
  {
   "cell_type": "code",
   "execution_count": 3,
   "metadata": {
    "collapsed": true
   },
   "outputs": [],
   "source": [
    "def targetFeatureSplit( data ):\n",
    "    \"\"\" \n",
    "        given a numpy array like the one returned from\n",
    "        featureFormat, separate out the first feature\n",
    "        and put it into its own list (this should be the \n",
    "        quantity you want to predict)\n",
    "\n",
    "        return targets and features as separate lists\n",
    "\n",
    "        (sklearn can generally handle both lists and numpy arrays as \n",
    "        input formats when training/predicting)\n",
    "    \"\"\"\n",
    "\n",
    "    target = []\n",
    "    features = []\n",
    "    for item in data:\n",
    "        target.append( item[0] )\n",
    "        features.append( item[1:] )\n",
    "\n",
    "    return target, features"
   ]
  },
  {
   "cell_type": "code",
   "execution_count": 4,
   "metadata": {
    "collapsed": true
   },
   "outputs": [],
   "source": [
    "def Draw(pred, features, poi, mark_poi=False, name=\"image.png\",\n",
    "         f1_name=\"feature 1\", f2_name=\"feature 2\"):\n",
    "    \"\"\" some plotting code designed to help you visualize your clusters\"\"\"\n",
    "    ### plot each cluster with a different color-- add more colors for\n",
    "    ### drawing more than five clusters\n",
    "    colors= [\"b\", \"c\", \"k\", \"m\", \"g\"]\n",
    "    for ii, pp in enumerate(pred):\n",
    "        plt.scatter(features[ii][0], features[ii][1], color = colors[pred[ii]])\n",
    "    ### if you like, place red stars over points that are POIs\n",
    "    if mark_poi:\n",
    "        for ii, pp in enumerate(pred):\n",
    "            if poi[ii]:\n",
    "                plt.scatter(features[ii][0], features[ii][1], color=\"r\", marker=\"*\")\n",
    "    plt.xlabel(f1_name)\n",
    "    plt.ylabel(f2_name)\n",
    "    plt.savefig(name)\n",
    "    plt.show()"
   ]
  },
  {
   "cell_type": "code",
   "execution_count": 5,
   "metadata": {
    "collapsed": false
   },
   "outputs": [
    {
     "data": {
      "text/plain": [
       "{'bonus': 97343619,\n",
       " 'deferral_payments': 32083396,\n",
       " 'deferred_income': -27992891,\n",
       " 'director_fees': 1398517,\n",
       " 'email_address': 'NaN',\n",
       " 'exercised_stock_options': 311764000,\n",
       " 'expenses': 5235198,\n",
       " 'from_messages': 'NaN',\n",
       " 'from_poi_to_this_person': 'NaN',\n",
       " 'from_this_person_to_poi': 'NaN',\n",
       " 'loan_advances': 83925000,\n",
       " 'long_term_incentive': 48521928,\n",
       " 'other': 42667589,\n",
       " 'poi': False,\n",
       " 'restricted_stock': 130322299,\n",
       " 'restricted_stock_deferred': -7576788,\n",
       " 'salary': 26704229,\n",
       " 'shared_receipt_with_poi': 'NaN',\n",
       " 'to_messages': 'NaN',\n",
       " 'total_payments': 309886585,\n",
       " 'total_stock_value': 434509511}"
      ]
     },
     "execution_count": 5,
     "metadata": {},
     "output_type": "execute_result"
    }
   ],
   "source": [
    "### load in the dict of dicts containing all the data on each person in the dataset\n",
    "data_dict = pickle.load( open(\"../ud120-projects/final_project/final_project_dataset.pkl\", \"r\") )\n",
    "### there's an outlier--remove it! \n",
    "data_dict.pop(\"TOTAL\", 0)"
   ]
  },
  {
   "cell_type": "code",
   "execution_count": 6,
   "metadata": {
    "collapsed": false
   },
   "outputs": [],
   "source": [
    "### the input features we want to use \n",
    "### can be any key in the person-level dictionary (salary, director_fees, etc.) \n",
    "feature_1 = \"salary\"\n",
    "feature_2 = \"exercised_stock_options\"\n",
    "poi  = \"poi\"\n",
    "features_list = [poi, feature_1, feature_2]\n",
    "data = featureFormat(data_dict, features_list )\n",
    "poi, finance_features = targetFeatureSplit( data )"
   ]
  },
  {
   "cell_type": "code",
   "execution_count": 7,
   "metadata": {
    "collapsed": false
   },
   "outputs": [
    {
     "data": {
      "text/plain": [
       "list"
      ]
     },
     "execution_count": 7,
     "metadata": {},
     "output_type": "execute_result"
    }
   ],
   "source": [
    "type(finance_features)"
   ]
  },
  {
   "cell_type": "code",
   "execution_count": 8,
   "metadata": {
    "collapsed": false
   },
   "outputs": [
    {
     "data": {
      "text/plain": [
       "[array([ 365788.,       0.]),\n",
       " array([  267102.,  6680544.]),\n",
       " array([  170941.,  4890344.]),\n",
       " array([      0.,  651850.]),\n",
       " array([  243293.,  5538001.]),\n",
       " array([ 267093.,       0.]),\n",
       " array([      0.,  493489.]),\n",
       " array([  370448.,  1104054.]),\n",
       " array([       0.,  5210569.]),\n",
       " array([ 197091.,  880290.]),\n",
       " array([  130724.,  2282768.]),\n",
       " array([ 288589.,       0.]),\n",
       " array([ 248546.,  765313.]),\n",
       " array([ 257486.,       0.]),\n",
       " array([       0.,  2218275.]),\n",
       " array([      0.,  372205.]),\n",
       " array([ 288542.,       0.]),\n",
       " array([  251654.,  1056320.]),\n",
       " array([ 288558.,  185063.]),\n",
       " array([ 63744.,      0.]),\n",
       " array([       0.,  1030329.]),\n",
       " array([  357091.,  4346544.]),\n",
       " array([ 271442.,   81042.]),\n",
       " array([ 0.,  0.]),\n",
       " array([    0.,  3285.]),\n",
       " array([  304110.,  1441898.]),\n",
       " array([ 0.,  0.]),\n",
       " array([ 187922.,       0.]),\n",
       " array([ 0.,  0.]),\n",
       " array([  213625.,  1465734.]),\n",
       " array([  249201.,  1635238.]),\n",
       " array([     0.,  98718.]),\n",
       " array([ 231330.,       0.]),\n",
       " array([ 0.,  0.]),\n",
       " array([ 182245.,  601438.]),\n",
       " array([ 0.,  0.]),\n",
       " array([ 211788.,       0.]),\n",
       " array([ 0.,  0.]),\n",
       " array([      0.,  850477.]),\n",
       " array([ 0.,  0.]),\n",
       " array([      0.,  664375.]),\n",
       " array([ 224305.,       0.]),\n",
       " array([ 273746.,       0.]),\n",
       " array([  339288.,  4158995.]),\n",
       " array([  216582.,  1624396.]),\n",
       " array([  210500.,  2027865.]),\n",
       " array([ 0.,  0.]),\n",
       " array([ 0.,  0.]),\n",
       " array([ 272880.,  436515.]),\n",
       " array([  4.77000000e+02,   4.04615700e+06]),\n",
       " array([      0.,  371750.]),\n",
       " array([ 269076.,  607837.]),\n",
       " array([  428780.,  1835558.]),\n",
       " array([  211844.,  1624396.]),\n",
       " array([      0.,  412878.]),\n",
       " array([ 206121.,   17378.]),\n",
       " array([ 174246.,       0.]),\n",
       " array([  510364.,  3282960.]),\n",
       " array([  365038.,  1623010.]),\n",
       " array([ 0.,  0.]),\n",
       " array([  365163.,  2291113.]),\n",
       " array([  162779.,  1362375.]),\n",
       " array([      0.,  139130.]),\n",
       " array([  236457.,  2549361.]),\n",
       " array([ 0.,  0.]),\n",
       " array([  1072321.,  34348384.]),\n",
       " array([ 261516.,       0.]),\n",
       " array([  329078.,  1637034.]),\n",
       " array([      0.,  757301.]),\n",
       " array([ 184899.,       0.]),\n",
       " array([ 192008.,   83237.]),\n",
       " array([ 263413.,  506765.]),\n",
       " array([ 262663.,  187500.]),\n",
       " array([      0.,  759557.]),\n",
       " array([       0.,  1753766.]),\n",
       " array([ 374125.,  608750.]),\n",
       " array([ 278601.,       0.]),\n",
       " array([    0.,  9803.]),\n",
       " array([ 199157.,  664461.]),\n",
       " array([     0.,  59539.]),\n",
       " array([   96840.,  7509039.]),\n",
       " array([   80818.,  1599641.]),\n",
       " array([ 213999.,  953136.]),\n",
       " array([  210692.,  1451869.]),\n",
       " array([  222093.,  4452476.]),\n",
       " array([ 440698.,       0.]),\n",
       " array([      0.,  343434.]),\n",
       " array([ 240189.,       0.]),\n",
       " array([   420636.,  19794175.]),\n",
       " array([ 275101.,  850010.]),\n",
       " array([ 0.,  0.]),\n",
       " array([ 314288.,  117551.]),\n",
       " array([   94941.,  5266578.]),\n",
       " array([ 0.,  0.]),\n",
       " array([ 239502.,       0.]),\n",
       " array([  1111258.,  19250000.]),\n",
       " array([ 0.,  0.]),\n",
       " array([       0.,  1426469.]),\n",
       " array([      0.,  886231.]),\n",
       " array([ 6615.,     0.]),\n",
       " array([ 655037.,   28798.]),\n",
       " array([ 0.,  0.]),\n",
       " array([ 0.,  0.]),\n",
       " array([  404338.,  2022048.]),\n",
       " array([       0.,  1324578.]),\n",
       " array([  259996.,  1668260.]),\n",
       " array([  317543.,  1297049.]),\n",
       " array([       0.,  5127155.]),\n",
       " array([  201955.,  1729541.]),\n",
       " array([ 248146.,  281073.]),\n",
       " array([      0.,  431750.]),\n",
       " array([ 0.,  0.]),\n",
       " array([ 0.,  0.]),\n",
       " array([      0.,  257817.]),\n",
       " array([      0.,  754966.]),\n",
       " array([   76399.,  4160672.]),\n",
       " array([  262788.,  8191755.]),\n",
       " array([       0.,  2604490.]),\n",
       " array([ 261809.,       0.]),\n",
       " array([ 248017.,  825464.]),\n",
       " array([      0.,  192758.]),\n",
       " array([ 229284.,  400478.]),\n",
       " array([ 231946.,  636246.]),\n",
       " array([ 221003.,       0.]),\n",
       " array([  158403.,  8308552.]),\n",
       " array([        0.,  30766064.]),\n",
       " array([  250100.,  1550019.]),\n",
       " array([  492375.,  8831913.]),\n",
       " array([  1060932.,  10433518.]),\n",
       " array([   261879.,  15364167.]),\n",
       " array([ 239671.,       0.]),\n",
       " array([ 0.,  0.]),\n",
       " array([      0.,  176378.]),\n",
       " array([ 304588.,  940257.]),\n",
       " array([ 309946.,  671737.]),\n",
       " array([ 0.,  0.]),\n",
       " array([   85274.,  2165172.]),\n",
       " array([ 247338.,  591250.]),\n",
       " array([  349487.,  2070306.]),\n",
       " array([  330546.,  2542813.]),\n",
       " array([ 0.,  0.]),\n",
       " array([ 415189.,       0.]),\n",
       " array([  265214.,  3181250.]),\n",
       " array([ 278601.,  765920.]),\n",
       " array([ 274975.,  384728.])]"
      ]
     },
     "execution_count": 8,
     "metadata": {},
     "output_type": "execute_result"
    }
   ],
   "source": [
    "finance_features"
   ]
  },
  {
   "cell_type": "code",
   "execution_count": 9,
   "metadata": {
    "collapsed": false
   },
   "outputs": [
    {
     "data": {
      "text/plain": [
       "list"
      ]
     },
     "execution_count": 9,
     "metadata": {},
     "output_type": "execute_result"
    }
   ],
   "source": [
    "type(poi)"
   ]
  },
  {
   "cell_type": "code",
   "execution_count": 10,
   "metadata": {
    "collapsed": false
   },
   "outputs": [
    {
     "data": {
      "text/plain": [
       "[0.0,\n",
       " 0.0,\n",
       " 0.0,\n",
       " 0.0,\n",
       " 1.0,\n",
       " 0.0,\n",
       " 0.0,\n",
       " 0.0,\n",
       " 0.0,\n",
       " 0.0,\n",
       " 0.0,\n",
       " 0.0,\n",
       " 0.0,\n",
       " 0.0,\n",
       " 0.0,\n",
       " 0.0,\n",
       " 1.0,\n",
       " 0.0,\n",
       " 0.0,\n",
       " 0.0,\n",
       " 0.0,\n",
       " 0.0,\n",
       " 0.0,\n",
       " 0.0,\n",
       " 0.0,\n",
       " 0.0,\n",
       " 0.0,\n",
       " 0.0,\n",
       " 0.0,\n",
       " 0.0,\n",
       " 1.0,\n",
       " 0.0,\n",
       " 0.0,\n",
       " 0.0,\n",
       " 0.0,\n",
       " 0.0,\n",
       " 0.0,\n",
       " 0.0,\n",
       " 0.0,\n",
       " 0.0,\n",
       " 0.0,\n",
       " 1.0,\n",
       " 0.0,\n",
       " 0.0,\n",
       " 0.0,\n",
       " 0.0,\n",
       " 0.0,\n",
       " 0.0,\n",
       " 0.0,\n",
       " 0.0,\n",
       " 0.0,\n",
       " 0.0,\n",
       " 0.0,\n",
       " 1.0,\n",
       " 0.0,\n",
       " 0.0,\n",
       " 0.0,\n",
       " 0.0,\n",
       " 0.0,\n",
       " 0.0,\n",
       " 1.0,\n",
       " 0.0,\n",
       " 0.0,\n",
       " 0.0,\n",
       " 0.0,\n",
       " 1.0,\n",
       " 0.0,\n",
       " 0.0,\n",
       " 0.0,\n",
       " 0.0,\n",
       " 0.0,\n",
       " 0.0,\n",
       " 0.0,\n",
       " 0.0,\n",
       " 0.0,\n",
       " 0.0,\n",
       " 1.0,\n",
       " 0.0,\n",
       " 0.0,\n",
       " 0.0,\n",
       " 0.0,\n",
       " 0.0,\n",
       " 1.0,\n",
       " 0.0,\n",
       " 0.0,\n",
       " 1.0,\n",
       " 0.0,\n",
       " 1.0,\n",
       " 1.0,\n",
       " 0.0,\n",
       " 0.0,\n",
       " 0.0,\n",
       " 0.0,\n",
       " 0.0,\n",
       " 0.0,\n",
       " 1.0,\n",
       " 0.0,\n",
       " 0.0,\n",
       " 0.0,\n",
       " 0.0,\n",
       " 0.0,\n",
       " 0.0,\n",
       " 0.0,\n",
       " 0.0,\n",
       " 0.0,\n",
       " 0.0,\n",
       " 0.0,\n",
       " 0.0,\n",
       " 0.0,\n",
       " 0.0,\n",
       " 0.0,\n",
       " 0.0,\n",
       " 0.0,\n",
       " 0.0,\n",
       " 0.0,\n",
       " 0.0,\n",
       " 0.0,\n",
       " 0.0,\n",
       " 0.0,\n",
       " 0.0,\n",
       " 0.0,\n",
       " 0.0,\n",
       " 0.0,\n",
       " 0.0,\n",
       " 1.0,\n",
       " 1.0,\n",
       " 0.0,\n",
       " 0.0,\n",
       " 0.0,\n",
       " 0.0,\n",
       " 0.0,\n",
       " 0.0,\n",
       " 0.0,\n",
       " 0.0,\n",
       " 1.0,\n",
       " 0.0,\n",
       " 0.0,\n",
       " 0.0,\n",
       " 0.0,\n",
       " 0.0,\n",
       " 0.0,\n",
       " 1.0,\n",
       " 0.0,\n",
       " 0.0,\n",
       " 1.0]"
      ]
     },
     "execution_count": 10,
     "metadata": {},
     "output_type": "execute_result"
    }
   ],
   "source": [
    "poi"
   ]
  },
  {
   "cell_type": "code",
   "execution_count": 11,
   "metadata": {
    "collapsed": true
   },
   "outputs": [],
   "source": [
    "from sklearn.preprocessing import MinMaxScaler"
   ]
  },
  {
   "cell_type": "code",
   "execution_count": 12,
   "metadata": {
    "collapsed": true
   },
   "outputs": [],
   "source": [
    "scaler = MinMaxScaler()"
   ]
  },
  {
   "cell_type": "code",
   "execution_count": 13,
   "metadata": {
    "collapsed": true
   },
   "outputs": [],
   "source": [
    "rescaled_features = scaler.fit_transform(np.array(finance_features))"
   ]
  },
  {
   "cell_type": "code",
   "execution_count": 14,
   "metadata": {
    "collapsed": false
   },
   "outputs": [
    {
     "data": {
      "text/plain": [
       "array([[  3.29165684e-01,   0.00000000e+00],\n",
       "       [  2.40360024e-01,   1.94493691e-01],\n",
       "       [  1.53826564e-01,   1.42374791e-01],\n",
       "       [  0.00000000e+00,   1.89776031e-02],\n",
       "       [  2.18934757e-01,   1.61230322e-01],\n",
       "       [  2.40351925e-01,   0.00000000e+00],\n",
       "       [  0.00000000e+00,   1.43671679e-02],\n",
       "       [  3.33359130e-01,   3.21428222e-02],\n",
       "       [  0.00000000e+00,   1.51697646e-01],\n",
       "       [  1.77358453e-01,   2.56282799e-02],\n",
       "       [  1.17636049e-01,   6.64592547e-02],\n",
       "       [  2.59695768e-01,   0.00000000e+00],\n",
       "       [  2.23661832e-01,   2.22809026e-02],\n",
       "       [  2.31706768e-01,   0.00000000e+00],\n",
       "       [  0.00000000e+00,   6.45816409e-02],\n",
       "       [  0.00000000e+00,   1.08361721e-02],\n",
       "       [  2.59653474e-01,   0.00000000e+00],\n",
       "       [  2.26458662e-01,   3.07531207e-02],\n",
       "       [  2.59667872e-01,   5.38782261e-03],\n",
       "       [  5.73620167e-02,   0.00000000e+00],\n",
       "       [  0.00000000e+00,   2.99964330e-02],\n",
       "       [  3.21339419e-01,   1.26542896e-01],\n",
       "       [  2.44265508e-01,   2.35941231e-03],\n",
       "       [  0.00000000e+00,   0.00000000e+00],\n",
       "       [  0.00000000e+00,   9.56376871e-05],\n",
       "       [  2.73662822e-01,   4.19786270e-02],\n",
       "       [  0.00000000e+00,   0.00000000e+00],\n",
       "       [  1.69107444e-01,   0.00000000e+00],\n",
       "       [  0.00000000e+00,   0.00000000e+00],\n",
       "       [  1.92237086e-01,   4.26725752e-02],\n",
       "       [  2.24251254e-01,   4.76074216e-02],\n",
       "       [  0.00000000e+00,   2.87402167e-03],\n",
       "       [  2.08169480e-01,   0.00000000e+00],\n",
       "       [  0.00000000e+00,   0.00000000e+00],\n",
       "       [  1.63998819e-01,   1.75099358e-02],\n",
       "       [  0.00000000e+00,   0.00000000e+00],\n",
       "       [  1.90584005e-01,   0.00000000e+00],\n",
       "       [  0.00000000e+00,   0.00000000e+00],\n",
       "       [  0.00000000e+00,   2.47603206e-02],\n",
       "       [  0.00000000e+00,   0.00000000e+00],\n",
       "       [  0.00000000e+00,   1.93422491e-02],\n",
       "       [  2.01847816e-01,   0.00000000e+00],\n",
       "       [  2.46338834e-01,   0.00000000e+00],\n",
       "       [  3.05318837e-01,   1.21082698e-01],\n",
       "       [  1.94898034e-01,   4.72917736e-02],\n",
       "       [  1.89424958e-01,   5.90381486e-02],\n",
       "       [  0.00000000e+00,   0.00000000e+00],\n",
       "       [  0.00000000e+00,   0.00000000e+00],\n",
       "       [  2.45559537e-01,   1.27084581e-02],\n",
       "       [  4.29243254e-04,   1.17797594e-01],\n",
       "       [  0.00000000e+00,   1.08229255e-02],\n",
       "       [  2.42136390e-01,   1.76962328e-02],\n",
       "       [  3.85850990e-01,   5.34394282e-02],\n",
       "       [  1.90634398e-01,   4.72917736e-02],\n",
       "       [  0.00000000e+00,   1.20203035e-02],\n",
       "       [  1.85484379e-01,   5.05933554e-04],\n",
       "       [  1.56800671e-01,   0.00000000e+00],\n",
       "       [  4.59266885e-01,   9.55782956e-02],\n",
       "       [  3.28490774e-01,   4.72514224e-02],\n",
       "       [  0.00000000e+00,   0.00000000e+00],\n",
       "       [  3.28603259e-01,   6.67022064e-02],\n",
       "       [  1.46481735e-01,   3.96634380e-02],\n",
       "       [  0.00000000e+00,   4.05055446e-03],\n",
       "       [  2.12783170e-01,   7.42206970e-02],\n",
       "       [  0.00000000e+00,   0.00000000e+00],\n",
       "       [  9.64961332e-01,   1.00000000e+00],\n",
       "       [  2.35333289e-01,   0.00000000e+00],\n",
       "       [  2.96131051e-01,   4.76597094e-02],\n",
       "       [  0.00000000e+00,   2.20476457e-02],\n",
       "       [  1.66387104e-01,   0.00000000e+00],\n",
       "       [  1.72784358e-01,   2.42331633e-03],\n",
       "       [  2.37040363e-01,   1.47536781e-02],\n",
       "       [  2.36365452e-01,   5.45877209e-03],\n",
       "       [  0.00000000e+00,   2.21133256e-02],\n",
       "       [  0.00000000e+00,   5.10581808e-02],\n",
       "       [  3.36667992e-01,   1.77228134e-02],\n",
       "       [  2.50707756e-01,   0.00000000e+00],\n",
       "       [  0.00000000e+00,   2.85399162e-04],\n",
       "       [  1.79217607e-01,   1.93447529e-02],\n",
       "       [  0.00000000e+00,   1.73338577e-03],\n",
       "       [  8.71444795e-02,   2.18614040e-01],\n",
       "       [  7.27265855e-02,   4.65710701e-02],\n",
       "       [  1.92573642e-01,   2.77490784e-02],\n",
       "       [  1.89597735e-01,   4.22689172e-02],\n",
       "       [  1.99857279e-01,   1.29626943e-01],\n",
       "       [  3.96575773e-01,   0.00000000e+00],\n",
       "       [  0.00000000e+00,   9.99854899e-03],\n",
       "       [  2.16141526e-01,   0.00000000e+00],\n",
       "       [  3.78522359e-01,   5.76276747e-01],\n",
       "       [  2.47558173e-01,   2.47467246e-02],\n",
       "       [  0.00000000e+00,   0.00000000e+00],\n",
       "       [  2.82821811e-01,   3.42231530e-03],\n",
       "       [  8.54356054e-02,   1.53328261e-01],\n",
       "       [  0.00000000e+00,   0.00000000e+00],\n",
       "       [  2.15523308e-01,   0.00000000e+00],\n",
       "       [  1.00000000e+00,   5.60433935e-01],\n",
       "       [  0.00000000e+00,   0.00000000e+00],\n",
       "       [  0.00000000e+00,   4.15294356e-02],\n",
       "       [  0.00000000e+00,   2.58012429e-02],\n",
       "       [  5.95271305e-03,   0.00000000e+00],\n",
       "       [  5.89455374e-01,   8.38409166e-04],\n",
       "       [  0.00000000e+00,   0.00000000e+00],\n",
       "       [  0.00000000e+00,   0.00000000e+00],\n",
       "       [  3.63856098e-01,   5.88687957e-02],\n",
       "       [  0.00000000e+00,   3.85630369e-02],\n",
       "       [  2.33965470e-01,   4.85688060e-02],\n",
       "       [  2.85750924e-01,   3.77615727e-02],\n",
       "       [  0.00000000e+00,   1.49269177e-01],\n",
       "       [  1.81735475e-01,   5.03529074e-02],\n",
       "       [  2.23301879e-01,   8.18300506e-03],\n",
       "       [  0.00000000e+00,   1.25697325e-02],\n",
       "       [  0.00000000e+00,   0.00000000e+00],\n",
       "       [  0.00000000e+00,   0.00000000e+00],\n",
       "       [  0.00000000e+00,   7.50594264e-03],\n",
       "       [  0.00000000e+00,   2.19796658e-02],\n",
       "       [  6.87500112e-02,   1.21131521e-01],\n",
       "       [  2.36477938e-01,   2.38490259e-01],\n",
       "       [  0.00000000e+00,   7.58256924e-02],\n",
       "       [  2.35596954e-01,   0.00000000e+00],\n",
       "       [  2.23185795e-01,   2.40321058e-02],\n",
       "       [  0.00000000e+00,   5.61185062e-03],\n",
       "       [  2.06328323e-01,   1.16592967e-02],\n",
       "       [  2.08723807e-01,   1.85233168e-02],\n",
       "       [  1.98876409e-01,   0.00000000e+00],\n",
       "       [  1.42543856e-01,   2.41890623e-01],\n",
       "       [  0.00000000e+00,   8.95706302e-01],\n",
       "       [  2.25060247e-01,   4.51264025e-02],\n",
       "       [  4.43078925e-01,   2.57127468e-01],\n",
       "       [  9.54712587e-01,   3.03755717e-01],\n",
       "       [  2.35659946e-01,   4.47303926e-01],\n",
       "       [  2.15675388e-01,   0.00000000e+00],\n",
       "       [  0.00000000e+00,   0.00000000e+00],\n",
       "       [  0.00000000e+00,   5.13497229e-03],\n",
       "       [  2.74092965e-01,   2.73741262e-02],\n",
       "       [  2.78914527e-01,   1.95565823e-02],\n",
       "       [  0.00000000e+00,   0.00000000e+00],\n",
       "       [  7.67364554e-02,   6.30356293e-02],\n",
       "       [  2.22574776e-01,   1.72133280e-02],\n",
       "       [  3.14496724e-01,   6.02737526e-02],\n",
       "       [  2.97452077e-01,   7.40300621e-02],\n",
       "       [  0.00000000e+00,   0.00000000e+00],\n",
       "       [  3.73620707e-01,   0.00000000e+00],\n",
       "       [  2.38661049e-01,   9.26171665e-02],\n",
       "       [  2.50707756e-01,   2.22985745e-02],\n",
       "       [  2.47444788e-01,   1.12007598e-02]])"
      ]
     },
     "execution_count": 14,
     "metadata": {},
     "output_type": "execute_result"
    }
   ],
   "source": [
    "rescaled_features"
   ]
  },
  {
   "cell_type": "code",
   "execution_count": 15,
   "metadata": {
    "collapsed": false
   },
   "outputs": [
    {
     "name": "stderr",
     "output_type": "stream",
     "text": [
      "/Users/alonavarshal/anaconda/lib/python2.7/site-packages/sklearn/preprocessing/data.py:356: DeprecationWarning: Passing 1d arrays as data is deprecated in 0.17 and will raise ValueError in 0.19. Reshape your data either using X.reshape(-1, 1) if your data has a single feature or X.reshape(1, -1) if it contains a single sample.\n",
      "  warnings.warn(DEPRECATION_MSG_1D, DeprecationWarning)\n"
     ]
    }
   ],
   "source": [
    "rescaled_datapoint = scaler.transform(np.array([2.0e+5, 1.0e+6]))"
   ]
  },
  {
   "cell_type": "code",
   "execution_count": 16,
   "metadata": {
    "collapsed": false
   },
   "outputs": [
    {
     "data": {
      "text/plain": [
       "array([ 0.17997621,  0.02911345])"
      ]
     },
     "execution_count": 16,
     "metadata": {},
     "output_type": "execute_result"
    }
   ],
   "source": [
    "rescaled_datapoint"
   ]
  },
  {
   "cell_type": "markdown",
   "metadata": {},
   "source": [
    "Found another way:"
   ]
  },
  {
   "cell_type": "code",
   "execution_count": 42,
   "metadata": {
    "collapsed": true
   },
   "outputs": [],
   "source": [
    "finance_features.append(np.array(np.array([200000.0, 1000000.0])))"
   ]
  },
  {
   "cell_type": "code",
   "execution_count": 45,
   "metadata": {
    "collapsed": false
   },
   "outputs": [
    {
     "data": {
      "text/plain": [
       "[array([ 365788.,       0.]),\n",
       " array([  267102.,  6680544.]),\n",
       " array([  170941.,  4890344.]),\n",
       " array([      0.,  651850.]),\n",
       " array([  243293.,  5538001.]),\n",
       " array([ 267093.,       0.]),\n",
       " array([      0.,  493489.]),\n",
       " array([  370448.,  1104054.]),\n",
       " array([       0.,  5210569.]),\n",
       " array([ 197091.,  880290.]),\n",
       " array([  130724.,  2282768.]),\n",
       " array([ 288589.,       0.]),\n",
       " array([ 248546.,  765313.]),\n",
       " array([ 257486.,       0.]),\n",
       " array([       0.,  2218275.]),\n",
       " array([      0.,  372205.]),\n",
       " array([ 288542.,       0.]),\n",
       " array([  251654.,  1056320.]),\n",
       " array([ 288558.,  185063.]),\n",
       " array([ 63744.,      0.]),\n",
       " array([       0.,  1030329.]),\n",
       " array([  357091.,  4346544.]),\n",
       " array([ 271442.,   81042.]),\n",
       " array([ 0.,  0.]),\n",
       " array([    0.,  3285.]),\n",
       " array([  304110.,  1441898.]),\n",
       " array([ 0.,  0.]),\n",
       " array([ 187922.,       0.]),\n",
       " array([ 0.,  0.]),\n",
       " array([  213625.,  1465734.]),\n",
       " array([  249201.,  1635238.]),\n",
       " array([     0.,  98718.]),\n",
       " array([ 231330.,       0.]),\n",
       " array([ 0.,  0.]),\n",
       " array([ 182245.,  601438.]),\n",
       " array([ 0.,  0.]),\n",
       " array([ 211788.,       0.]),\n",
       " array([ 0.,  0.]),\n",
       " array([      0.,  850477.]),\n",
       " array([ 0.,  0.]),\n",
       " array([      0.,  664375.]),\n",
       " array([ 224305.,       0.]),\n",
       " array([ 273746.,       0.]),\n",
       " array([  339288.,  4158995.]),\n",
       " array([  216582.,  1624396.]),\n",
       " array([  210500.,  2027865.]),\n",
       " array([ 0.,  0.]),\n",
       " array([ 0.,  0.]),\n",
       " array([ 272880.,  436515.]),\n",
       " array([  4.77000000e+02,   4.04615700e+06]),\n",
       " array([      0.,  371750.]),\n",
       " array([ 269076.,  607837.]),\n",
       " array([  428780.,  1835558.]),\n",
       " array([  211844.,  1624396.]),\n",
       " array([      0.,  412878.]),\n",
       " array([ 206121.,   17378.]),\n",
       " array([ 174246.,       0.]),\n",
       " array([  510364.,  3282960.]),\n",
       " array([  365038.,  1623010.]),\n",
       " array([ 0.,  0.]),\n",
       " array([  365163.,  2291113.]),\n",
       " array([  162779.,  1362375.]),\n",
       " array([      0.,  139130.]),\n",
       " array([  236457.,  2549361.]),\n",
       " array([ 0.,  0.]),\n",
       " array([  1072321.,  34348384.]),\n",
       " array([ 261516.,       0.]),\n",
       " array([  329078.,  1637034.]),\n",
       " array([      0.,  757301.]),\n",
       " array([ 184899.,       0.]),\n",
       " array([ 192008.,   83237.]),\n",
       " array([ 263413.,  506765.]),\n",
       " array([ 262663.,  187500.]),\n",
       " array([      0.,  759557.]),\n",
       " array([       0.,  1753766.]),\n",
       " array([ 374125.,  608750.]),\n",
       " array([ 278601.,       0.]),\n",
       " array([    0.,  9803.]),\n",
       " array([ 199157.,  664461.]),\n",
       " array([     0.,  59539.]),\n",
       " array([   96840.,  7509039.]),\n",
       " array([   80818.,  1599641.]),\n",
       " array([ 213999.,  953136.]),\n",
       " array([  210692.,  1451869.]),\n",
       " array([  222093.,  4452476.]),\n",
       " array([ 440698.,       0.]),\n",
       " array([      0.,  343434.]),\n",
       " array([ 240189.,       0.]),\n",
       " array([   420636.,  19794175.]),\n",
       " array([ 275101.,  850010.]),\n",
       " array([ 0.,  0.]),\n",
       " array([ 314288.,  117551.]),\n",
       " array([   94941.,  5266578.]),\n",
       " array([ 0.,  0.]),\n",
       " array([ 239502.,       0.]),\n",
       " array([  1111258.,  19250000.]),\n",
       " array([ 0.,  0.]),\n",
       " array([       0.,  1426469.]),\n",
       " array([      0.,  886231.]),\n",
       " array([ 6615.,     0.]),\n",
       " array([ 655037.,   28798.]),\n",
       " array([ 0.,  0.]),\n",
       " array([ 0.,  0.]),\n",
       " array([  404338.,  2022048.]),\n",
       " array([       0.,  1324578.]),\n",
       " array([  259996.,  1668260.]),\n",
       " array([  317543.,  1297049.]),\n",
       " array([       0.,  5127155.]),\n",
       " array([  201955.,  1729541.]),\n",
       " array([ 248146.,  281073.]),\n",
       " array([      0.,  431750.]),\n",
       " array([ 0.,  0.]),\n",
       " array([ 0.,  0.]),\n",
       " array([      0.,  257817.]),\n",
       " array([      0.,  754966.]),\n",
       " array([   76399.,  4160672.]),\n",
       " array([  262788.,  8191755.]),\n",
       " array([       0.,  2604490.]),\n",
       " array([ 261809.,       0.]),\n",
       " array([ 248017.,  825464.]),\n",
       " array([      0.,  192758.]),\n",
       " array([ 229284.,  400478.]),\n",
       " array([ 231946.,  636246.]),\n",
       " array([ 221003.,       0.]),\n",
       " array([  158403.,  8308552.]),\n",
       " array([        0.,  30766064.]),\n",
       " array([  250100.,  1550019.]),\n",
       " array([  492375.,  8831913.]),\n",
       " array([  1060932.,  10433518.]),\n",
       " array([   261879.,  15364167.]),\n",
       " array([ 239671.,       0.]),\n",
       " array([ 0.,  0.]),\n",
       " array([      0.,  176378.]),\n",
       " array([ 304588.,  940257.]),\n",
       " array([ 309946.,  671737.]),\n",
       " array([ 0.,  0.]),\n",
       " array([   85274.,  2165172.]),\n",
       " array([ 247338.,  591250.]),\n",
       " array([  349487.,  2070306.]),\n",
       " array([  330546.,  2542813.]),\n",
       " array([ 0.,  0.]),\n",
       " array([ 415189.,       0.]),\n",
       " array([  265214.,  3181250.]),\n",
       " array([ 278601.,  765920.]),\n",
       " array([ 274975.,  384728.]),\n",
       " array([  200000.,  1000000.])]"
      ]
     },
     "execution_count": 45,
     "metadata": {},
     "output_type": "execute_result"
    }
   ],
   "source": [
    "finance_features"
   ]
  },
  {
   "cell_type": "markdown",
   "metadata": {},
   "source": [
    "Data point can be found at the bottom of the list above.\n",
    "\n",
    "Rescale the appended list:"
   ]
  },
  {
   "cell_type": "code",
   "execution_count": 43,
   "metadata": {
    "collapsed": true
   },
   "outputs": [],
   "source": [
    "rescaled_finance_features = scaler.fit_transform(finance_features)"
   ]
  },
  {
   "cell_type": "code",
   "execution_count": 44,
   "metadata": {
    "collapsed": false
   },
   "outputs": [
    {
     "data": {
      "text/plain": [
       "array([[  3.29165684e-01,   0.00000000e+00],\n",
       "       [  2.40360024e-01,   1.94493691e-01],\n",
       "       [  1.53826564e-01,   1.42374791e-01],\n",
       "       [  0.00000000e+00,   1.89776031e-02],\n",
       "       [  2.18934757e-01,   1.61230322e-01],\n",
       "       [  2.40351925e-01,   0.00000000e+00],\n",
       "       [  0.00000000e+00,   1.43671679e-02],\n",
       "       [  3.33359130e-01,   3.21428222e-02],\n",
       "       [  0.00000000e+00,   1.51697646e-01],\n",
       "       [  1.77358453e-01,   2.56282799e-02],\n",
       "       [  1.17636049e-01,   6.64592547e-02],\n",
       "       [  2.59695768e-01,   0.00000000e+00],\n",
       "       [  2.23661832e-01,   2.22809026e-02],\n",
       "       [  2.31706768e-01,   0.00000000e+00],\n",
       "       [  0.00000000e+00,   6.45816409e-02],\n",
       "       [  0.00000000e+00,   1.08361721e-02],\n",
       "       [  2.59653474e-01,   0.00000000e+00],\n",
       "       [  2.26458662e-01,   3.07531207e-02],\n",
       "       [  2.59667872e-01,   5.38782261e-03],\n",
       "       [  5.73620167e-02,   0.00000000e+00],\n",
       "       [  0.00000000e+00,   2.99964330e-02],\n",
       "       [  3.21339419e-01,   1.26542896e-01],\n",
       "       [  2.44265508e-01,   2.35941231e-03],\n",
       "       [  0.00000000e+00,   0.00000000e+00],\n",
       "       [  0.00000000e+00,   9.56376871e-05],\n",
       "       [  2.73662822e-01,   4.19786270e-02],\n",
       "       [  0.00000000e+00,   0.00000000e+00],\n",
       "       [  1.69107444e-01,   0.00000000e+00],\n",
       "       [  0.00000000e+00,   0.00000000e+00],\n",
       "       [  1.92237086e-01,   4.26725752e-02],\n",
       "       [  2.24251254e-01,   4.76074216e-02],\n",
       "       [  0.00000000e+00,   2.87402167e-03],\n",
       "       [  2.08169480e-01,   0.00000000e+00],\n",
       "       [  0.00000000e+00,   0.00000000e+00],\n",
       "       [  1.63998819e-01,   1.75099358e-02],\n",
       "       [  0.00000000e+00,   0.00000000e+00],\n",
       "       [  1.90584005e-01,   0.00000000e+00],\n",
       "       [  0.00000000e+00,   0.00000000e+00],\n",
       "       [  0.00000000e+00,   2.47603206e-02],\n",
       "       [  0.00000000e+00,   0.00000000e+00],\n",
       "       [  0.00000000e+00,   1.93422491e-02],\n",
       "       [  2.01847816e-01,   0.00000000e+00],\n",
       "       [  2.46338834e-01,   0.00000000e+00],\n",
       "       [  3.05318837e-01,   1.21082698e-01],\n",
       "       [  1.94898034e-01,   4.72917736e-02],\n",
       "       [  1.89424958e-01,   5.90381486e-02],\n",
       "       [  0.00000000e+00,   0.00000000e+00],\n",
       "       [  0.00000000e+00,   0.00000000e+00],\n",
       "       [  2.45559537e-01,   1.27084581e-02],\n",
       "       [  4.29243254e-04,   1.17797594e-01],\n",
       "       [  0.00000000e+00,   1.08229255e-02],\n",
       "       [  2.42136390e-01,   1.76962328e-02],\n",
       "       [  3.85850990e-01,   5.34394282e-02],\n",
       "       [  1.90634398e-01,   4.72917736e-02],\n",
       "       [  0.00000000e+00,   1.20203035e-02],\n",
       "       [  1.85484379e-01,   5.05933554e-04],\n",
       "       [  1.56800671e-01,   0.00000000e+00],\n",
       "       [  4.59266885e-01,   9.55782956e-02],\n",
       "       [  3.28490774e-01,   4.72514224e-02],\n",
       "       [  0.00000000e+00,   0.00000000e+00],\n",
       "       [  3.28603259e-01,   6.67022064e-02],\n",
       "       [  1.46481735e-01,   3.96634380e-02],\n",
       "       [  0.00000000e+00,   4.05055446e-03],\n",
       "       [  2.12783170e-01,   7.42206970e-02],\n",
       "       [  0.00000000e+00,   0.00000000e+00],\n",
       "       [  9.64961332e-01,   1.00000000e+00],\n",
       "       [  2.35333289e-01,   0.00000000e+00],\n",
       "       [  2.96131051e-01,   4.76597094e-02],\n",
       "       [  0.00000000e+00,   2.20476457e-02],\n",
       "       [  1.66387104e-01,   0.00000000e+00],\n",
       "       [  1.72784358e-01,   2.42331633e-03],\n",
       "       [  2.37040363e-01,   1.47536781e-02],\n",
       "       [  2.36365452e-01,   5.45877209e-03],\n",
       "       [  0.00000000e+00,   2.21133256e-02],\n",
       "       [  0.00000000e+00,   5.10581808e-02],\n",
       "       [  3.36667992e-01,   1.77228134e-02],\n",
       "       [  2.50707756e-01,   0.00000000e+00],\n",
       "       [  0.00000000e+00,   2.85399162e-04],\n",
       "       [  1.79217607e-01,   1.93447529e-02],\n",
       "       [  0.00000000e+00,   1.73338577e-03],\n",
       "       [  8.71444795e-02,   2.18614040e-01],\n",
       "       [  7.27265855e-02,   4.65710701e-02],\n",
       "       [  1.92573642e-01,   2.77490784e-02],\n",
       "       [  1.89597735e-01,   4.22689172e-02],\n",
       "       [  1.99857279e-01,   1.29626943e-01],\n",
       "       [  3.96575773e-01,   0.00000000e+00],\n",
       "       [  0.00000000e+00,   9.99854899e-03],\n",
       "       [  2.16141526e-01,   0.00000000e+00],\n",
       "       [  3.78522359e-01,   5.76276747e-01],\n",
       "       [  2.47558173e-01,   2.47467246e-02],\n",
       "       [  0.00000000e+00,   0.00000000e+00],\n",
       "       [  2.82821811e-01,   3.42231530e-03],\n",
       "       [  8.54356054e-02,   1.53328261e-01],\n",
       "       [  0.00000000e+00,   0.00000000e+00],\n",
       "       [  2.15523308e-01,   0.00000000e+00],\n",
       "       [  1.00000000e+00,   5.60433935e-01],\n",
       "       [  0.00000000e+00,   0.00000000e+00],\n",
       "       [  0.00000000e+00,   4.15294356e-02],\n",
       "       [  0.00000000e+00,   2.58012429e-02],\n",
       "       [  5.95271305e-03,   0.00000000e+00],\n",
       "       [  5.89455374e-01,   8.38409166e-04],\n",
       "       [  0.00000000e+00,   0.00000000e+00],\n",
       "       [  0.00000000e+00,   0.00000000e+00],\n",
       "       [  3.63856098e-01,   5.88687957e-02],\n",
       "       [  0.00000000e+00,   3.85630369e-02],\n",
       "       [  2.33965470e-01,   4.85688060e-02],\n",
       "       [  2.85750924e-01,   3.77615727e-02],\n",
       "       [  0.00000000e+00,   1.49269177e-01],\n",
       "       [  1.81735475e-01,   5.03529074e-02],\n",
       "       [  2.23301879e-01,   8.18300506e-03],\n",
       "       [  0.00000000e+00,   1.25697325e-02],\n",
       "       [  0.00000000e+00,   0.00000000e+00],\n",
       "       [  0.00000000e+00,   0.00000000e+00],\n",
       "       [  0.00000000e+00,   7.50594264e-03],\n",
       "       [  0.00000000e+00,   2.19796658e-02],\n",
       "       [  6.87500112e-02,   1.21131521e-01],\n",
       "       [  2.36477938e-01,   2.38490259e-01],\n",
       "       [  0.00000000e+00,   7.58256924e-02],\n",
       "       [  2.35596954e-01,   0.00000000e+00],\n",
       "       [  2.23185795e-01,   2.40321058e-02],\n",
       "       [  0.00000000e+00,   5.61185062e-03],\n",
       "       [  2.06328323e-01,   1.16592967e-02],\n",
       "       [  2.08723807e-01,   1.85233168e-02],\n",
       "       [  1.98876409e-01,   0.00000000e+00],\n",
       "       [  1.42543856e-01,   2.41890623e-01],\n",
       "       [  0.00000000e+00,   8.95706302e-01],\n",
       "       [  2.25060247e-01,   4.51264025e-02],\n",
       "       [  4.43078925e-01,   2.57127468e-01],\n",
       "       [  9.54712587e-01,   3.03755717e-01],\n",
       "       [  2.35659946e-01,   4.47303926e-01],\n",
       "       [  2.15675388e-01,   0.00000000e+00],\n",
       "       [  0.00000000e+00,   0.00000000e+00],\n",
       "       [  0.00000000e+00,   5.13497229e-03],\n",
       "       [  2.74092965e-01,   2.73741262e-02],\n",
       "       [  2.78914527e-01,   1.95565823e-02],\n",
       "       [  0.00000000e+00,   0.00000000e+00],\n",
       "       [  7.67364554e-02,   6.30356293e-02],\n",
       "       [  2.22574776e-01,   1.72133280e-02],\n",
       "       [  3.14496724e-01,   6.02737526e-02],\n",
       "       [  2.97452077e-01,   7.40300621e-02],\n",
       "       [  0.00000000e+00,   0.00000000e+00],\n",
       "       [  3.73620707e-01,   0.00000000e+00],\n",
       "       [  2.38661049e-01,   9.26171665e-02],\n",
       "       [  2.50707756e-01,   2.22985745e-02],\n",
       "       [  2.47444788e-01,   1.12007598e-02],\n",
       "       [  1.79976207e-01,   2.91134512e-02]])"
      ]
     },
     "execution_count": 44,
     "metadata": {},
     "output_type": "execute_result"
    }
   ],
   "source": [
    "rescaled_finance_features"
   ]
  },
  {
   "cell_type": "markdown",
   "metadata": {},
   "source": [
    "Answer is the values at the bottom of rescaled_finance_features array."
   ]
  },
  {
   "cell_type": "markdown",
   "metadata": {},
   "source": [
    "#### When to Deploy Feature Scaling\n",
    "\n",
    "One could argue about whether rescaling the financial data is strictly necessary, perhaps we want to keep the information that a $100,000 salary and $40,000,000 in stock options are dramatically different quantities. What if we wanted to cluster based on “from_messages” (the number of email messages sent from a particular email account) and “salary”? Would feature scaling be unnecessary in this case, or critical?\n",
    "\n",
    "- critical"
   ]
  },
  {
   "cell_type": "markdown",
   "metadata": {},
   "source": [
    "#### Extra: k-means clustering using the rescaled_features"
   ]
  },
  {
   "cell_type": "code",
   "execution_count": 19,
   "metadata": {
    "collapsed": false
   },
   "outputs": [
    {
     "data": {
      "image/png": "[encoded data removed]",
      "text/plain": [
       "<matplotlib.figure.Figure at 0x10edf2450>"
      ]
     },
     "metadata": {},
     "output_type": "display_data"
    }
   ],
   "source": [
    "### in the \"clustering with 3 features\" part of the mini-project,\n",
    "### you'll want to change this line to \n",
    "### for f1, f2, _ in finance_features:\n",
    "### (as it's currently written, the line below assumes 2 features)\n",
    "for f1, f2 in rescaled_features:\n",
    "    plt.scatter( f1, f2 )\n",
    "plt.xlabel('salary')\n",
    "plt.ylabel('exercised stock options')\n",
    "plt.show()"
   ]
  },
  {
   "cell_type": "markdown",
   "metadata": {},
   "source": [
    "Cluster here. Create predictions of the cluster labels for the data and store them to a list called pred.\n",
    "\n",
    "Example code can be found here:\n",
    "\n",
    "http://scikit-learn.org/stable/modules/generated/sklearn.cluster.KMeans.html#sklearn.cluster.KMeans"
   ]
  },
  {
   "cell_type": "code",
   "execution_count": 20,
   "metadata": {
    "collapsed": true
   },
   "outputs": [],
   "source": [
    "from sklearn.cluster import KMeans"
   ]
  },
  {
   "cell_type": "code",
   "execution_count": 24,
   "metadata": {
    "collapsed": false
   },
   "outputs": [],
   "source": [
    "kmeans = KMeans(n_clusters=2, random_state=42).fit(rescaled_features)"
   ]
  },
  {
   "cell_type": "code",
   "execution_count": 25,
   "metadata": {
    "collapsed": false
   },
   "outputs": [],
   "source": [
    "pred = kmeans.predict(rescaled_features)"
   ]
  },
  {
   "cell_type": "markdown",
   "metadata": {},
   "source": [
    "Rename the \"name\" parameter when you change the number of features so that the figure gets save to a different file:"
   ]
  },
  {
   "cell_type": "code",
   "execution_count": 26,
   "metadata": {
    "collapsed": false
   },
   "outputs": [
    {
     "data": {
      "image/png": "[encoded data removed]",
      "text/plain": [
       "<matplotlib.figure.Figure at 0x110f7f410>"
      ]
     },
     "metadata": {},
     "output_type": "display_data"
    }
   ],
   "source": [
    "try:\n",
    "    Draw(pred, rescaled_features, poi, mark_poi=False, name=\"clusters121016.pdf\", f1_name=feature_1, f2_name=feature_2)\n",
    "except NameError:\n",
    "    print \"no predictions object named pred found, no clusters to plot\"\n"
   ]
  },
  {
   "cell_type": "code",
   "execution_count": 27,
   "metadata": {
    "collapsed": false
   },
   "outputs": [
    {
     "data": {
      "image/png": "[encoded data removed]",
      "text/plain": [
       "<matplotlib.figure.Figure at 0x10ec8e510>"
      ]
     },
     "metadata": {},
     "output_type": "display_data"
    }
   ],
   "source": [
    "try:\n",
    "    Draw(pred, rescaled_features, poi, mark_poi=True, name=\"clusters121016b.pdf\", f1_name=feature_1, f2_name=feature_2)\n",
    "except NameError:\n",
    "    print \"no predictions object named pred found, no clusters to plot\"\n"
   ]
  },
  {
   "cell_type": "markdown",
   "metadata": {
    "collapsed": true
   },
   "source": [
    "<- compare with previous un-scaled features"
   ]
  },
  {
   "cell_type": "code",
   "execution_count": null,
   "metadata": {
    "collapsed": true
   },
   "outputs": [],
   "source": []
  }
 ],
 "metadata": {
  "anaconda-cloud": {},
  "kernelspec": {
   "display_name": "Python [default]",
   "language": "python",
   "name": "python2"
  },
  "language_info": {
   "codemirror_mode": {
    "name": "ipython",
    "version": 2
   },
   "file_extension": ".py",
   "mimetype": "text/x-python",
   "name": "python",
   "nbconvert_exporter": "python",
   "pygments_lexer": "ipython2",
   "version": "2.7.12"
  }
 },
 "nbformat": 4,
 "nbformat_minor": 0
}
