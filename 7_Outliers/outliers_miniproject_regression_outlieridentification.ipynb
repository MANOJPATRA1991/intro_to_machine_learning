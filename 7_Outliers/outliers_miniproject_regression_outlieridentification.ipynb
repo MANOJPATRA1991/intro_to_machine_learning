{
 "cells": [
  {
   "cell_type": "markdown",
   "metadata": {},
   "source": [
    "## Method for dealing with outliers:\n",
    "\n",
    "1. train\n",
    "2. remove outliers (~10% of data) (wiht largest residual error)\n",
    "3. re-train\n",
    "\n",
    "2 and 3 can be repeated"
   ]
  },
  {
   "cell_type": "markdown",
   "metadata": {},
   "source": [
    "## Outliers Mini-Project\n",
    "\n",
    "This project has two parts. In the first part, you will run a regression, and identify and remove the 10% of points that have the largest residual errors. Then you’ll remove those outliers from the dataset and refit the regression, just like the strategy that Sebastian suggested in the lesson videos.\n",
    "\n",
    "In the second part, you will get acquainted with some of the outliers in the Enron finance data, and learn if/how to remove them."
   ]
  },
  {
   "cell_type": "markdown",
   "metadata": {},
   "source": [
    "### Slope of Regression with Outliers"
   ]
  },
  {
   "cell_type": "markdown",
   "metadata": {},
   "source": [
    "Sebastian described to us an algorithm for improving a regression, which you will implement in this project. You will work through it in the next few quizzes. To summarize, what you'll do is fit the regression on all training points discard the 10% of points that have the largest errors between the actual y values, and the regression-predicted y values refit on the remaining points.\n",
    "\n",
    "Start by running the starter code (outliers/outlier_removal_regression.py) and visualizing the points. \n",
    "\n",
    "https://github.com/mudspringhiker/ud120-projects/tree/master/outliers\n",
    "\n",
    "A few outliers should clearly pop out. Deploy a linear regression, where net worth is the target and the feature being used to predict it is a person’s age (remember to train on the training data!).\n",
    "\n",
    "The “correct” slope for the main body of data points is 6.25 (we know this because we used this value to generate the data); what slope does your regression have?\n"
   ]
  },
  {
   "cell_type": "code",
   "execution_count": 2,
   "metadata": {
    "collapsed": true
   },
   "outputs": [],
   "source": [
    "import random\n",
    "import numpy as np\n",
    "import matplotlib.pyplot as plt\n",
    "import pickle\n",
    "%matplotlib inline\n",
    "\n",
    "# from outlier_cleaner import outlierCleaner"
   ]
  },
  {
   "cell_type": "markdown",
   "metadata": {},
   "source": [
    "Load up some practice data with outliers in it:"
   ]
  },
  {
   "cell_type": "code",
   "execution_count": 3,
   "metadata": {
    "collapsed": true
   },
   "outputs": [],
   "source": [
    "ages = pickle.load(open(\"../ud120-projects/outliers/practice_outliers_ages.pkl\", \"r\"))"
   ]
  },
  {
   "cell_type": "code",
   "execution_count": 4,
   "metadata": {
    "collapsed": false
   },
   "outputs": [
    {
     "name": "stdout",
     "output_type": "stream",
     "text": [
      "[49, 21, 32, 30, 53, 51, 61, 23, 39, 21, 30, 43, 21, 29, 49, 45, 30, 47, 57, 20, 57, 52, 35, 27, 64, 35, 24, 24, 58, 47, 57, 53, 44, 64, 37, 45, 58, 48, 59, 46, 52, 22, 30, 33, 23, 30, 24, 32, 49, 36, 37, 29, 32, 63, 49, 48, 27, 53, 27, 37, 65, 49, 45, 51, 58, 55, 30, 21, 34, 32, 29, 63, 60, 34, 50, 38, 62, 41, 32, 31, 45, 32, 46, 61, 38, 30, 65, 43, 24, 22, 25, 48, 56, 39, 22, 37, 65, 44, 64, 59]\n"
     ]
    }
   ],
   "source": [
    "print ages"
   ]
  },
  {
   "cell_type": "code",
   "execution_count": 5,
   "metadata": {
    "collapsed": true
   },
   "outputs": [],
   "source": [
    "net_worths = pickle.load(open(\"../ud120-projects/outliers/practice_outliers_net_worths.pkl\", \"r\"))"
   ]
  },
  {
   "cell_type": "code",
   "execution_count": 6,
   "metadata": {
    "collapsed": false
   },
   "outputs": [
    {
     "name": "stdout",
     "output_type": "stream",
     "text": [
      "[316.18428306022463, 128.4847139765763, 212.95377076201385, 217.96059712816052, 326.56693250553326, 314.0672608610164, 412.83425631014785, 159.09869458305818, 234.36051228130097, 142.1012008717193, 178.23164614375077, 259.43540492859483, 136.08924543132068, 142.98439510684403, 271.75164334973937, 270.00424941518054, 167.24337759331152, 300.0349466519055, 338.08951848957577, 96.75392597329417, 385.5629753784311, 320.4844739902693, 220.10056409375846, 140.25503627573087, 389.1123455094963, 220.96845179419734, 126.98012845155395, 157.51396036691344, 350.4872262016239, 287.91612500413447, 344.21586775541203, 368.29556369017877, 274.7300555052413, 378.84578142088196, 247.70089824206377, 256.83312700057957, 366.6772719000951, 260.8065975224045, 342.1862790220314, 291.4372247173825, 339.7693315999082, 140.9273656237994, 185.1870343522352, 200.22792608821422, 114.17956019265145, 173.10311583210583, 140.78722458080426, 221.1424445243783, 313.12236579136925, 189.73919689274533, 237.7316793878959, 173.54835439167368, 186.46155999388083, 405.9835257768174, 326.86999044991904, 318.62560238232396, 151.96564953554724, 325.0657524829757, 175.37526862807127, 250.76090254244718, 396.6665152430942, 302.53682046672367, 259.1233005198794, 294.8258675183866, 378.75051644788397, 370.8748005714165, 186.05979756839332, 151.32065795784047, 219.7327205009527, 187.0976049078975, 188.4779121101683, 424.51073132931936, 374.28347921780096, 243.79287311628013, 260.1050979182051, 253.93805008750448, 389.24094136476344, 250.26985299068266, 201.83521553071006, 153.99862170798215, 276.85656224324975, 207.14225143023492, 317.0578808948303, 370.88459563452705, 221.33012794213624, 177.46485912830926, 424.5580423540415, 275.3250221931937, 139.40479592465923, 147.76534866226712, 133.88384977349668, 80.9013362873476, 121.11602327460938, 134.41369498852399, 47.70052124577958, 16.507788679151513, 34.19027438129125, 64.06616829393845, 122.70221488837397, 129.10958748845152]\n"
     ]
    }
   ],
   "source": [
    "print net_worths"
   ]
  },
  {
   "cell_type": "markdown",
   "metadata": {},
   "source": [
    "Ages and net_worths need to be reshaped into 2D numpy arrays. \n",
    "\n",
    "The second argument of reshape command is a tuple of integers: n_rows, n_columns. By convention, n_rows is the number of data points and n_columns is the number of features."
   ]
  },
  {
   "cell_type": "code",
   "execution_count": 7,
   "metadata": {
    "collapsed": true
   },
   "outputs": [],
   "source": [
    "ages = np.reshape(np.array(ages), (len(ages), 1))"
   ]
  },
  {
   "cell_type": "code",
   "execution_count": 8,
   "metadata": {
    "collapsed": false
   },
   "outputs": [
    {
     "data": {
      "text/plain": [
       "array([[49],\n",
       "       [21],\n",
       "       [32],\n",
       "       [30],\n",
       "       [53],\n",
       "       [51],\n",
       "       [61],\n",
       "       [23],\n",
       "       [39],\n",
       "       [21],\n",
       "       [30],\n",
       "       [43],\n",
       "       [21],\n",
       "       [29],\n",
       "       [49],\n",
       "       [45],\n",
       "       [30],\n",
       "       [47],\n",
       "       [57],\n",
       "       [20],\n",
       "       [57],\n",
       "       [52],\n",
       "       [35],\n",
       "       [27],\n",
       "       [64],\n",
       "       [35],\n",
       "       [24],\n",
       "       [24],\n",
       "       [58],\n",
       "       [47],\n",
       "       [57],\n",
       "       [53],\n",
       "       [44],\n",
       "       [64],\n",
       "       [37],\n",
       "       [45],\n",
       "       [58],\n",
       "       [48],\n",
       "       [59],\n",
       "       [46],\n",
       "       [52],\n",
       "       [22],\n",
       "       [30],\n",
       "       [33],\n",
       "       [23],\n",
       "       [30],\n",
       "       [24],\n",
       "       [32],\n",
       "       [49],\n",
       "       [36],\n",
       "       [37],\n",
       "       [29],\n",
       "       [32],\n",
       "       [63],\n",
       "       [49],\n",
       "       [48],\n",
       "       [27],\n",
       "       [53],\n",
       "       [27],\n",
       "       [37],\n",
       "       [65],\n",
       "       [49],\n",
       "       [45],\n",
       "       [51],\n",
       "       [58],\n",
       "       [55],\n",
       "       [30],\n",
       "       [21],\n",
       "       [34],\n",
       "       [32],\n",
       "       [29],\n",
       "       [63],\n",
       "       [60],\n",
       "       [34],\n",
       "       [50],\n",
       "       [38],\n",
       "       [62],\n",
       "       [41],\n",
       "       [32],\n",
       "       [31],\n",
       "       [45],\n",
       "       [32],\n",
       "       [46],\n",
       "       [61],\n",
       "       [38],\n",
       "       [30],\n",
       "       [65],\n",
       "       [43],\n",
       "       [24],\n",
       "       [22],\n",
       "       [25],\n",
       "       [48],\n",
       "       [56],\n",
       "       [39],\n",
       "       [22],\n",
       "       [37],\n",
       "       [65],\n",
       "       [44],\n",
       "       [64],\n",
       "       [59]])"
      ]
     },
     "execution_count": 8,
     "metadata": {},
     "output_type": "execute_result"
    }
   ],
   "source": [
    "ages"
   ]
  },
  {
   "cell_type": "code",
   "execution_count": 9,
   "metadata": {
    "collapsed": true
   },
   "outputs": [],
   "source": [
    "net_worths = np.reshape(np.array(net_worths), (len(net_worths), 1))"
   ]
  },
  {
   "cell_type": "code",
   "execution_count": 10,
   "metadata": {
    "collapsed": false
   },
   "outputs": [
    {
     "data": {
      "text/plain": [
       "array([[ 316.18428306],\n",
       "       [ 128.48471398],\n",
       "       [ 212.95377076],\n",
       "       [ 217.96059713],\n",
       "       [ 326.56693251],\n",
       "       [ 314.06726086],\n",
       "       [ 412.83425631],\n",
       "       [ 159.09869458],\n",
       "       [ 234.36051228],\n",
       "       [ 142.10120087],\n",
       "       [ 178.23164614],\n",
       "       [ 259.43540493],\n",
       "       [ 136.08924543],\n",
       "       [ 142.98439511],\n",
       "       [ 271.75164335],\n",
       "       [ 270.00424942],\n",
       "       [ 167.24337759],\n",
       "       [ 300.03494665],\n",
       "       [ 338.08951849],\n",
       "       [  96.75392597],\n",
       "       [ 385.56297538],\n",
       "       [ 320.48447399],\n",
       "       [ 220.10056409],\n",
       "       [ 140.25503628],\n",
       "       [ 389.11234551],\n",
       "       [ 220.96845179],\n",
       "       [ 126.98012845],\n",
       "       [ 157.51396037],\n",
       "       [ 350.4872262 ],\n",
       "       [ 287.916125  ],\n",
       "       [ 344.21586776],\n",
       "       [ 368.29556369],\n",
       "       [ 274.73005551],\n",
       "       [ 378.84578142],\n",
       "       [ 247.70089824],\n",
       "       [ 256.833127  ],\n",
       "       [ 366.6772719 ],\n",
       "       [ 260.80659752],\n",
       "       [ 342.18627902],\n",
       "       [ 291.43722472],\n",
       "       [ 339.7693316 ],\n",
       "       [ 140.92736562],\n",
       "       [ 185.18703435],\n",
       "       [ 200.22792609],\n",
       "       [ 114.17956019],\n",
       "       [ 173.10311583],\n",
       "       [ 140.78722458],\n",
       "       [ 221.14244452],\n",
       "       [ 313.12236579],\n",
       "       [ 189.73919689],\n",
       "       [ 237.73167939],\n",
       "       [ 173.54835439],\n",
       "       [ 186.46155999],\n",
       "       [ 405.98352578],\n",
       "       [ 326.86999045],\n",
       "       [ 318.62560238],\n",
       "       [ 151.96564954],\n",
       "       [ 325.06575248],\n",
       "       [ 175.37526863],\n",
       "       [ 250.76090254],\n",
       "       [ 396.66651524],\n",
       "       [ 302.53682047],\n",
       "       [ 259.12330052],\n",
       "       [ 294.82586752],\n",
       "       [ 378.75051645],\n",
       "       [ 370.87480057],\n",
       "       [ 186.05979757],\n",
       "       [ 151.32065796],\n",
       "       [ 219.7327205 ],\n",
       "       [ 187.09760491],\n",
       "       [ 188.47791211],\n",
       "       [ 424.51073133],\n",
       "       [ 374.28347922],\n",
       "       [ 243.79287312],\n",
       "       [ 260.10509792],\n",
       "       [ 253.93805009],\n",
       "       [ 389.24094136],\n",
       "       [ 250.26985299],\n",
       "       [ 201.83521553],\n",
       "       [ 153.99862171],\n",
       "       [ 276.85656224],\n",
       "       [ 207.14225143],\n",
       "       [ 317.05788089],\n",
       "       [ 370.88459563],\n",
       "       [ 221.33012794],\n",
       "       [ 177.46485913],\n",
       "       [ 424.55804235],\n",
       "       [ 275.32502219],\n",
       "       [ 139.40479592],\n",
       "       [ 147.76534866],\n",
       "       [ 133.88384977],\n",
       "       [  80.90133629],\n",
       "       [ 121.11602327],\n",
       "       [ 134.41369499],\n",
       "       [  47.70052125],\n",
       "       [  16.50778868],\n",
       "       [  34.19027438],\n",
       "       [  64.06616829],\n",
       "       [ 122.70221489],\n",
       "       [ 129.10958749]])"
      ]
     },
     "execution_count": 10,
     "metadata": {},
     "output_type": "execute_result"
    }
   ],
   "source": [
    "net_worths"
   ]
  },
  {
   "cell_type": "code",
   "execution_count": 11,
   "metadata": {
    "collapsed": true
   },
   "outputs": [],
   "source": [
    "from sklearn.model_selection import train_test_split"
   ]
  },
  {
   "cell_type": "code",
   "execution_count": 12,
   "metadata": {
    "collapsed": true
   },
   "outputs": [],
   "source": [
    "ages_train, ages_test, net_worths_train, net_worths_test = train_test_split(ages, net_worths, test_size=0.1, random_state=42)"
   ]
  },
  {
   "cell_type": "markdown",
   "metadata": {},
   "source": [
    "Fill in a regression here!  Name the regression object reg so that the plotting code below works, and you can see what your regression looks like"
   ]
  },
  {
   "cell_type": "code",
   "execution_count": 13,
   "metadata": {
    "collapsed": false
   },
   "outputs": [
    {
     "data": {
      "text/plain": [
       "LinearRegression(copy_X=True, fit_intercept=True, n_jobs=1, normalize=False)"
      ]
     },
     "execution_count": 13,
     "metadata": {},
     "output_type": "execute_result"
    }
   ],
   "source": [
    "from sklearn.linear_model import LinearRegression\n",
    "reg = LinearRegression()\n",
    "reg.fit(ages_train, net_worths_train)"
   ]
  },
  {
   "cell_type": "code",
   "execution_count": 15,
   "metadata": {
    "collapsed": false
   },
   "outputs": [
    {
     "data": {
      "image/png": "[encoded data removed]",
      "text/plain": [
       "<matplotlib.figure.Figure at 0x10f878290>"
      ]
     },
     "metadata": {},
     "output_type": "display_data"
    }
   ],
   "source": [
    "try:\n",
    "    plt.plot(ages, reg.predict(ages), color='blue')\n",
    "except NameError:\n",
    "    pass\n",
    "plt.scatter(ages, net_worths)\n",
    "plt.ylabel('net worth')\n",
    "plt.xlabel('age')\n",
    "plt.show()"
   ]
  },
  {
   "cell_type": "markdown",
   "metadata": {},
   "source": [
    "Coefficient:"
   ]
  },
  {
   "cell_type": "code",
   "execution_count": 19,
   "metadata": {
    "collapsed": false
   },
   "outputs": [
    {
     "data": {
      "text/plain": [
       "5.078"
      ]
     },
     "execution_count": 19,
     "metadata": {},
     "output_type": "execute_result"
    }
   ],
   "source": [
    "round(reg.coef_, 3)"
   ]
  },
  {
   "cell_type": "markdown",
   "metadata": {},
   "source": [
    "R^2:"
   ]
  },
  {
   "cell_type": "code",
   "execution_count": 20,
   "metadata": {
    "collapsed": false
   },
   "outputs": [
    {
     "data": {
      "text/plain": [
       "0.878"
      ]
     },
     "execution_count": 20,
     "metadata": {},
     "output_type": "execute_result"
    }
   ],
   "source": [
    "round(reg.score(ages_test, net_worths_test), 3)"
   ]
  },
  {
   "cell_type": "markdown",
   "metadata": {},
   "source": [
    "### Slope after cleaning\n",
    "\n",
    "https://github.com/mudspringhiker/ud120-projects/blob/master/outliers/outlier_cleaner.py\n",
    "\n",
    "In outliers/outlier_cleaner.py, you will find the skeleton for a function called outlierCleaner() that you will fill in with a cleaning algorithm. It takes three arguments: predictions is a list of predicted targets that come from your regression, ages is the list of ages in the training set, and net_worths is the actual value of the net worths in the training set. There should be 90 elements in each of these lists (because the training set has 90 points in it). Your job is to return a list called cleaned_data that has only 81 elements in it, which are the 81 training points where the predictions and the actual values (net_worths) have the smallest errors (90 * 0.9 = 81). The format of cleaned_data should be a list of tuples, where each tuple has the form (age, net_worth, error). \n",
    "\n",
    "Once this cleaning function is working, you should see the regression result changes. What is the new slope? Is it closer to the “correct” result of 6.25?"
   ]
  },
  {
   "cell_type": "code",
   "execution_count": 21,
   "metadata": {
    "collapsed": true
   },
   "outputs": [],
   "source": [
    "predictions = reg.predict(ages_train)"
   ]
  },
  {
   "cell_type": "code",
   "execution_count": 23,
   "metadata": {
    "collapsed": false
   },
   "outputs": [
    {
     "data": {
      "text/plain": [
       "90"
      ]
     },
     "execution_count": 23,
     "metadata": {},
     "output_type": "execute_result"
    }
   ],
   "source": [
    "len(predictions)"
   ]
  },
  {
   "cell_type": "code",
   "execution_count": 30,
   "metadata": {
    "collapsed": false
   },
   "outputs": [
    {
     "data": {
      "text/plain": [
       "numpy.ndarray"
      ]
     },
     "execution_count": 30,
     "metadata": {},
     "output_type": "execute_result"
    }
   ],
   "source": [
    "type(net_worths_train)"
   ]
  },
  {
   "cell_type": "code",
   "execution_count": 26,
   "metadata": {
    "collapsed": false
   },
   "outputs": [
    {
     "data": {
      "text/plain": [
       "numpy.ndarray"
      ]
     },
     "execution_count": 26,
     "metadata": {},
     "output_type": "execute_result"
    }
   ],
   "source": [
    "type(predictions)"
   ]
  },
  {
   "cell_type": "code",
   "execution_count": 31,
   "metadata": {
    "collapsed": false
   },
   "outputs": [
    {
     "data": {
      "text/plain": [
       "90"
      ]
     },
     "execution_count": 31,
     "metadata": {},
     "output_type": "execute_result"
    }
   ],
   "source": [
    "len(net_worths_train)"
   ]
  },
  {
   "cell_type": "code",
   "execution_count": 32,
   "metadata": {
    "collapsed": true
   },
   "outputs": [],
   "source": [
    "error = abs(predictions - net_worths_train)"
   ]
  },
  {
   "cell_type": "code",
   "execution_count": 33,
   "metadata": {
    "collapsed": false
   },
   "outputs": [
    {
     "data": {
      "text/plain": [
       "array([[  2.34374503e+01],\n",
       "       [  2.95637995e+01],\n",
       "       [  4.59332097e+01],\n",
       "       [  2.86481987e+01],\n",
       "       [  1.82744379e+01],\n",
       "       [  3.22265869e+01],\n",
       "       [  4.91992199e+01],\n",
       "       [  1.68646751e+01],\n",
       "       [  4.24268037e+00],\n",
       "       [  7.39552180e+01],\n",
       "       [  4.96749100e+01],\n",
       "       [  7.67556106e+00],\n",
       "       [  2.01002285e+01],\n",
       "       [  7.63909350e+00],\n",
       "       [  6.06197228e-01],\n",
       "       [  1.62873489e+01],\n",
       "       [  5.05069166e+01],\n",
       "       [  3.21085239e+02],\n",
       "       [  1.02546358e+01],\n",
       "       [  4.43976191e+01],\n",
       "       [  1.58743657e+01],\n",
       "       [  3.34386424e+01],\n",
       "       [  8.30817205e-02],\n",
       "       [  3.07572273e+01],\n",
       "       [  8.88356217e+01],\n",
       "       [  2.98827765e+01],\n",
       "       [  8.51185672e+00],\n",
       "       [  6.63785936e+01],\n",
       "       [  3.11622650e+00],\n",
       "       [  1.03045633e+01],\n",
       "       [  1.82763278e+01],\n",
       "       [  3.46074429e+01],\n",
       "       [  1.70962682e+01],\n",
       "       [  1.96585667e+02],\n",
       "       [  1.04336034e+01],\n",
       "       [  3.00147084e+01],\n",
       "       [  1.94384493e+01],\n",
       "       [  1.80308577e+01],\n",
       "       [  5.40640002e+00],\n",
       "       [  2.94856151e+01],\n",
       "       [  3.89147628e+01],\n",
       "       [  4.04126563e+01],\n",
       "       [  3.61621849e+01],\n",
       "       [  1.73783495e+01],\n",
       "       [  1.11111956e+01],\n",
       "       [  1.41314134e+01],\n",
       "       [  7.78704655e+01],\n",
       "       [  5.90205176e+01],\n",
       "       [  4.69472730e+01],\n",
       "       [  1.08408530e+01],\n",
       "       [  1.03484994e+01],\n",
       "       [  1.95698342e+02],\n",
       "       [  5.28413674e+01],\n",
       "       [  7.44619331e+00],\n",
       "       [  2.46382240e+01],\n",
       "       [  1.94740929e+01],\n",
       "       [  6.29313241e+00],\n",
       "       [  2.18730571e+01],\n",
       "       [  2.85081974e+01],\n",
       "       [  1.84572802e+02],\n",
       "       [  2.86272498e+01],\n",
       "       [  4.00286992e+00],\n",
       "       [  1.30611197e+01],\n",
       "       [  3.90937427e+01],\n",
       "       [  2.27495368e+02],\n",
       "       [  3.07254068e+01],\n",
       "       [  3.57666641e+01],\n",
       "       [  2.60910856e+01],\n",
       "       [  8.92239745e+01],\n",
       "       [  3.76674472e+01],\n",
       "       [  1.06413832e+01],\n",
       "       [  3.15874195e+00],\n",
       "       [  8.14409491e+00],\n",
       "       [  2.40433632e+01],\n",
       "       [  3.36185108e+00],\n",
       "       [  1.24224214e+00],\n",
       "       [  3.12220590e+01],\n",
       "       [  2.52499686e+01],\n",
       "       [  2.20591126e+01],\n",
       "       [  3.17639830e+01],\n",
       "       [  1.88049356e+02],\n",
       "       [  1.90014558e+01],\n",
       "       [  6.92825290e+01],\n",
       "       [  5.82630498e+01],\n",
       "       [  7.09109072e+01],\n",
       "       [  4.13910019e+01],\n",
       "       [  7.93910792e+01],\n",
       "       [  2.27697972e+00],\n",
       "       [  1.88458114e+02],\n",
       "       [  1.07834419e+00]])"
      ]
     },
     "execution_count": 33,
     "metadata": {},
     "output_type": "execute_result"
    }
   ],
   "source": [
    "error"
   ]
  },
  {
   "cell_type": "code",
   "execution_count": 90,
   "metadata": {
    "collapsed": true
   },
   "outputs": [],
   "source": [
    "def outlierCleaner(predictions, ages, net_worths):\n",
    "    \"\"\"\n",
    "    Clean away the 10% of points that have the largest\n",
    "    residual errors (difference between the prediction\n",
    "    and the actual net worth.\n",
    "    \n",
    "    Return a list of tuples named cleaned_data where\n",
    "    each tuple is of the form (age, net_worth, error.)\"\"\"\n",
    "    \n",
    "    cleaned_data=[]\n",
    "    \n",
    "    error = abs(net_worths - predictions)\n",
    "    age_net_worth_error = np.hstack((ages, net_worths, error))\n",
    "    age_net_worth_error_list = age_net_worth_error.tolist()\n",
    "    \n",
    "    from operator import itemgetter\n",
    "    age_net_worth_error_list.sort(key=itemgetter(2))\n",
    "    age_net_worth_error_clean = age_net_worth_error_list[:int(0.90 * (len(age_net_worth_error_list)))]\n",
    "    for item in age_net_worth_error_clean:\n",
    "        cleaned_data.append(tuple(item))\n",
    "        \n",
    "    return cleaned_data"
   ]
  },
  {
   "cell_type": "code",
   "execution_count": 91,
   "metadata": {
    "collapsed": true
   },
   "outputs": [],
   "source": [
    "cleaned_data = []"
   ]
  },
  {
   "cell_type": "code",
   "execution_count": 92,
   "metadata": {
    "collapsed": false
   },
   "outputs": [],
   "source": [
    "cleaned_data = outlierCleaner(predictions, ages_train, net_worths_train)"
   ]
  },
  {
   "cell_type": "code",
   "execution_count": 93,
   "metadata": {
    "collapsed": false
   },
   "outputs": [
    {
     "data": {
      "text/plain": [
       "81"
      ]
     },
     "execution_count": 93,
     "metadata": {},
     "output_type": "execute_result"
    }
   ],
   "source": [
    "len(cleaned_data)"
   ]
  },
  {
   "cell_type": "markdown",
   "metadata": {},
   "source": [
    "#### Fitting the cleaned data"
   ]
  },
  {
   "cell_type": "code",
   "execution_count": 94,
   "metadata": {
    "collapsed": true
   },
   "outputs": [],
   "source": [
    "ages, net_worths, errors = zip(*cleaned_data)"
   ]
  },
  {
   "cell_type": "code",
   "execution_count": 96,
   "metadata": {
    "collapsed": true
   },
   "outputs": [],
   "source": [
    "ages = np.reshape(np.array(ages), (len(ages), 1))"
   ]
  },
  {
   "cell_type": "code",
   "execution_count": 97,
   "metadata": {
    "collapsed": true
   },
   "outputs": [],
   "source": [
    "net_worths = np.reshape(np.array(net_worths), (len(net_worths), 1))"
   ]
  },
  {
   "cell_type": "code",
   "execution_count": 98,
   "metadata": {
    "collapsed": false
   },
   "outputs": [
    {
     "data": {
      "text/plain": [
       "LinearRegression(copy_X=True, fit_intercept=True, n_jobs=1, normalize=False)"
      ]
     },
     "execution_count": 98,
     "metadata": {},
     "output_type": "execute_result"
    }
   ],
   "source": [
    "reg.fit(ages, net_worths)"
   ]
  },
  {
   "cell_type": "code",
   "execution_count": 102,
   "metadata": {
    "collapsed": false
   },
   "outputs": [
    {
     "data": {
      "image/png": "[encoded data removed]",
      "text/plain": [
       "<matplotlib.figure.Figure at 0x11003de10>"
      ]
     },
     "metadata": {},
     "output_type": "display_data"
    }
   ],
   "source": [
    "plt.plot(ages, reg.predict(ages), color=\"green\")\n",
    "plt.scatter(ages, net_worths)\n",
    "plt.xlabel(\"ages\")\n",
    "plt.ylabel(\"net worths\")\n",
    "plt.show()"
   ]
  },
  {
   "cell_type": "code",
   "execution_count": 101,
   "metadata": {
    "collapsed": false
   },
   "outputs": [
    {
     "data": {
      "text/plain": [
       "6.369"
      ]
     },
     "execution_count": 101,
     "metadata": {},
     "output_type": "execute_result"
    }
   ],
   "source": [
    "round(reg.coef_, 3)"
   ]
  },
  {
   "cell_type": "code",
   "execution_count": 106,
   "metadata": {
    "collapsed": false
   },
   "outputs": [
    {
     "data": {
      "text/plain": [
       "0.983"
      ]
     },
     "execution_count": 106,
     "metadata": {},
     "output_type": "execute_result"
    }
   ],
   "source": [
    "round(reg.score(ages_test, net_worths_test), 3)"
   ]
  },
  {
   "cell_type": "code",
   "execution_count": 108,
   "metadata": {
    "collapsed": false
   },
   "outputs": [
    {
     "data": {
      "text/plain": [
       "-6.919"
      ]
     },
     "execution_count": 108,
     "metadata": {},
     "output_type": "execute_result"
    }
   ],
   "source": [
    "round(reg.intercept_, 3)"
   ]
  }
 ],
 "metadata": {
  "anaconda-cloud": {},
  "kernelspec": {
   "display_name": "Python [default]",
   "language": "python",
   "name": "python2"
  },
  "language_info": {
   "codemirror_mode": {
    "name": "ipython",
    "version": 2
   },
   "file_extension": ".py",
   "mimetype": "text/x-python",
   "name": "python",
   "nbconvert_exporter": "python",
   "pygments_lexer": "ipython2",
   "version": "2.7.12"
  }
 },
 "nbformat": 4,
 "nbformat_minor": 0
}
