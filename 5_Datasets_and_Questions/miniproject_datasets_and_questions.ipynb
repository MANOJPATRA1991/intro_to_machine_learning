{
 "cells": [
  {
   "cell_type": "markdown",
   "metadata": {},
   "source": [
    "The Enron fraud is a big, messy and totally fascinating story about corporate malfeasance of nearly every imaginable type. The Enron email and financial datasets are also big, messy treasure troves of information, which become much more useful once you know your way around them a bit. We’ve combined the email and finance data into a single dataset, which you’ll explore in this mini-project.\n",
    "\n",
    "Getting started:\n",
    "\n",
    "- Clone this git repository: https://github.com/udacity/ud120-projects\n",
    "- Open the starter code: datasets_questions/explore_enron_data.py\n",
    "\n",
    "The aggregated Enron email + financial dataset is stored in a dictionary, where each key in the dictionary is a person’s name and the value is a dictionary containing all the features of that person.\n",
    "\n",
    "The email + finance (E+F) data dictionary is stored as a pickle file, which is a handy way to store and load python objects directly. Use datasets_questions/explore_enron_data.py to load the dataset.\n",
    "\n",
    "How many data points (people) are in the dataset?"
   ]
  },
  {
   "cell_type": "markdown",
   "metadata": {},
   "source": [
    "Starter code, \"explore_enron_data.py\":\n",
    "```\n",
    "\"\"\" \n",
    "    Starter code for exploring the Enron dataset (emails + finances);\n",
    "    loads up the dataset (pickled dict of dicts).\n",
    "\n",
    "    The dataset has the form:\n",
    "    enron_data[\"LASTNAME FIRSTNAME MIDDLEINITIAL\"] = { features_dict }\n",
    "\n",
    "    {features_dict} is a dictionary of features associated with that person.\n",
    "    You should explore features_dict as part of the mini-project,\n",
    "    but here's an example to get you started:\n",
    "\n",
    "    enron_data[\"SKILLING JEFFREY K\"][\"bonus\"] = 5600000\n",
    "    \n",
    "\"\"\"\n",
    "import pickle\n",
    "enron_data = pickle.load(open('../final_project/final_project_dataset.pkl', 'r'))\n",
    "\n",
    "```"
   ]
  },
  {
   "cell_type": "code",
   "execution_count": 1,
   "metadata": {
    "collapsed": true
   },
   "outputs": [],
   "source": [
    "import pickle"
   ]
  },
  {
   "cell_type": "code",
   "execution_count": 2,
   "metadata": {
    "collapsed": false
   },
   "outputs": [],
   "source": [
    "enron_data = pickle.load(open(\"../ud120-projects/final_project/final_project_dataset.pkl\", \"r\"))"
   ]
  },
  {
   "cell_type": "code",
   "execution_count": 5,
   "metadata": {
    "collapsed": false
   },
   "outputs": [
    {
     "data": {
      "text/plain": [
       "dict"
      ]
     },
     "execution_count": 5,
     "metadata": {},
     "output_type": "execute_result"
    }
   ],
   "source": [
    "type(enron_data)"
   ]
  },
  {
   "cell_type": "markdown",
   "metadata": {
    "collapsed": false
   },
   "source": [
    "#### How many data points (i.e. people) are in the Enron dataset?"
   ]
  },
  {
   "cell_type": "code",
   "execution_count": 6,
   "metadata": {
    "collapsed": false
   },
   "outputs": [
    {
     "data": {
      "text/plain": [
       "146"
      ]
     },
     "execution_count": 6,
     "metadata": {},
     "output_type": "execute_result"
    }
   ],
   "source": [
    "len(enron_data.keys())"
   ]
  },
  {
   "cell_type": "markdown",
   "metadata": {},
   "source": [
    "#### For each person, how many features are available?"
   ]
  },
  {
   "cell_type": "code",
   "execution_count": 7,
   "metadata": {
    "collapsed": false
   },
   "outputs": [
    {
     "data": {
      "text/plain": [
       "list"
      ]
     },
     "execution_count": 7,
     "metadata": {},
     "output_type": "execute_result"
    }
   ],
   "source": [
    "type(enron_data.keys())"
   ]
  },
  {
   "cell_type": "code",
   "execution_count": 13,
   "metadata": {
    "collapsed": false
   },
   "outputs": [
    {
     "data": {
      "text/plain": [
       "['METTS MARK',\n",
       " 'BAXTER JOHN C',\n",
       " 'ELLIOTT STEVEN',\n",
       " 'CORDES WILLIAM R',\n",
       " 'HANNON KEVIN P',\n",
       " 'MORDAUNT KRISTINA M',\n",
       " 'MEYER ROCKFORD G',\n",
       " 'MCMAHON JEFFREY',\n",
       " 'HORTON STANLEY C',\n",
       " 'PIPER GREGORY F',\n",
       " 'HUMPHREY GENE E',\n",
       " 'UMANOFF ADAM S',\n",
       " 'BLACHMAN JEREMY M',\n",
       " 'SUNDE MARTIN',\n",
       " 'GIBBS DANA R',\n",
       " 'LOWRY CHARLES P',\n",
       " 'COLWELL WESLEY',\n",
       " 'MULLER MARK S',\n",
       " 'JACKSON CHARLENE R',\n",
       " 'WESTFAHL RICHARD K',\n",
       " 'WALTERS GARETH W',\n",
       " 'WALLS JR ROBERT H',\n",
       " 'KITCHEN LOUISE',\n",
       " 'CHAN RONNIE',\n",
       " 'BELFER ROBERT',\n",
       " 'SHANKMAN JEFFREY A',\n",
       " 'WODRASKA JOHN',\n",
       " 'BERGSIEKER RICHARD P',\n",
       " 'URQUHART JOHN A',\n",
       " 'BIBI PHILIPPE A',\n",
       " 'RIEKER PAULA H',\n",
       " 'WHALEY DAVID A',\n",
       " 'BECK SALLY W',\n",
       " 'HAUG DAVID L',\n",
       " 'ECHOLS JOHN B',\n",
       " 'MENDELSOHN JOHN',\n",
       " 'HICKERSON GARY J',\n",
       " 'CLINE KENNETH W',\n",
       " 'LEWIS RICHARD',\n",
       " 'HAYES ROBERT E',\n",
       " 'MCCARTY DANNY J',\n",
       " 'KOPPER MICHAEL J',\n",
       " 'LEFF DANIEL P',\n",
       " 'LAVORATO JOHN J',\n",
       " 'BERBERIAN DAVID',\n",
       " 'DETMERING TIMOTHY J',\n",
       " 'WAKEHAM JOHN',\n",
       " 'POWERS WILLIAM',\n",
       " 'GOLD JOSEPH',\n",
       " 'BANNANTINE JAMES M',\n",
       " 'DUNCAN JOHN H',\n",
       " 'SHAPIRO RICHARD S',\n",
       " 'SHERRIFF JOHN R',\n",
       " 'SHELBY REX',\n",
       " 'LEMAISTRE CHARLES',\n",
       " 'DEFFNER JOSEPH M',\n",
       " 'KISHKILL JOSEPH G',\n",
       " 'WHALLEY LAWRENCE G',\n",
       " 'MCCONNELL MICHAEL S',\n",
       " 'PIRO JIM',\n",
       " 'DELAINEY DAVID W',\n",
       " 'SULLIVAN-SHAKLOVITZ COLLEEN',\n",
       " 'WROBEL BRUCE',\n",
       " 'LINDHOLM TOD A',\n",
       " 'MEYER JEROME J',\n",
       " 'LAY KENNETH L',\n",
       " 'BUTTS ROBERT H',\n",
       " 'OLSON CINDY K',\n",
       " 'MCDONALD REBECCA',\n",
       " 'CUMBERLAND MICHAEL S',\n",
       " 'GAHN ROBERT S',\n",
       " 'MCCLELLAN GEORGE',\n",
       " 'HERMANN ROBERT J',\n",
       " 'SCRIMSHAW MATTHEW',\n",
       " 'GATHMANN WILLIAM D',\n",
       " 'HAEDICKE MARK E',\n",
       " 'BOWEN JR RAYMOND M',\n",
       " 'GILLIS JOHN',\n",
       " 'FITZGERALD JAY L',\n",
       " 'MORAN MICHAEL P',\n",
       " 'REDMOND BRIAN L',\n",
       " 'BAZELIDES PHILIP J',\n",
       " 'BELDEN TIMOTHY N',\n",
       " 'DURAN WILLIAM D',\n",
       " 'THORN TERENCE H',\n",
       " 'FASTOW ANDREW S',\n",
       " 'FOY JOE',\n",
       " 'CALGER CHRISTOPHER F',\n",
       " 'RICE KENNETH D',\n",
       " 'KAMINSKI WINCENTY J',\n",
       " 'LOCKHART EUGENE E',\n",
       " 'COX DAVID',\n",
       " 'OVERDYKE JR JERE C',\n",
       " 'PEREIRA PAULO V. FERRAZ',\n",
       " 'STABLER FRANK',\n",
       " 'SKILLING JEFFREY K',\n",
       " 'BLAKE JR. NORMAN P',\n",
       " 'SHERRICK JEFFREY B',\n",
       " 'PRENTICE JAMES',\n",
       " 'GRAY RODNEY',\n",
       " 'PICKERING MARK R',\n",
       " 'THE TRAVEL AGENCY IN THE PARK',\n",
       " 'NOLES JAMES L',\n",
       " 'KEAN STEVEN J',\n",
       " 'TOTAL',\n",
       " 'FOWLER PEGGY',\n",
       " 'WASAFF GEORGE',\n",
       " 'WHITE JR THOMAS E',\n",
       " 'CHRISTODOULOU DIOMEDES',\n",
       " 'ALLEN PHILLIP K',\n",
       " 'SHARP VICTORIA T',\n",
       " 'JAEDICKE ROBERT',\n",
       " 'WINOKUR JR. HERBERT S',\n",
       " 'BROWN MICHAEL',\n",
       " 'BADUM JAMES P',\n",
       " 'HUGHES JAMES A',\n",
       " 'REYNOLDS LAWRENCE',\n",
       " 'DIMICHELE RICHARD G',\n",
       " 'BHATNAGAR SANJAY',\n",
       " 'CARTER REBECCA C',\n",
       " 'BUCHANAN HAROLD G',\n",
       " 'YEAP SOON',\n",
       " 'MURRAY JULIA H',\n",
       " 'GARLAND C KEVIN',\n",
       " 'DODSON KEITH',\n",
       " 'YEAGER F SCOTT',\n",
       " 'HIRKO JOSEPH',\n",
       " 'DIETRICH JANET R',\n",
       " 'DERRICK JR. JAMES V',\n",
       " 'FREVERT MARK A',\n",
       " 'PAI LOU L',\n",
       " 'BAY FRANKLIN R',\n",
       " 'HAYSLETT RODERICK J',\n",
       " 'FUGH JOHN L',\n",
       " 'FALLON JAMES B',\n",
       " 'KOENIG MARK E',\n",
       " 'SAVAGE FRANK',\n",
       " 'IZZO LAWRENCE L',\n",
       " 'TILNEY ELIZABETH A',\n",
       " 'MARTIN AMANDA K',\n",
       " 'BUY RICHARD B',\n",
       " 'GRAMM WENDY L',\n",
       " 'CAUSEY RICHARD A',\n",
       " 'TAYLOR MITCHELL S',\n",
       " 'DONAHUE JR JEFFREY M',\n",
       " 'GLISAN JR BEN F']"
      ]
     },
     "execution_count": 13,
     "metadata": {},
     "output_type": "execute_result"
    }
   ],
   "source": [
    "enron_data.keys()"
   ]
  },
  {
   "cell_type": "code",
   "execution_count": 16,
   "metadata": {
    "collapsed": false
   },
   "outputs": [
    {
     "data": {
      "text/plain": [
       "21"
      ]
     },
     "execution_count": 16,
     "metadata": {},
     "output_type": "execute_result"
    }
   ],
   "source": [
    "len(enron_data['RICE KENNETH D'])"
   ]
  },
  {
   "cell_type": "markdown",
   "metadata": {},
   "source": [
    "#### The 'poi' feature records whether the person is a person of interest, according to our definition. How many POIs are there in the E+F dataset?\n",
    "\n",
    "In other words, count the number of entries in the dictionary where\n",
    "data[person_name][\"poi\"]==1"
   ]
  },
  {
   "cell_type": "code",
   "execution_count": 17,
   "metadata": {
    "collapsed": true
   },
   "outputs": [],
   "source": [
    "import pandas as pd\n",
    "enron_data_df = pd.DataFrame.from_dict(enron_data)"
   ]
  },
  {
   "cell_type": "code",
   "execution_count": 18,
   "metadata": {
    "collapsed": false
   },
   "outputs": [
    {
     "data": {
      "text/html": [
       "<div>\n",
       "<table border=\"1\" class=\"dataframe\">\n",
       "  <thead>\n",
       "    <tr style=\"text-align: right;\">\n",
       "      <th></th>\n",
       "      <th>ALLEN PHILLIP K</th>\n",
       "      <th>BADUM JAMES P</th>\n",
       "      <th>BANNANTINE JAMES M</th>\n",
       "      <th>BAXTER JOHN C</th>\n",
       "      <th>BAY FRANKLIN R</th>\n",
       "      <th>BAZELIDES PHILIP J</th>\n",
       "      <th>BECK SALLY W</th>\n",
       "      <th>BELDEN TIMOTHY N</th>\n",
       "      <th>BELFER ROBERT</th>\n",
       "      <th>BERBERIAN DAVID</th>\n",
       "      <th>...</th>\n",
       "      <th>WASAFF GEORGE</th>\n",
       "      <th>WESTFAHL RICHARD K</th>\n",
       "      <th>WHALEY DAVID A</th>\n",
       "      <th>WHALLEY LAWRENCE G</th>\n",
       "      <th>WHITE JR THOMAS E</th>\n",
       "      <th>WINOKUR JR. HERBERT S</th>\n",
       "      <th>WODRASKA JOHN</th>\n",
       "      <th>WROBEL BRUCE</th>\n",
       "      <th>YEAGER F SCOTT</th>\n",
       "      <th>YEAP SOON</th>\n",
       "    </tr>\n",
       "  </thead>\n",
       "  <tbody>\n",
       "    <tr>\n",
       "      <th>bonus</th>\n",
       "      <td>4175000</td>\n",
       "      <td>NaN</td>\n",
       "      <td>NaN</td>\n",
       "      <td>1200000</td>\n",
       "      <td>400000</td>\n",
       "      <td>NaN</td>\n",
       "      <td>700000</td>\n",
       "      <td>5249999</td>\n",
       "      <td>NaN</td>\n",
       "      <td>NaN</td>\n",
       "      <td>...</td>\n",
       "      <td>325000</td>\n",
       "      <td>NaN</td>\n",
       "      <td>NaN</td>\n",
       "      <td>3000000</td>\n",
       "      <td>450000</td>\n",
       "      <td>NaN</td>\n",
       "      <td>NaN</td>\n",
       "      <td>NaN</td>\n",
       "      <td>NaN</td>\n",
       "      <td>NaN</td>\n",
       "    </tr>\n",
       "    <tr>\n",
       "      <th>deferral_payments</th>\n",
       "      <td>2869717</td>\n",
       "      <td>178980</td>\n",
       "      <td>NaN</td>\n",
       "      <td>1295738</td>\n",
       "      <td>260455</td>\n",
       "      <td>684694</td>\n",
       "      <td>NaN</td>\n",
       "      <td>2144013</td>\n",
       "      <td>-102500</td>\n",
       "      <td>NaN</td>\n",
       "      <td>...</td>\n",
       "      <td>831299</td>\n",
       "      <td>NaN</td>\n",
       "      <td>NaN</td>\n",
       "      <td>NaN</td>\n",
       "      <td>NaN</td>\n",
       "      <td>NaN</td>\n",
       "      <td>NaN</td>\n",
       "      <td>NaN</td>\n",
       "      <td>NaN</td>\n",
       "      <td>NaN</td>\n",
       "    </tr>\n",
       "    <tr>\n",
       "      <th>deferred_income</th>\n",
       "      <td>-3081055</td>\n",
       "      <td>NaN</td>\n",
       "      <td>-5104</td>\n",
       "      <td>-1386055</td>\n",
       "      <td>-201641</td>\n",
       "      <td>NaN</td>\n",
       "      <td>NaN</td>\n",
       "      <td>-2334434</td>\n",
       "      <td>NaN</td>\n",
       "      <td>NaN</td>\n",
       "      <td>...</td>\n",
       "      <td>-583325</td>\n",
       "      <td>-10800</td>\n",
       "      <td>NaN</td>\n",
       "      <td>NaN</td>\n",
       "      <td>NaN</td>\n",
       "      <td>-25000</td>\n",
       "      <td>NaN</td>\n",
       "      <td>NaN</td>\n",
       "      <td>NaN</td>\n",
       "      <td>NaN</td>\n",
       "    </tr>\n",
       "    <tr>\n",
       "      <th>director_fees</th>\n",
       "      <td>NaN</td>\n",
       "      <td>NaN</td>\n",
       "      <td>NaN</td>\n",
       "      <td>NaN</td>\n",
       "      <td>NaN</td>\n",
       "      <td>NaN</td>\n",
       "      <td>NaN</td>\n",
       "      <td>NaN</td>\n",
       "      <td>3285</td>\n",
       "      <td>NaN</td>\n",
       "      <td>...</td>\n",
       "      <td>NaN</td>\n",
       "      <td>NaN</td>\n",
       "      <td>NaN</td>\n",
       "      <td>NaN</td>\n",
       "      <td>NaN</td>\n",
       "      <td>108579</td>\n",
       "      <td>NaN</td>\n",
       "      <td>NaN</td>\n",
       "      <td>NaN</td>\n",
       "      <td>NaN</td>\n",
       "    </tr>\n",
       "    <tr>\n",
       "      <th>email_address</th>\n",
       "      <td>phillip.allen@enron.com</td>\n",
       "      <td>NaN</td>\n",
       "      <td>james.bannantine@enron.com</td>\n",
       "      <td>NaN</td>\n",
       "      <td>frank.bay@enron.com</td>\n",
       "      <td>NaN</td>\n",
       "      <td>sally.beck@enron.com</td>\n",
       "      <td>tim.belden@enron.com</td>\n",
       "      <td>NaN</td>\n",
       "      <td>david.berberian@enron.com</td>\n",
       "      <td>...</td>\n",
       "      <td>george.wasaff@enron.com</td>\n",
       "      <td>dick.westfahl@enron.com</td>\n",
       "      <td>NaN</td>\n",
       "      <td>greg.whalley@enron.com</td>\n",
       "      <td>thomas.white@enron.com</td>\n",
       "      <td>NaN</td>\n",
       "      <td>john.wodraska@enron.com</td>\n",
       "      <td>NaN</td>\n",
       "      <td>scott.yeager@enron.com</td>\n",
       "      <td>NaN</td>\n",
       "    </tr>\n",
       "  </tbody>\n",
       "</table>\n",
       "<p>5 rows × 146 columns</p>\n",
       "</div>"
      ],
      "text/plain": [
       "                           ALLEN PHILLIP K BADUM JAMES P  \\\n",
       "bonus                              4175000           NaN   \n",
       "deferral_payments                  2869717        178980   \n",
       "deferred_income                   -3081055           NaN   \n",
       "director_fees                          NaN           NaN   \n",
       "email_address      phillip.allen@enron.com           NaN   \n",
       "\n",
       "                           BANNANTINE JAMES M BAXTER JOHN C  \\\n",
       "bonus                                     NaN       1200000   \n",
       "deferral_payments                         NaN       1295738   \n",
       "deferred_income                         -5104      -1386055   \n",
       "director_fees                             NaN           NaN   \n",
       "email_address      james.bannantine@enron.com           NaN   \n",
       "\n",
       "                        BAY FRANKLIN R BAZELIDES PHILIP J  \\\n",
       "bonus                           400000                NaN   \n",
       "deferral_payments               260455             684694   \n",
       "deferred_income                -201641                NaN   \n",
       "director_fees                      NaN                NaN   \n",
       "email_address      frank.bay@enron.com                NaN   \n",
       "\n",
       "                           BECK SALLY W      BELDEN TIMOTHY N BELFER ROBERT  \\\n",
       "bonus                            700000               5249999           NaN   \n",
       "deferral_payments                   NaN               2144013       -102500   \n",
       "deferred_income                     NaN              -2334434           NaN   \n",
       "director_fees                       NaN                   NaN          3285   \n",
       "email_address      sally.beck@enron.com  tim.belden@enron.com           NaN   \n",
       "\n",
       "                             BERBERIAN DAVID    ...     \\\n",
       "bonus                                    NaN    ...      \n",
       "deferral_payments                        NaN    ...      \n",
       "deferred_income                          NaN    ...      \n",
       "director_fees                            NaN    ...      \n",
       "email_address      david.berberian@enron.com    ...      \n",
       "\n",
       "                             WASAFF GEORGE       WESTFAHL RICHARD K  \\\n",
       "bonus                               325000                      NaN   \n",
       "deferral_payments                   831299                      NaN   \n",
       "deferred_income                    -583325                   -10800   \n",
       "director_fees                          NaN                      NaN   \n",
       "email_address      george.wasaff@enron.com  dick.westfahl@enron.com   \n",
       "\n",
       "                  WHALEY DAVID A      WHALLEY LAWRENCE G  \\\n",
       "bonus                        NaN                 3000000   \n",
       "deferral_payments            NaN                     NaN   \n",
       "deferred_income              NaN                     NaN   \n",
       "director_fees                NaN                     NaN   \n",
       "email_address                NaN  greg.whalley@enron.com   \n",
       "\n",
       "                        WHITE JR THOMAS E WINOKUR JR. HERBERT S  \\\n",
       "bonus                              450000                   NaN   \n",
       "deferral_payments                     NaN                   NaN   \n",
       "deferred_income                       NaN                -25000   \n",
       "director_fees                         NaN                108579   \n",
       "email_address      thomas.white@enron.com                   NaN   \n",
       "\n",
       "                             WODRASKA JOHN WROBEL BRUCE  \\\n",
       "bonus                                  NaN          NaN   \n",
       "deferral_payments                      NaN          NaN   \n",
       "deferred_income                        NaN          NaN   \n",
       "director_fees                          NaN          NaN   \n",
       "email_address      john.wodraska@enron.com          NaN   \n",
       "\n",
       "                           YEAGER F SCOTT YEAP SOON  \n",
       "bonus                                 NaN       NaN  \n",
       "deferral_payments                     NaN       NaN  \n",
       "deferred_income                       NaN       NaN  \n",
       "director_fees                         NaN       NaN  \n",
       "email_address      scott.yeager@enron.com       NaN  \n",
       "\n",
       "[5 rows x 146 columns]"
      ]
     },
     "execution_count": 18,
     "metadata": {},
     "output_type": "execute_result"
    }
   ],
   "source": [
    "enron_data_df.head()"
   ]
  },
  {
   "cell_type": "code",
   "execution_count": 19,
   "metadata": {
    "collapsed": false
   },
   "outputs": [],
   "source": [
    "enron_data_dfT = enron_data_df.transpose()"
   ]
  },
  {
   "cell_type": "code",
   "execution_count": 21,
   "metadata": {
    "collapsed": false
   },
   "outputs": [
    {
     "data": {
      "text/html": [
       "<div>\n",
       "<table border=\"1\" class=\"dataframe\">\n",
       "  <thead>\n",
       "    <tr style=\"text-align: right;\">\n",
       "      <th></th>\n",
       "      <th>bonus</th>\n",
       "      <th>deferral_payments</th>\n",
       "      <th>deferred_income</th>\n",
       "      <th>director_fees</th>\n",
       "      <th>email_address</th>\n",
       "      <th>exercised_stock_options</th>\n",
       "      <th>expenses</th>\n",
       "      <th>from_messages</th>\n",
       "      <th>from_poi_to_this_person</th>\n",
       "      <th>from_this_person_to_poi</th>\n",
       "      <th>...</th>\n",
       "      <th>long_term_incentive</th>\n",
       "      <th>other</th>\n",
       "      <th>poi</th>\n",
       "      <th>restricted_stock</th>\n",
       "      <th>restricted_stock_deferred</th>\n",
       "      <th>salary</th>\n",
       "      <th>shared_receipt_with_poi</th>\n",
       "      <th>to_messages</th>\n",
       "      <th>total_payments</th>\n",
       "      <th>total_stock_value</th>\n",
       "    </tr>\n",
       "  </thead>\n",
       "  <tbody>\n",
       "    <tr>\n",
       "      <th>ALLEN PHILLIP K</th>\n",
       "      <td>4175000</td>\n",
       "      <td>2869717</td>\n",
       "      <td>-3081055</td>\n",
       "      <td>NaN</td>\n",
       "      <td>phillip.allen@enron.com</td>\n",
       "      <td>1729541</td>\n",
       "      <td>13868</td>\n",
       "      <td>2195</td>\n",
       "      <td>47</td>\n",
       "      <td>65</td>\n",
       "      <td>...</td>\n",
       "      <td>304805</td>\n",
       "      <td>152</td>\n",
       "      <td>False</td>\n",
       "      <td>126027</td>\n",
       "      <td>-126027</td>\n",
       "      <td>201955</td>\n",
       "      <td>1407</td>\n",
       "      <td>2902</td>\n",
       "      <td>4484442</td>\n",
       "      <td>1729541</td>\n",
       "    </tr>\n",
       "    <tr>\n",
       "      <th>BADUM JAMES P</th>\n",
       "      <td>NaN</td>\n",
       "      <td>178980</td>\n",
       "      <td>NaN</td>\n",
       "      <td>NaN</td>\n",
       "      <td>NaN</td>\n",
       "      <td>257817</td>\n",
       "      <td>3486</td>\n",
       "      <td>NaN</td>\n",
       "      <td>NaN</td>\n",
       "      <td>NaN</td>\n",
       "      <td>...</td>\n",
       "      <td>NaN</td>\n",
       "      <td>NaN</td>\n",
       "      <td>False</td>\n",
       "      <td>NaN</td>\n",
       "      <td>NaN</td>\n",
       "      <td>NaN</td>\n",
       "      <td>NaN</td>\n",
       "      <td>NaN</td>\n",
       "      <td>182466</td>\n",
       "      <td>257817</td>\n",
       "    </tr>\n",
       "    <tr>\n",
       "      <th>BANNANTINE JAMES M</th>\n",
       "      <td>NaN</td>\n",
       "      <td>NaN</td>\n",
       "      <td>-5104</td>\n",
       "      <td>NaN</td>\n",
       "      <td>james.bannantine@enron.com</td>\n",
       "      <td>4046157</td>\n",
       "      <td>56301</td>\n",
       "      <td>29</td>\n",
       "      <td>39</td>\n",
       "      <td>0</td>\n",
       "      <td>...</td>\n",
       "      <td>NaN</td>\n",
       "      <td>864523</td>\n",
       "      <td>False</td>\n",
       "      <td>1757552</td>\n",
       "      <td>-560222</td>\n",
       "      <td>477</td>\n",
       "      <td>465</td>\n",
       "      <td>566</td>\n",
       "      <td>916197</td>\n",
       "      <td>5243487</td>\n",
       "    </tr>\n",
       "    <tr>\n",
       "      <th>BAXTER JOHN C</th>\n",
       "      <td>1200000</td>\n",
       "      <td>1295738</td>\n",
       "      <td>-1386055</td>\n",
       "      <td>NaN</td>\n",
       "      <td>NaN</td>\n",
       "      <td>6680544</td>\n",
       "      <td>11200</td>\n",
       "      <td>NaN</td>\n",
       "      <td>NaN</td>\n",
       "      <td>NaN</td>\n",
       "      <td>...</td>\n",
       "      <td>1586055</td>\n",
       "      <td>2660303</td>\n",
       "      <td>False</td>\n",
       "      <td>3942714</td>\n",
       "      <td>NaN</td>\n",
       "      <td>267102</td>\n",
       "      <td>NaN</td>\n",
       "      <td>NaN</td>\n",
       "      <td>5634343</td>\n",
       "      <td>10623258</td>\n",
       "    </tr>\n",
       "    <tr>\n",
       "      <th>BAY FRANKLIN R</th>\n",
       "      <td>400000</td>\n",
       "      <td>260455</td>\n",
       "      <td>-201641</td>\n",
       "      <td>NaN</td>\n",
       "      <td>frank.bay@enron.com</td>\n",
       "      <td>NaN</td>\n",
       "      <td>129142</td>\n",
       "      <td>NaN</td>\n",
       "      <td>NaN</td>\n",
       "      <td>NaN</td>\n",
       "      <td>...</td>\n",
       "      <td>NaN</td>\n",
       "      <td>69</td>\n",
       "      <td>False</td>\n",
       "      <td>145796</td>\n",
       "      <td>-82782</td>\n",
       "      <td>239671</td>\n",
       "      <td>NaN</td>\n",
       "      <td>NaN</td>\n",
       "      <td>827696</td>\n",
       "      <td>63014</td>\n",
       "    </tr>\n",
       "  </tbody>\n",
       "</table>\n",
       "<p>5 rows × 21 columns</p>\n",
       "</div>"
      ],
      "text/plain": [
       "                      bonus deferral_payments deferred_income director_fees  \\\n",
       "ALLEN PHILLIP K     4175000           2869717        -3081055           NaN   \n",
       "BADUM JAMES P           NaN            178980             NaN           NaN   \n",
       "BANNANTINE JAMES M      NaN               NaN           -5104           NaN   \n",
       "BAXTER JOHN C       1200000           1295738        -1386055           NaN   \n",
       "BAY FRANKLIN R       400000            260455         -201641           NaN   \n",
       "\n",
       "                                 email_address exercised_stock_options  \\\n",
       "ALLEN PHILLIP K        phillip.allen@enron.com                 1729541   \n",
       "BADUM JAMES P                              NaN                  257817   \n",
       "BANNANTINE JAMES M  james.bannantine@enron.com                 4046157   \n",
       "BAXTER JOHN C                              NaN                 6680544   \n",
       "BAY FRANKLIN R             frank.bay@enron.com                     NaN   \n",
       "\n",
       "                   expenses from_messages from_poi_to_this_person  \\\n",
       "ALLEN PHILLIP K       13868          2195                      47   \n",
       "BADUM JAMES P          3486           NaN                     NaN   \n",
       "BANNANTINE JAMES M    56301            29                      39   \n",
       "BAXTER JOHN C         11200           NaN                     NaN   \n",
       "BAY FRANKLIN R       129142           NaN                     NaN   \n",
       "\n",
       "                   from_this_person_to_poi        ...         \\\n",
       "ALLEN PHILLIP K                         65        ...          \n",
       "BADUM JAMES P                          NaN        ...          \n",
       "BANNANTINE JAMES M                       0        ...          \n",
       "BAXTER JOHN C                          NaN        ...          \n",
       "BAY FRANKLIN R                         NaN        ...          \n",
       "\n",
       "                   long_term_incentive    other    poi restricted_stock  \\\n",
       "ALLEN PHILLIP K                 304805      152  False           126027   \n",
       "BADUM JAMES P                      NaN      NaN  False              NaN   \n",
       "BANNANTINE JAMES M                 NaN   864523  False          1757552   \n",
       "BAXTER JOHN C                  1586055  2660303  False          3942714   \n",
       "BAY FRANKLIN R                     NaN       69  False           145796   \n",
       "\n",
       "                   restricted_stock_deferred  salary shared_receipt_with_poi  \\\n",
       "ALLEN PHILLIP K                      -126027  201955                    1407   \n",
       "BADUM JAMES P                            NaN     NaN                     NaN   \n",
       "BANNANTINE JAMES M                   -560222     477                     465   \n",
       "BAXTER JOHN C                            NaN  267102                     NaN   \n",
       "BAY FRANKLIN R                        -82782  239671                     NaN   \n",
       "\n",
       "                   to_messages total_payments total_stock_value  \n",
       "ALLEN PHILLIP K           2902        4484442           1729541  \n",
       "BADUM JAMES P              NaN         182466            257817  \n",
       "BANNANTINE JAMES M         566         916197           5243487  \n",
       "BAXTER JOHN C              NaN        5634343          10623258  \n",
       "BAY FRANKLIN R             NaN         827696             63014  \n",
       "\n",
       "[5 rows x 21 columns]"
      ]
     },
     "execution_count": 21,
     "metadata": {},
     "output_type": "execute_result"
    }
   ],
   "source": [
    "enron_data_dfT.head()"
   ]
  },
  {
   "cell_type": "code",
   "execution_count": 22,
   "metadata": {
    "collapsed": false
   },
   "outputs": [
    {
     "data": {
      "text/plain": [
       "False    128\n",
       "True      18\n",
       "Name: poi, dtype: int64"
      ]
     },
     "execution_count": 22,
     "metadata": {},
     "output_type": "execute_result"
    }
   ],
   "source": [
    "enron_data_dfT.poi.value_counts()"
   ]
  },
  {
   "cell_type": "markdown",
   "metadata": {},
   "source": [
    "#### How many POIs exist?\n",
    "\n",
    "We compiled a list of all POI names (in ../final_project/poi_names.txt) and associated email addresses (in ../final_project/poi_email_addresses.py).\n",
    "\n",
    "How many POI’s were there total? (Use the names file, not the email addresses, since many folks have more than one address and a few didn’t work for Enron, so we don’t have their emails.)"
   ]
  },
  {
   "cell_type": "code",
   "execution_count": 23,
   "metadata": {
    "collapsed": false
   },
   "outputs": [],
   "source": [
    "poi_names = pd.read_csv(\"../ud120-projects/final_project/poi_names.txt\")"
   ]
  },
  {
   "cell_type": "code",
   "execution_count": 24,
   "metadata": {
    "collapsed": false
   },
   "outputs": [
    {
     "data": {
      "text/html": [
       "<div>\n",
       "<table border=\"1\" class=\"dataframe\">\n",
       "  <thead>\n",
       "    <tr style=\"text-align: right;\">\n",
       "      <th></th>\n",
       "      <th>http://usatoday30.usatoday.com/money/industries/energy/2005-12-28-enron-participants_x.htm</th>\n",
       "    </tr>\n",
       "  </thead>\n",
       "  <tbody>\n",
       "    <tr>\n",
       "      <th>(y) Lay</th>\n",
       "      <td>Kenneth</td>\n",
       "    </tr>\n",
       "    <tr>\n",
       "      <th>(y) Skilling</th>\n",
       "      <td>Jeffrey</td>\n",
       "    </tr>\n",
       "    <tr>\n",
       "      <th>(n) Howard</th>\n",
       "      <td>Kevin</td>\n",
       "    </tr>\n",
       "    <tr>\n",
       "      <th>(n) Krautz</th>\n",
       "      <td>Michael</td>\n",
       "    </tr>\n",
       "    <tr>\n",
       "      <th>(n) Yeager</th>\n",
       "      <td>Scott</td>\n",
       "    </tr>\n",
       "    <tr>\n",
       "      <th>(n) Hirko</th>\n",
       "      <td>Joseph</td>\n",
       "    </tr>\n",
       "    <tr>\n",
       "      <th>(n) Shelby</th>\n",
       "      <td>Rex</td>\n",
       "    </tr>\n",
       "    <tr>\n",
       "      <th>(n) Bermingham</th>\n",
       "      <td>David</td>\n",
       "    </tr>\n",
       "    <tr>\n",
       "      <th>(n) Darby</th>\n",
       "      <td>Giles</td>\n",
       "    </tr>\n",
       "    <tr>\n",
       "      <th>(n) Mulgrew</th>\n",
       "      <td>Gary</td>\n",
       "    </tr>\n",
       "    <tr>\n",
       "      <th>(n) Bayley</th>\n",
       "      <td>Daniel</td>\n",
       "    </tr>\n",
       "    <tr>\n",
       "      <th>(n) Brown</th>\n",
       "      <td>James</td>\n",
       "    </tr>\n",
       "    <tr>\n",
       "      <th>(n) Furst</th>\n",
       "      <td>Robert</td>\n",
       "    </tr>\n",
       "    <tr>\n",
       "      <th>(n) Fuhs</th>\n",
       "      <td>William</td>\n",
       "    </tr>\n",
       "    <tr>\n",
       "      <th>(n) Causey</th>\n",
       "      <td>Richard</td>\n",
       "    </tr>\n",
       "    <tr>\n",
       "      <th>(n) Calger</th>\n",
       "      <td>Christopher</td>\n",
       "    </tr>\n",
       "    <tr>\n",
       "      <th>(n) DeSpain</th>\n",
       "      <td>Timothy</td>\n",
       "    </tr>\n",
       "    <tr>\n",
       "      <th>(n) Hannon</th>\n",
       "      <td>Kevin</td>\n",
       "    </tr>\n",
       "    <tr>\n",
       "      <th>(n) Koenig</th>\n",
       "      <td>Mark</td>\n",
       "    </tr>\n",
       "    <tr>\n",
       "      <th>(y) Forney</th>\n",
       "      <td>John</td>\n",
       "    </tr>\n",
       "    <tr>\n",
       "      <th>(n) Rice</th>\n",
       "      <td>Kenneth</td>\n",
       "    </tr>\n",
       "    <tr>\n",
       "      <th>(n) Rieker</th>\n",
       "      <td>Paula</td>\n",
       "    </tr>\n",
       "    <tr>\n",
       "      <th>(n) Fastow</th>\n",
       "      <td>Lea</td>\n",
       "    </tr>\n",
       "    <tr>\n",
       "      <th>(n) Fastow</th>\n",
       "      <td>Andrew</td>\n",
       "    </tr>\n",
       "    <tr>\n",
       "      <th>(y) Delainey</th>\n",
       "      <td>David</td>\n",
       "    </tr>\n",
       "    <tr>\n",
       "      <th>(n) Glisan</th>\n",
       "      <td>Ben</td>\n",
       "    </tr>\n",
       "    <tr>\n",
       "      <th>(n) Richter</th>\n",
       "      <td>Jeffrey</td>\n",
       "    </tr>\n",
       "    <tr>\n",
       "      <th>(n) Lawyer</th>\n",
       "      <td>Larry</td>\n",
       "    </tr>\n",
       "    <tr>\n",
       "      <th>(n) Belden</th>\n",
       "      <td>Timothy</td>\n",
       "    </tr>\n",
       "    <tr>\n",
       "      <th>(n) Kopper</th>\n",
       "      <td>Michael</td>\n",
       "    </tr>\n",
       "    <tr>\n",
       "      <th>(n) Duncan</th>\n",
       "      <td>David</td>\n",
       "    </tr>\n",
       "    <tr>\n",
       "      <th>(n) Bowen</th>\n",
       "      <td>Raymond</td>\n",
       "    </tr>\n",
       "    <tr>\n",
       "      <th>(n) Colwell</th>\n",
       "      <td>Wesley</td>\n",
       "    </tr>\n",
       "    <tr>\n",
       "      <th>(n) Boyle</th>\n",
       "      <td>Dan</td>\n",
       "    </tr>\n",
       "    <tr>\n",
       "      <th>(n) Loehr</th>\n",
       "      <td>Christopher</td>\n",
       "    </tr>\n",
       "  </tbody>\n",
       "</table>\n",
       "</div>"
      ],
      "text/plain": [
       "               http://usatoday30.usatoday.com/money/industries/energy/2005-12-28-enron-participants_x.htm\n",
       "(y) Lay                                                   Kenneth                                        \n",
       "(y) Skilling                                              Jeffrey                                        \n",
       "(n) Howard                                                  Kevin                                        \n",
       "(n) Krautz                                                Michael                                        \n",
       "(n) Yeager                                                  Scott                                        \n",
       "(n) Hirko                                                  Joseph                                        \n",
       "(n) Shelby                                                    Rex                                        \n",
       "(n) Bermingham                                              David                                        \n",
       "(n) Darby                                                   Giles                                        \n",
       "(n) Mulgrew                                                  Gary                                        \n",
       "(n) Bayley                                                 Daniel                                        \n",
       "(n) Brown                                                   James                                        \n",
       "(n) Furst                                                  Robert                                        \n",
       "(n) Fuhs                                                  William                                        \n",
       "(n) Causey                                                Richard                                        \n",
       "(n) Calger                                            Christopher                                        \n",
       "(n) DeSpain                                               Timothy                                        \n",
       "(n) Hannon                                                  Kevin                                        \n",
       "(n) Koenig                                                   Mark                                        \n",
       "(y) Forney                                                   John                                        \n",
       "(n) Rice                                                  Kenneth                                        \n",
       "(n) Rieker                                                  Paula                                        \n",
       "(n) Fastow                                                    Lea                                        \n",
       "(n) Fastow                                                 Andrew                                        \n",
       "(y) Delainey                                                David                                        \n",
       "(n) Glisan                                                    Ben                                        \n",
       "(n) Richter                                               Jeffrey                                        \n",
       "(n) Lawyer                                                  Larry                                        \n",
       "(n) Belden                                                Timothy                                        \n",
       "(n) Kopper                                                Michael                                        \n",
       "(n) Duncan                                                  David                                        \n",
       "(n) Bowen                                                 Raymond                                        \n",
       "(n) Colwell                                                Wesley                                        \n",
       "(n) Boyle                                                     Dan                                        \n",
       "(n) Loehr                                             Christopher                                        "
      ]
     },
     "execution_count": 24,
     "metadata": {},
     "output_type": "execute_result"
    }
   ],
   "source": [
    "poi_names"
   ]
  },
  {
   "cell_type": "code",
   "execution_count": 25,
   "metadata": {
    "collapsed": false
   },
   "outputs": [
    {
     "data": {
      "text/plain": [
       "35"
      ]
     },
     "execution_count": 25,
     "metadata": {},
     "output_type": "execute_result"
    }
   ],
   "source": [
    "len(poi_names)"
   ]
  },
  {
   "cell_type": "markdown",
   "metadata": {},
   "source": [
    "#### Problems with incomplete data\n",
    "\n",
    "As you can see, we have many of the POIs in our E+F dataset, but not all of them. Why is that a potential problem?\n",
    "\n",
    "We will return to this later to explain how a POI could end up not being in the Enron E+F dataset, so you fully understand the issue before moving on.\n",
    "\n",
    "\n",
    "Incomplete data = not enough data for training"
   ]
  },
  {
   "cell_type": "markdown",
   "metadata": {},
   "source": [
    "#### Query the Dataset 1\n",
    "\n",
    "Like any dict of dicts, individual people/features can be accessed like so:\n",
    "\n",
    "enron_data[\"LASTNAME FIRSTNAME\"][\"feature_name\"]\n",
    "or, sometimes \n",
    "enron_data[\"LASTNAME FIRSTNAME MIDDLEINITIAL\"][\"feature_name\"]\n",
    "\n",
    "What is the total value of the stock belonging to James Prentice?"
   ]
  },
  {
   "cell_type": "code",
   "execution_count": 28,
   "metadata": {
    "collapsed": false
   },
   "outputs": [
    {
     "data": {
      "text/plain": [
       "1095040"
      ]
     },
     "execution_count": 28,
     "metadata": {},
     "output_type": "execute_result"
    }
   ],
   "source": [
    "enron_data[\"PRENTICE JAMES\"]['total_stock_value']"
   ]
  },
  {
   "cell_type": "markdown",
   "metadata": {},
   "source": [
    "#### Query the Dataset 2\n",
    "\n",
    "Like any dict of dicts, individual people/features can be accessed like so:\n",
    "\n",
    "enron_data[\"LASTNAME FIRSTNAME\"][\"feature_name\"]\n",
    "\n",
    "How many email messages do we have from Wesley Colwell to persons of interest?"
   ]
  },
  {
   "cell_type": "code",
   "execution_count": 29,
   "metadata": {
    "collapsed": false
   },
   "outputs": [
    {
     "data": {
      "text/plain": [
       "11"
      ]
     },
     "execution_count": 29,
     "metadata": {},
     "output_type": "execute_result"
    }
   ],
   "source": [
    "enron_data[\"COLWELL WESLEY\"][\"from_this_person_to_poi\"]"
   ]
  },
  {
   "cell_type": "markdown",
   "metadata": {},
   "source": [
    "#### Query the Dataset 3\n",
    "\n",
    "Like any dict of dicts, individual people/features can be accessed like so:\n",
    "\n",
    "```\n",
    "enron_data[\"LASTNAME FIRSTNAME\"][\"feature_name\"]\n",
    "\n",
    "or\n",
    "\n",
    "enron_data[\"LASTNAME FIRSTNAME MIDDLEINITIAL\"][\"feature_name\"]\n",
    "```\n",
    "\n",
    "What’s the value of stock options exercised by Jeffrey K Skilling?"
   ]
  },
  {
   "cell_type": "code",
   "execution_count": 30,
   "metadata": {
    "collapsed": false
   },
   "outputs": [
    {
     "data": {
      "text/plain": [
       "19250000"
      ]
     },
     "execution_count": 30,
     "metadata": {},
     "output_type": "execute_result"
    }
   ],
   "source": [
    "enron_data[\"SKILLING JEFFREY K\"][\"exercised_stock_options\"]"
   ]
  },
  {
   "cell_type": "markdown",
   "metadata": {},
   "source": [
    "#### Research the Enron Fraud\n",
    "\n",
    "In the coming lessons, we’ll talk about how the best features are often motivated by our human understanding of the problem at hand. In this case, that means knowing a little about the story of the Enron fraud.\n",
    "\n",
    "If you have an hour and a half to spare, “Enron: The Smartest Guys in the Room” is a documentary that gives an amazing overview of the story. Alternatively, there are plenty of archival newspaper stories that chronicle the rise and fall of Enron.\n",
    "\n",
    "Which of these schemes was Enron NOT involved in?\n",
    "\n",
    "- selling assets to shell companies at the end of each month, and buying them back at the beginning of the next month to hide accounting losses\n",
    "- causing electrical grid failures in California\n",
    "- X illegally obtained a government report that enabled them to corner the market on frozen concentrated orange juice futures\n",
    "- X conspiring to give a Saudi prince expedited American citizenship\n",
    "- a plan in collaboration with Blockbuster movies to stream movies over the internet\n",
    "\n"
   ]
  },
  {
   "cell_type": "markdown",
   "metadata": {},
   "source": [
    "#### Enron CEO\n",
    "\n",
    "Who was the CEO of Enron during most of the time that fraud was being perpetrated?\n",
    "\n",
    "- Jeff Skilling"
   ]
  },
  {
   "cell_type": "markdown",
   "metadata": {},
   "source": [
    "#### Enron Chairman\n",
    "\n",
    "Who was chariman of the Enron Board of directors?\n",
    "\n",
    "- Ken Lay"
   ]
  },
  {
   "cell_type": "markdown",
   "metadata": {},
   "source": [
    "#### Enron CFO\n",
    "\n",
    "Who was CFO of Enron during most of the time that fraud was going on?\n",
    "\n",
    "- Andrew Fastow"
   ]
  },
  {
   "cell_type": "markdown",
   "metadata": {},
   "source": [
    "#### Follow the Money\n",
    "\n",
    "Of these three individuals, who took home the most money (largest value of \"total_payments\" feature)?"
   ]
  },
  {
   "cell_type": "code",
   "execution_count": 50,
   "metadata": {
    "collapsed": false
   },
   "outputs": [
    {
     "data": {
      "text/plain": [
       "['METTS MARK',\n",
       " 'BAXTER JOHN C',\n",
       " 'ELLIOTT STEVEN',\n",
       " 'CORDES WILLIAM R',\n",
       " 'HANNON KEVIN P',\n",
       " 'MORDAUNT KRISTINA M',\n",
       " 'MEYER ROCKFORD G',\n",
       " 'MCMAHON JEFFREY',\n",
       " 'HORTON STANLEY C',\n",
       " 'PIPER GREGORY F',\n",
       " 'HUMPHREY GENE E',\n",
       " 'UMANOFF ADAM S',\n",
       " 'BLACHMAN JEREMY M',\n",
       " 'SUNDE MARTIN',\n",
       " 'GIBBS DANA R',\n",
       " 'LOWRY CHARLES P',\n",
       " 'COLWELL WESLEY',\n",
       " 'MULLER MARK S',\n",
       " 'JACKSON CHARLENE R',\n",
       " 'WESTFAHL RICHARD K',\n",
       " 'WALTERS GARETH W',\n",
       " 'WALLS JR ROBERT H',\n",
       " 'KITCHEN LOUISE',\n",
       " 'CHAN RONNIE',\n",
       " 'BELFER ROBERT',\n",
       " 'SHANKMAN JEFFREY A',\n",
       " 'WODRASKA JOHN',\n",
       " 'BERGSIEKER RICHARD P',\n",
       " 'URQUHART JOHN A',\n",
       " 'BIBI PHILIPPE A',\n",
       " 'RIEKER PAULA H',\n",
       " 'WHALEY DAVID A',\n",
       " 'BECK SALLY W',\n",
       " 'HAUG DAVID L',\n",
       " 'ECHOLS JOHN B',\n",
       " 'MENDELSOHN JOHN',\n",
       " 'HICKERSON GARY J',\n",
       " 'CLINE KENNETH W',\n",
       " 'LEWIS RICHARD',\n",
       " 'HAYES ROBERT E',\n",
       " 'MCCARTY DANNY J',\n",
       " 'KOPPER MICHAEL J',\n",
       " 'LEFF DANIEL P',\n",
       " 'LAVORATO JOHN J',\n",
       " 'BERBERIAN DAVID',\n",
       " 'DETMERING TIMOTHY J',\n",
       " 'WAKEHAM JOHN',\n",
       " 'POWERS WILLIAM',\n",
       " 'GOLD JOSEPH',\n",
       " 'BANNANTINE JAMES M',\n",
       " 'DUNCAN JOHN H',\n",
       " 'SHAPIRO RICHARD S',\n",
       " 'SHERRIFF JOHN R',\n",
       " 'SHELBY REX',\n",
       " 'LEMAISTRE CHARLES',\n",
       " 'DEFFNER JOSEPH M',\n",
       " 'KISHKILL JOSEPH G',\n",
       " 'WHALLEY LAWRENCE G',\n",
       " 'MCCONNELL MICHAEL S',\n",
       " 'PIRO JIM',\n",
       " 'DELAINEY DAVID W',\n",
       " 'SULLIVAN-SHAKLOVITZ COLLEEN',\n",
       " 'WROBEL BRUCE',\n",
       " 'LINDHOLM TOD A',\n",
       " 'MEYER JEROME J',\n",
       " 'LAY KENNETH L',\n",
       " 'BUTTS ROBERT H',\n",
       " 'OLSON CINDY K',\n",
       " 'MCDONALD REBECCA',\n",
       " 'CUMBERLAND MICHAEL S',\n",
       " 'GAHN ROBERT S',\n",
       " 'MCCLELLAN GEORGE',\n",
       " 'HERMANN ROBERT J',\n",
       " 'SCRIMSHAW MATTHEW',\n",
       " 'GATHMANN WILLIAM D',\n",
       " 'HAEDICKE MARK E',\n",
       " 'BOWEN JR RAYMOND M',\n",
       " 'GILLIS JOHN',\n",
       " 'FITZGERALD JAY L',\n",
       " 'MORAN MICHAEL P',\n",
       " 'REDMOND BRIAN L',\n",
       " 'BAZELIDES PHILIP J',\n",
       " 'BELDEN TIMOTHY N',\n",
       " 'DURAN WILLIAM D',\n",
       " 'THORN TERENCE H',\n",
       " 'FASTOW ANDREW S',\n",
       " 'FOY JOE',\n",
       " 'CALGER CHRISTOPHER F',\n",
       " 'RICE KENNETH D',\n",
       " 'KAMINSKI WINCENTY J',\n",
       " 'LOCKHART EUGENE E',\n",
       " 'COX DAVID',\n",
       " 'OVERDYKE JR JERE C',\n",
       " 'PEREIRA PAULO V. FERRAZ',\n",
       " 'STABLER FRANK',\n",
       " 'SKILLING JEFFREY K',\n",
       " 'BLAKE JR. NORMAN P',\n",
       " 'SHERRICK JEFFREY B',\n",
       " 'PRENTICE JAMES',\n",
       " 'GRAY RODNEY',\n",
       " 'PICKERING MARK R',\n",
       " 'THE TRAVEL AGENCY IN THE PARK',\n",
       " 'NOLES JAMES L',\n",
       " 'KEAN STEVEN J',\n",
       " 'TOTAL',\n",
       " 'FOWLER PEGGY',\n",
       " 'WASAFF GEORGE',\n",
       " 'WHITE JR THOMAS E',\n",
       " 'CHRISTODOULOU DIOMEDES',\n",
       " 'ALLEN PHILLIP K',\n",
       " 'SHARP VICTORIA T',\n",
       " 'JAEDICKE ROBERT',\n",
       " 'WINOKUR JR. HERBERT S',\n",
       " 'BROWN MICHAEL',\n",
       " 'BADUM JAMES P',\n",
       " 'HUGHES JAMES A',\n",
       " 'REYNOLDS LAWRENCE',\n",
       " 'DIMICHELE RICHARD G',\n",
       " 'BHATNAGAR SANJAY',\n",
       " 'CARTER REBECCA C',\n",
       " 'BUCHANAN HAROLD G',\n",
       " 'YEAP SOON',\n",
       " 'MURRAY JULIA H',\n",
       " 'GARLAND C KEVIN',\n",
       " 'DODSON KEITH',\n",
       " 'YEAGER F SCOTT',\n",
       " 'HIRKO JOSEPH',\n",
       " 'DIETRICH JANET R',\n",
       " 'DERRICK JR. JAMES V',\n",
       " 'FREVERT MARK A',\n",
       " 'PAI LOU L',\n",
       " 'BAY FRANKLIN R',\n",
       " 'HAYSLETT RODERICK J',\n",
       " 'FUGH JOHN L',\n",
       " 'FALLON JAMES B',\n",
       " 'KOENIG MARK E',\n",
       " 'SAVAGE FRANK',\n",
       " 'IZZO LAWRENCE L',\n",
       " 'TILNEY ELIZABETH A',\n",
       " 'MARTIN AMANDA K',\n",
       " 'BUY RICHARD B',\n",
       " 'GRAMM WENDY L',\n",
       " 'CAUSEY RICHARD A',\n",
       " 'TAYLOR MITCHELL S',\n",
       " 'DONAHUE JR JEFFREY M',\n",
       " 'GLISAN JR BEN F']"
      ]
     },
     "execution_count": 50,
     "metadata": {},
     "output_type": "execute_result"
    }
   ],
   "source": [
    "enron_data.keys()"
   ]
  },
  {
   "cell_type": "code",
   "execution_count": 51,
   "metadata": {
    "collapsed": false
   },
   "outputs": [
    {
     "data": {
      "text/plain": [
       "103559793"
      ]
     },
     "execution_count": 51,
     "metadata": {},
     "output_type": "execute_result"
    }
   ],
   "source": [
    "enron_data[\"LAY KENNETH L\"][\"total_payments\"]"
   ]
  },
  {
   "cell_type": "code",
   "execution_count": 53,
   "metadata": {
    "collapsed": false
   },
   "outputs": [
    {
     "data": {
      "text/plain": [
       "2424083"
      ]
     },
     "execution_count": 53,
     "metadata": {},
     "output_type": "execute_result"
    }
   ],
   "source": [
    "enron_data[\"FASTOW ANDREW S\"][\"total_payments\"]"
   ]
  },
  {
   "cell_type": "code",
   "execution_count": 54,
   "metadata": {
    "collapsed": false
   },
   "outputs": [
    {
     "data": {
      "text/plain": [
       "8682716"
      ]
     },
     "execution_count": 54,
     "metadata": {},
     "output_type": "execute_result"
    }
   ],
   "source": [
    "enron_data[\"SKILLING JEFFREY K\"][\"total_payments\"]"
   ]
  },
  {
   "cell_type": "markdown",
   "metadata": {},
   "source": [
    "#### Unfilled Features\n",
    "\n",
    "For nearly every person in the dataset, not every feature has a value. How is it denoted when a feature doesn't have a well-defined value?\n",
    "\n",
    "- NaN"
   ]
  },
  {
   "cell_type": "markdown",
   "metadata": {
    "collapsed": false
   },
   "source": [
    "#### Dealing with Unfilled Features\n",
    "\n",
    "How many folks in the dataset have a quantified salary? What about a known email address?"
   ]
  },
  {
   "cell_type": "code",
   "execution_count": 55,
   "metadata": {
    "collapsed": false
   },
   "outputs": [
    {
     "data": {
      "text/plain": [
       "51"
      ]
     },
     "execution_count": 55,
     "metadata": {},
     "output_type": "execute_result"
    }
   ],
   "source": [
    "len(enron_data_dfT[enron_data_dfT.salary == 'NaN'])"
   ]
  },
  {
   "cell_type": "code",
   "execution_count": 56,
   "metadata": {
    "collapsed": false
   },
   "outputs": [
    {
     "data": {
      "text/plain": [
       "95"
      ]
     },
     "execution_count": 56,
     "metadata": {},
     "output_type": "execute_result"
    }
   ],
   "source": [
    "len(enron_data_dfT) - len(enron_data_dfT[enron_data_dfT.salary == 'NaN'])"
   ]
  },
  {
   "cell_type": "code",
   "execution_count": 57,
   "metadata": {
    "collapsed": false
   },
   "outputs": [
    {
     "data": {
      "text/plain": [
       "111"
      ]
     },
     "execution_count": 57,
     "metadata": {},
     "output_type": "execute_result"
    }
   ],
   "source": [
    "len(enron_data_dfT) - len(enron_data_dfT[enron_data_dfT.email_address == 'NaN'])"
   ]
  },
  {
   "cell_type": "markdown",
   "metadata": {},
   "source": [
    "#### Dict-to-array conversion\n",
    "\n",
    "A python dictionary can’t be read directly into an sklearn classification or regression algorithm; instead, it needs a numpy array or a list of lists (each element of the list (itself a list) is a data point, and the elements of the smaller list are the features of that point).\n",
    "\n",
    "We’ve written some helper functions (featureFormat() and targetFeatureSplit() in tools/feature_format.py) that can take a list of feature names and the data dictionary, and return a numpy array.\n",
    "\n",
    "In the case when a feature does not have a value for a particular person, this function will also replace the feature value with 0 (zero)."
   ]
  },
  {
   "cell_type": "code",
   "execution_count": 58,
   "metadata": {
    "collapsed": true
   },
   "outputs": [],
   "source": [
    "\"\"\" \n",
    "    A general tool for converting data from the\n",
    "    dictionary format to an (n x k) python list that's \n",
    "    ready for training an sklearn algorithm\n",
    "    \n",
    "    n--no. of key-value pairs in dictonary\n",
    "    k--no. of features being extracted\n",
    "    \n",
    "    dictionary keys are names of persons in dataset\n",
    "    dictionary values are dictionaries, where each\n",
    "        key-value pair in the dict is the name\n",
    "        of a feature, and its value for that person\n",
    "    \n",
    "    In addition to converting a dictionary to a numpy \n",
    "    array, you may want to separate the labels from the\n",
    "    features--this is what targetFeatureSplit is for\n",
    "    so, if you want to have the poi label as the target,\n",
    "    and the features you want to use are the person's\n",
    "    salary and bonus, here's what you would do:\n",
    "    \n",
    "    feature_list = [\"poi\", \"salary\", \"bonus\"] \n",
    "    data_array = featureFormat( data_dictionary, feature_list )\n",
    "    label, features = targetFeatureSplit(data_array)\n",
    "    \n",
    "    the line above (targetFeatureSplit) assumes that the\n",
    "    label is the _first_ item in feature_list--very important\n",
    "    that poi is listed first!\n",
    "\"\"\"\n",
    "\n",
    "import numpy as np"
   ]
  },
  {
   "cell_type": "code",
   "execution_count": 59,
   "metadata": {
    "collapsed": true
   },
   "outputs": [],
   "source": [
    "def featureFormat( dictionary, features, remove_NaN=True, remove_all_zeroes=True, remove_any_zeroes=False, sort_keys = False):\n",
    "    \"\"\" convert dictionary to numpy array of features\n",
    "        remove_NaN = True will convert \"NaN\" string to 0.0\n",
    "        remove_all_zeroes = True will omit any data points for which\n",
    "            all the features you seek are 0.0\n",
    "        remove_any_zeroes = True will omit any data points for which\n",
    "            any of the features you seek are 0.0\n",
    "        sort_keys = True sorts keys by alphabetical order. Setting the value as\n",
    "            a string opens the corresponding pickle file with a preset key\n",
    "            order (this is used for Python 3 compatibility, and sort_keys\n",
    "            should be left as False for the course mini-projects).\n",
    "        NOTE: first feature is assumed to be 'poi' and is not checked for\n",
    "            removal for zero or missing values.\n",
    "    \"\"\"\n",
    "\n",
    "\n",
    "    return_list = []\n",
    "\n",
    "    # Key order - first branch is for Python 3 compatibility on mini-projects,\n",
    "    # second branch is for compatibility on final project.\n",
    "    if isinstance(sort_keys, str):\n",
    "        import pickle\n",
    "        keys = pickle.load(open(sort_keys, \"rb\"))\n",
    "    elif sort_keys:\n",
    "        keys = sorted(dictionary.keys())\n",
    "    else:\n",
    "        keys = dictionary.keys()\n",
    "\n",
    "    for key in keys:\n",
    "        tmp_list = []\n",
    "        for feature in features:\n",
    "            try:\n",
    "                dictionary[key][feature]\n",
    "            except KeyError:\n",
    "                print \"error: key \", feature, \" not present\"\n",
    "                return\n",
    "            value = dictionary[key][feature]\n",
    "            if value==\"NaN\" and remove_NaN:\n",
    "                value = 0\n",
    "            tmp_list.append( float(value) )\n",
    "\n",
    "        # Logic for deciding whether or not to add the data point.\n",
    "        append = True\n",
    "        # exclude 'poi' class as criteria.\n",
    "        if features[0] == 'poi':\n",
    "            test_list = tmp_list[1:]\n",
    "        else:\n",
    "            test_list = tmp_list\n",
    "        ### if all features are zero and you want to remove\n",
    "        ### data points that are all zero, do that here\n",
    "        if remove_all_zeroes:\n",
    "            append = False\n",
    "            for item in test_list:\n",
    "                if item != 0 and item != \"NaN\":\n",
    "                    append = True\n",
    "                    break\n",
    "        ### if any features for a given data point are zero\n",
    "        ### and you want to remove data points with any zeroes,\n",
    "        ### handle that here\n",
    "        if remove_any_zeroes:\n",
    "            if 0 in test_list or \"NaN\" in test_list:\n",
    "                append = False\n",
    "        ### Append the data point if flagged for addition.\n",
    "        if append:\n",
    "            return_list.append( np.array(tmp_list) )\n",
    "\n",
    "    return np.array(return_list)"
   ]
  },
  {
   "cell_type": "code",
   "execution_count": 60,
   "metadata": {
    "collapsed": true
   },
   "outputs": [],
   "source": [
    "def targetFeatureSplit( data ):\n",
    "    \"\"\" \n",
    "        given a numpy array like the one returned from\n",
    "        featureFormat, separate out the first feature\n",
    "        and put it into its own list (this should be the \n",
    "        quantity you want to predict)\n",
    "        return targets and features as separate lists\n",
    "        (sklearn can generally handle both lists and numpy arrays as \n",
    "        input formats when training/predicting)\n",
    "    \"\"\"\n",
    "\n",
    "    target = []\n",
    "    features = []\n",
    "    for item in data:\n",
    "        target.append( item[0] )\n",
    "        features.append( item[1:] )\n",
    "\n",
    "    return target, features"
   ]
  },
  {
   "cell_type": "markdown",
   "metadata": {},
   "source": [
    "#### Missing POIs 1\n",
    "\n",
    "As you saw a little while ago, not every POI has an entry in the dataset (e.g. Michael Krautz). That’s because the dataset was created using the financial data you can find in final_project/enron61702insiderpay.pdf, which is missing some POI’s (those absences propagated through to the final dataset). On the other hand, for many of these “missing” POI’s, we do have emails.\n",
    "\n",
    "While it would be straightforward to add these POI’s and their email information to the E+F dataset, and just put “NaN” for their financial information, this could introduce a subtle problem. You will walk through that here.\n",
    "\n",
    "How many people in the E+F dataset (as it currently exists) have “NaN” for their total payments? What percentage of people in the dataset as a whole is this?"
   ]
  },
  {
   "cell_type": "code",
   "execution_count": 72,
   "metadata": {
    "collapsed": false
   },
   "outputs": [
    {
     "data": {
      "text/plain": [
       "NaN          0.143836\n",
       "1279         0.006849\n",
       "102500       0.006849\n",
       "1208649      0.006849\n",
       "762135       0.006849\n",
       "213071       0.006849\n",
       "1101393      0.006849\n",
       "1934359      0.006849\n",
       "1321557      0.006849\n",
       "8682716      0.006849\n",
       "4484442      0.006849\n",
       "1099100      0.006849\n",
       "911453       0.006849\n",
       "618850       0.006849\n",
       "1545059      0.006849\n",
       "1086821      0.006849\n",
       "1747522      0.006849\n",
       "2151         0.006849\n",
       "2047593      0.006849\n",
       "1318763      0.006849\n",
       "969068       0.006849\n",
       "362096       0.006849\n",
       "875889       0.006849\n",
       "87410        0.006849\n",
       "2014835      0.006849\n",
       "2101364      0.006849\n",
       "477557       0.006849\n",
       "1092663      0.006849\n",
       "3859065      0.006849\n",
       "228474       0.006849\n",
       "               ...   \n",
       "319941       0.006849\n",
       "87492        0.006849\n",
       "309886585    0.006849\n",
       "49288        0.006849\n",
       "189583       0.006849\n",
       "1204583      0.006849\n",
       "148          0.006849\n",
       "2368151      0.006849\n",
       "1034395      0.006849\n",
       "2146973      0.006849\n",
       "50591        0.006849\n",
       "1410464      0.006849\n",
       "812194       0.006849\n",
       "1848227      0.006849\n",
       "860136       0.006849\n",
       "3750         0.006849\n",
       "1490344      0.006849\n",
       "111529       0.006849\n",
       "288682       0.006849\n",
       "1054637      0.006849\n",
       "17252530     0.006849\n",
       "77492        0.006849\n",
       "3123383      0.006849\n",
       "966522       0.006849\n",
       "27942        0.006849\n",
       "999356       0.006849\n",
       "5501630      0.006849\n",
       "182466       0.006849\n",
       "1061827      0.006849\n",
       "84992        0.006849\n",
       "Name: total_payments, dtype: float64"
      ]
     },
     "execution_count": 72,
     "metadata": {},
     "output_type": "execute_result"
    }
   ],
   "source": [
    "#enron_data_dfT\n",
    "enron_data_dfT[\"total_payments\"].value_counts(normalize=True)"
   ]
  },
  {
   "cell_type": "markdown",
   "metadata": {
    "collapsed": true
   },
   "source": [
    "Answer: 21 people out of 146, 14.4%"
   ]
  },
  {
   "cell_type": "markdown",
   "metadata": {},
   "source": [
    "#### Missing POIs 2\n",
    "\n",
    "How many POIs in the E+F dataset have \"NaN\" for their total payments? What percentage of POIs as a whole is this?"
   ]
  },
  {
   "cell_type": "code",
   "execution_count": 81,
   "metadata": {
    "collapsed": false
   },
   "outputs": [],
   "source": [
    "#enron_data_dfT.keys()\n",
    "#enron_data_dfT.poi\n",
    "poi_EF = enron_data_dfT[enron_data_dfT.poi == True]"
   ]
  },
  {
   "cell_type": "code",
   "execution_count": 84,
   "metadata": {
    "collapsed": false
   },
   "outputs": [
    {
     "data": {
      "text/plain": [
       "5501630      1\n",
       "1587421      1\n",
       "1639297      1\n",
       "2652612      1\n",
       "1099100      1\n",
       "1490344      1\n",
       "288682       1\n",
       "4747979      1\n",
       "360300       1\n",
       "2003885      1\n",
       "103559793    1\n",
       "2424083      1\n",
       "91093        1\n",
       "1868758      1\n",
       "8682716      1\n",
       "505050       1\n",
       "1272284      1\n",
       "2669589      1\n",
       "Name: total_payments, dtype: int64"
      ]
     },
     "execution_count": 84,
     "metadata": {},
     "output_type": "execute_result"
    }
   ],
   "source": [
    "poi_EF.total_payments.value_counts()"
   ]
  },
  {
   "cell_type": "markdown",
   "metadata": {},
   "source": [
    "Answer => 0"
   ]
  },
  {
   "cell_type": "markdown",
   "metadata": {},
   "source": [
    "#### Missing POIs 3\n",
    "\n",
    "If a machine learning algorithm were to use total_payments as a feature, would you expect it to associate a \"NaN\" value with POIs or non-POIs?\n",
    "\n",
    "Answer: non-POIs"
   ]
  },
  {
   "cell_type": "markdown",
   "metadata": {},
   "source": [
    "#### Misiong POIs 4\n",
    "\n",
    "If you added in, say, 10 more data points which were all POI’s, and put “NaN” for the total payments for those folks, the numbers you just calculated would change.\n",
    "What is the new number of people of the dataset? \n",
    "\n",
    "156\n",
    "\n",
    "What is the new number of folks with “NaN” for total payments?\n",
    "\n",
    "31\n",
    "\n",
    "This makes for 20% of them with a \"NaN\" overall.\n"
   ]
  },
  {
   "cell_type": "markdown",
   "metadata": {},
   "source": [
    "#### Missing POIs 5\n",
    "\n",
    "What is the new number of POIs in the dataset?\n",
    "\n",
    "28\n",
    "\n",
    "What is the new number of POIs with NaN for total_payments?\n",
    "\n",
    "10\n",
    "\n",
    "That's 36% of the POI's who have \"NaN\" for total_payments, a big jump from before."
   ]
  },
  {
   "cell_type": "code",
   "execution_count": 86,
   "metadata": {
    "collapsed": false
   },
   "outputs": [
    {
     "data": {
      "text/plain": [
       "28"
      ]
     },
     "execution_count": 86,
     "metadata": {},
     "output_type": "execute_result"
    }
   ],
   "source": [
    "len(poi_EF) + 10"
   ]
  },
  {
   "cell_type": "markdown",
   "metadata": {},
   "source": [
    "#### Missing POIs 6\n",
    "\n",
    "Once the new data points are added, do you think a supervised clasificaiton algorithm might interpret \"NaN\" for total_payments as a clue that someone is a POI?\n",
    "\n",
    "Yes"
   ]
  },
  {
   "cell_type": "markdown",
   "metadata": {},
   "source": [
    "#### Mixing Data Sources\n",
    "\n",
    "Adding in the new POI’s in this example, none of whom we have financial information for, has introduced a subtle problem, that our lack of financial information about them can be picked up by an algorithm as a clue that they’re POIs. Another way to think about this is that there’s now a difference in how we generated the data for our two classes--non-POIs all come from the financial spreadsheet, while many POIs get added in by hand afterwards. That difference can trick us into thinking we have better performance than we do--suppose you use your POI detector to decide whether a new, unseen person is a POI, and that person isn’t on the spreadsheet. Then all their financial data would contain “NaN” but the person is very likely not a POI (there are many more non-POIs than POIs in the world, and even at Enron)--you’d be likely to accidentally identify them as a POI, though!\n",
    "\n",
    "This goes to say that, when generating or augmenting a dataset, you should be exceptionally careful if your data are coming from different sources for different classes. It can easily lead to the type of bias or mistake that we showed here. There are ways to deal with this, for example, you wouldn’t have to worry about this problem if you used only email data--in that case, discrepancies in the financial data wouldn’t matter because financial features aren’t being used. There are also more sophisticated ways of estimating how much of an effect these biases can have on your final answer; those are beyond the scope of this course.\n",
    "\n",
    "For now, the takeaway message is to be very careful about introducing features that come from different sources depending on the class! It’s a classic way to accidentally introduce biases and mistakes.\n"
   ]
  },
  {
   "cell_type": "code",
   "execution_count": null,
   "metadata": {
    "collapsed": true
   },
   "outputs": [],
   "source": []
  }
 ],
 "metadata": {
  "kernelspec": {
   "display_name": "Python [default]",
   "language": "python",
   "name": "python2"
  },
  "language_info": {
   "codemirror_mode": {
    "name": "ipython",
    "version": 2
   },
   "file_extension": ".py",
   "mimetype": "text/x-python",
   "name": "python",
   "nbconvert_exporter": "python",
   "pygments_lexer": "ipython2",
   "version": "2.7.12"
  }
 },
 "nbformat": 4,
 "nbformat_minor": 0
}
