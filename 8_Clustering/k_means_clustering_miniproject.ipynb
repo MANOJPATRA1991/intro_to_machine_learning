{
 "cells": [
  {
   "cell_type": "markdown",
   "metadata": {},
   "source": [
    "In this project, we’ll apply k-means clustering to our Enron financial data. Our final goal, of course, is to identify persons of interest; since we have labeled data, this is not a question that particularly calls for an unsupervised approach like k-means clustering.\n",
    "\n",
    "Nonetheless, you’ll get some hands-on practice with k-means in this project, and play around with feature scaling, which will give you a sneak preview of the next lesson’s material.\n",
    "\n",
    "https://github.com/mudspringhiker/ud120-projects/blob/master/k_means/k_means_cluster.py\n",
    "\n",
    "The starter code can be found in k_means/k_means_cluster.py, which reads in the email + financial (E+F) dataset and gets us ready for clustering. You’ll start with performing k-means based on just two financial features--take a look at the code, and determine which features the code uses for clustering.\n",
    "\n",
    "Run the code, which will create a scatterplot of the data. Think a little bit about what clusters you would expect to arise if 2 clusters are created."
   ]
  },
  {
   "cell_type": "code",
   "execution_count": 1,
   "metadata": {
    "collapsed": true
   },
   "outputs": [],
   "source": [
    "import pickle\n",
    "import numpy as np\n",
    "import matplotlib.pyplot as plt\n",
    "%matplotlib inline"
   ]
  },
  {
   "cell_type": "code",
   "execution_count": 2,
   "metadata": {
    "collapsed": true
   },
   "outputs": [],
   "source": [
    "def featureFormat(dictionary, features, remove_NaN=True,\n",
    "                  remove_all_zeroes=False, remove_any_zeroes=False, sort_keys=False):\n",
    "    \"\"\" convert dictionary to numpy array of features\n",
    "        remove_NaN = True will convert \"NaN\" string to 0.0\n",
    "        remove_all_zeroes = True will omit any data points for which\n",
    "            all the features you seek are 0.0\n",
    "        remove_any_zeroes = True will omit any data points for which\n",
    "            any of the features you seek are 0.0\n",
    "        sort_keys = True sorts keys by alphabetical order. Setting the value as\n",
    "            a string opens the corresponding pickle file with a preset key\n",
    "            order (this is used for Python 3 compatibility, and sort_keys\n",
    "            should be left as False for the course mini-projects).\n",
    "        NOTE: first feature is assumed to be 'poi' and is not checked for\n",
    "            removal for zero or missing values.\n",
    "    \"\"\"\n",
    "    return_list = []\n",
    "    # Key order - first branch is for Python 3 compatibility on mini-projects,\n",
    "    # second branch is for compatibility on final project.\n",
    "    if isinstance(sort_keys, str):\n",
    "        import pickle\n",
    "        keys = pickle.load(open(sort_keys, \"rb\"))\n",
    "    elif sort_keys:\n",
    "        keys = sorted(dictionary.keys())\n",
    "    else:\n",
    "        keys = dictionary.keys()\n",
    "\n",
    "    for key in keys:\n",
    "        tmp_list = []\n",
    "        for feature in features:\n",
    "            try:\n",
    "                dictionary[key][feature]\n",
    "            except KeyError:\n",
    "                print \"error: key \", feature, \" not present\"\n",
    "                return\n",
    "            value = dictionary[key][feature]\n",
    "            if value==\"NaN\" and remove_NaN:\n",
    "                value = 0\n",
    "            tmp_list.append( float(value) )\n",
    "\n",
    "        # Logic for deciding whether or not to add the data point.\n",
    "        append = True\n",
    "        # exclude 'poi' class as criteria.\n",
    "        if features[0] == 'poi':\n",
    "            test_list = tmp_list[1:]\n",
    "        else:\n",
    "            test_list = tmp_list\n",
    "        ### if all features are zero and you want to remove\n",
    "        ### data points that are all zero, do that here\n",
    "        if remove_all_zeroes:\n",
    "            append = False\n",
    "            for item in test_list:\n",
    "                if item != 0 and item != \"NaN\":\n",
    "                    append = True\n",
    "                    break\n",
    "        ### if any features for a given data point are zero\n",
    "        ### and you want to remove data points with any zeroes,\n",
    "        ### handle that here\n",
    "        if remove_any_zeroes:\n",
    "            if 0 in test_list or \"NaN\" in test_list:\n",
    "                append = False\n",
    "        ### Append the data point if flagged for addition.\n",
    "        if append:\n",
    "            return_list.append( np.array(tmp_list) )\n",
    "\n",
    "    return np.array(return_list)"
   ]
  },
  {
   "cell_type": "code",
   "execution_count": 3,
   "metadata": {
    "collapsed": true
   },
   "outputs": [],
   "source": [
    "def targetFeatureSplit( data ):\n",
    "    \"\"\" \n",
    "        given a numpy array like the one returned from\n",
    "        featureFormat, separate out the first feature\n",
    "        and put it into its own list (this should be the \n",
    "        quantity you want to predict)\n",
    "\n",
    "        return targets and features as separate lists\n",
    "\n",
    "        (sklearn can generally handle both lists and numpy arrays as \n",
    "        input formats when training/predicting)\n",
    "    \"\"\"\n",
    "\n",
    "    target = []\n",
    "    features = []\n",
    "    for item in data:\n",
    "        target.append( item[0] )\n",
    "        features.append( item[1:] )\n",
    "\n",
    "    return target, features"
   ]
  },
  {
   "cell_type": "code",
   "execution_count": 4,
   "metadata": {
    "collapsed": true
   },
   "outputs": [],
   "source": [
    "def Draw(pred, features, poi, mark_poi=False, name=\"image.png\",\n",
    "         f1_name=\"feature 1\", f2_name=\"feature 2\"):\n",
    "    \"\"\" some plotting code designed to help you visualize your clusters\"\"\"\n",
    "    ### plot each cluster with a different color-- add more colors for\n",
    "    ### drawing more than five clusters\n",
    "    colors= [\"b\", \"c\", \"k\", \"m\", \"g\"]\n",
    "    for ii, pp in enumerate(pred):\n",
    "        plt.scatter(features[ii][0], features[ii][1], color = colors[pred[ii]])\n",
    "    ### if you like, place red stars over points that are POIs\n",
    "    if mark_poi:\n",
    "        for ii, pp in enumerate(pred):\n",
    "            if poi[ii]:\n",
    "                plt.scatter(features[ii][0], features[ii][1], color=\"r\", marker=\"*\")\n",
    "    plt.xlabel(f1_name)\n",
    "    plt.ylabel(f2_name)\n",
    "    plt.savefig(name)\n",
    "    plt.show()"
   ]
  },
  {
   "cell_type": "code",
   "execution_count": 5,
   "metadata": {
    "collapsed": false
   },
   "outputs": [
    {
     "data": {
      "text/plain": [
       "{'bonus': 97343619,\n",
       " 'deferral_payments': 32083396,\n",
       " 'deferred_income': -27992891,\n",
       " 'director_fees': 1398517,\n",
       " 'email_address': 'NaN',\n",
       " 'exercised_stock_options': 311764000,\n",
       " 'expenses': 5235198,\n",
       " 'from_messages': 'NaN',\n",
       " 'from_poi_to_this_person': 'NaN',\n",
       " 'from_this_person_to_poi': 'NaN',\n",
       " 'loan_advances': 83925000,\n",
       " 'long_term_incentive': 48521928,\n",
       " 'other': 42667589,\n",
       " 'poi': False,\n",
       " 'restricted_stock': 130322299,\n",
       " 'restricted_stock_deferred': -7576788,\n",
       " 'salary': 26704229,\n",
       " 'shared_receipt_with_poi': 'NaN',\n",
       " 'to_messages': 'NaN',\n",
       " 'total_payments': 309886585,\n",
       " 'total_stock_value': 434509511}"
      ]
     },
     "execution_count": 5,
     "metadata": {},
     "output_type": "execute_result"
    }
   ],
   "source": [
    "### load in the dict of dicts containing all the data on each person in the dataset\n",
    "data_dict = pickle.load( open(\"../ud120-projects/final_project/final_project_dataset.pkl\", \"r\") )\n",
    "### there's an outlier--remove it! \n",
    "data_dict.pop(\"TOTAL\", 0)"
   ]
  },
  {
   "cell_type": "code",
   "execution_count": 6,
   "metadata": {
    "collapsed": false
   },
   "outputs": [],
   "source": [
    "### the input features we want to use \n",
    "### can be any key in the person-level dictionary (salary, director_fees, etc.) \n",
    "feature_1 = \"salary\"\n",
    "feature_2 = \"exercised_stock_options\"\n",
    "poi  = \"poi\"\n",
    "features_list = [poi, feature_1, feature_2]\n",
    "data = featureFormat(data_dict, features_list )\n",
    "poi, finance_features = targetFeatureSplit( data )"
   ]
  },
  {
   "cell_type": "code",
   "execution_count": 7,
   "metadata": {
    "collapsed": false
   },
   "outputs": [
    {
     "data": {
      "text/plain": [
       "array([[  0.00000000e+00,   3.65788000e+05,   0.00000000e+00],\n",
       "       [  0.00000000e+00,   2.67102000e+05,   6.68054400e+06],\n",
       "       [  0.00000000e+00,   1.70941000e+05,   4.89034400e+06],\n",
       "       [  0.00000000e+00,   0.00000000e+00,   6.51850000e+05],\n",
       "       [  1.00000000e+00,   2.43293000e+05,   5.53800100e+06],\n",
       "       [  0.00000000e+00,   2.67093000e+05,   0.00000000e+00],\n",
       "       [  0.00000000e+00,   0.00000000e+00,   4.93489000e+05],\n",
       "       [  0.00000000e+00,   3.70448000e+05,   1.10405400e+06],\n",
       "       [  0.00000000e+00,   0.00000000e+00,   5.21056900e+06],\n",
       "       [  0.00000000e+00,   1.97091000e+05,   8.80290000e+05],\n",
       "       [  0.00000000e+00,   1.30724000e+05,   2.28276800e+06],\n",
       "       [  0.00000000e+00,   2.88589000e+05,   0.00000000e+00],\n",
       "       [  0.00000000e+00,   2.48546000e+05,   7.65313000e+05],\n",
       "       [  0.00000000e+00,   2.57486000e+05,   0.00000000e+00],\n",
       "       [  0.00000000e+00,   0.00000000e+00,   2.21827500e+06],\n",
       "       [  0.00000000e+00,   0.00000000e+00,   3.72205000e+05],\n",
       "       [  1.00000000e+00,   2.88542000e+05,   0.00000000e+00],\n",
       "       [  0.00000000e+00,   2.51654000e+05,   1.05632000e+06],\n",
       "       [  0.00000000e+00,   2.88558000e+05,   1.85063000e+05],\n",
       "       [  0.00000000e+00,   6.37440000e+04,   0.00000000e+00],\n",
       "       [  0.00000000e+00,   0.00000000e+00,   1.03032900e+06],\n",
       "       [  0.00000000e+00,   3.57091000e+05,   4.34654400e+06],\n",
       "       [  0.00000000e+00,   2.71442000e+05,   8.10420000e+04],\n",
       "       [  0.00000000e+00,   0.00000000e+00,   0.00000000e+00],\n",
       "       [  0.00000000e+00,   0.00000000e+00,   3.28500000e+03],\n",
       "       [  0.00000000e+00,   3.04110000e+05,   1.44189800e+06],\n",
       "       [  0.00000000e+00,   0.00000000e+00,   0.00000000e+00],\n",
       "       [  0.00000000e+00,   1.87922000e+05,   0.00000000e+00],\n",
       "       [  0.00000000e+00,   0.00000000e+00,   0.00000000e+00],\n",
       "       [  0.00000000e+00,   2.13625000e+05,   1.46573400e+06],\n",
       "       [  1.00000000e+00,   2.49201000e+05,   1.63523800e+06],\n",
       "       [  0.00000000e+00,   0.00000000e+00,   9.87180000e+04],\n",
       "       [  0.00000000e+00,   2.31330000e+05,   0.00000000e+00],\n",
       "       [  0.00000000e+00,   0.00000000e+00,   0.00000000e+00],\n",
       "       [  0.00000000e+00,   1.82245000e+05,   6.01438000e+05],\n",
       "       [  0.00000000e+00,   0.00000000e+00,   0.00000000e+00],\n",
       "       [  0.00000000e+00,   2.11788000e+05,   0.00000000e+00],\n",
       "       [  0.00000000e+00,   0.00000000e+00,   0.00000000e+00],\n",
       "       [  0.00000000e+00,   0.00000000e+00,   8.50477000e+05],\n",
       "       [  0.00000000e+00,   0.00000000e+00,   0.00000000e+00],\n",
       "       [  0.00000000e+00,   0.00000000e+00,   6.64375000e+05],\n",
       "       [  1.00000000e+00,   2.24305000e+05,   0.00000000e+00],\n",
       "       [  0.00000000e+00,   2.73746000e+05,   0.00000000e+00],\n",
       "       [  0.00000000e+00,   3.39288000e+05,   4.15899500e+06],\n",
       "       [  0.00000000e+00,   2.16582000e+05,   1.62439600e+06],\n",
       "       [  0.00000000e+00,   2.10500000e+05,   2.02786500e+06],\n",
       "       [  0.00000000e+00,   0.00000000e+00,   0.00000000e+00],\n",
       "       [  0.00000000e+00,   0.00000000e+00,   0.00000000e+00],\n",
       "       [  0.00000000e+00,   2.72880000e+05,   4.36515000e+05],\n",
       "       [  0.00000000e+00,   4.77000000e+02,   4.04615700e+06],\n",
       "       [  0.00000000e+00,   0.00000000e+00,   3.71750000e+05],\n",
       "       [  0.00000000e+00,   2.69076000e+05,   6.07837000e+05],\n",
       "       [  0.00000000e+00,   4.28780000e+05,   1.83555800e+06],\n",
       "       [  1.00000000e+00,   2.11844000e+05,   1.62439600e+06],\n",
       "       [  0.00000000e+00,   0.00000000e+00,   4.12878000e+05],\n",
       "       [  0.00000000e+00,   2.06121000e+05,   1.73780000e+04],\n",
       "       [  0.00000000e+00,   1.74246000e+05,   0.00000000e+00],\n",
       "       [  0.00000000e+00,   5.10364000e+05,   3.28296000e+06],\n",
       "       [  0.00000000e+00,   3.65038000e+05,   1.62301000e+06],\n",
       "       [  0.00000000e+00,   0.00000000e+00,   0.00000000e+00],\n",
       "       [  1.00000000e+00,   3.65163000e+05,   2.29111300e+06],\n",
       "       [  0.00000000e+00,   1.62779000e+05,   1.36237500e+06],\n",
       "       [  0.00000000e+00,   0.00000000e+00,   1.39130000e+05],\n",
       "       [  0.00000000e+00,   2.36457000e+05,   2.54936100e+06],\n",
       "       [  0.00000000e+00,   0.00000000e+00,   0.00000000e+00],\n",
       "       [  1.00000000e+00,   1.07232100e+06,   3.43483840e+07],\n",
       "       [  0.00000000e+00,   2.61516000e+05,   0.00000000e+00],\n",
       "       [  0.00000000e+00,   3.29078000e+05,   1.63703400e+06],\n",
       "       [  0.00000000e+00,   0.00000000e+00,   7.57301000e+05],\n",
       "       [  0.00000000e+00,   1.84899000e+05,   0.00000000e+00],\n",
       "       [  0.00000000e+00,   1.92008000e+05,   8.32370000e+04],\n",
       "       [  0.00000000e+00,   2.63413000e+05,   5.06765000e+05],\n",
       "       [  0.00000000e+00,   2.62663000e+05,   1.87500000e+05],\n",
       "       [  0.00000000e+00,   0.00000000e+00,   7.59557000e+05],\n",
       "       [  0.00000000e+00,   0.00000000e+00,   1.75376600e+06],\n",
       "       [  0.00000000e+00,   3.74125000e+05,   6.08750000e+05],\n",
       "       [  1.00000000e+00,   2.78601000e+05,   0.00000000e+00],\n",
       "       [  0.00000000e+00,   0.00000000e+00,   9.80300000e+03],\n",
       "       [  0.00000000e+00,   1.99157000e+05,   6.64461000e+05],\n",
       "       [  0.00000000e+00,   0.00000000e+00,   5.95390000e+04],\n",
       "       [  0.00000000e+00,   9.68400000e+04,   7.50903900e+06],\n",
       "       [  0.00000000e+00,   8.08180000e+04,   1.59964100e+06],\n",
       "       [  1.00000000e+00,   2.13999000e+05,   9.53136000e+05],\n",
       "       [  0.00000000e+00,   2.10692000e+05,   1.45186900e+06],\n",
       "       [  0.00000000e+00,   2.22093000e+05,   4.45247600e+06],\n",
       "       [  1.00000000e+00,   4.40698000e+05,   0.00000000e+00],\n",
       "       [  0.00000000e+00,   0.00000000e+00,   3.43434000e+05],\n",
       "       [  1.00000000e+00,   2.40189000e+05,   0.00000000e+00],\n",
       "       [  1.00000000e+00,   4.20636000e+05,   1.97941750e+07],\n",
       "       [  0.00000000e+00,   2.75101000e+05,   8.50010000e+05],\n",
       "       [  0.00000000e+00,   0.00000000e+00,   0.00000000e+00],\n",
       "       [  0.00000000e+00,   3.14288000e+05,   1.17551000e+05],\n",
       "       [  0.00000000e+00,   9.49410000e+04,   5.26657800e+06],\n",
       "       [  0.00000000e+00,   0.00000000e+00,   0.00000000e+00],\n",
       "       [  0.00000000e+00,   2.39502000e+05,   0.00000000e+00],\n",
       "       [  1.00000000e+00,   1.11125800e+06,   1.92500000e+07],\n",
       "       [  0.00000000e+00,   0.00000000e+00,   0.00000000e+00],\n",
       "       [  0.00000000e+00,   0.00000000e+00,   1.42646900e+06],\n",
       "       [  0.00000000e+00,   0.00000000e+00,   8.86231000e+05],\n",
       "       [  0.00000000e+00,   6.61500000e+03,   0.00000000e+00],\n",
       "       [  0.00000000e+00,   6.55037000e+05,   2.87980000e+04],\n",
       "       [  0.00000000e+00,   0.00000000e+00,   0.00000000e+00],\n",
       "       [  0.00000000e+00,   0.00000000e+00,   0.00000000e+00],\n",
       "       [  0.00000000e+00,   4.04338000e+05,   2.02204800e+06],\n",
       "       [  0.00000000e+00,   0.00000000e+00,   1.32457800e+06],\n",
       "       [  0.00000000e+00,   2.59996000e+05,   1.66826000e+06],\n",
       "       [  0.00000000e+00,   3.17543000e+05,   1.29704900e+06],\n",
       "       [  0.00000000e+00,   0.00000000e+00,   5.12715500e+06],\n",
       "       [  0.00000000e+00,   2.01955000e+05,   1.72954100e+06],\n",
       "       [  0.00000000e+00,   2.48146000e+05,   2.81073000e+05],\n",
       "       [  0.00000000e+00,   0.00000000e+00,   4.31750000e+05],\n",
       "       [  0.00000000e+00,   0.00000000e+00,   0.00000000e+00],\n",
       "       [  0.00000000e+00,   0.00000000e+00,   0.00000000e+00],\n",
       "       [  0.00000000e+00,   0.00000000e+00,   2.57817000e+05],\n",
       "       [  0.00000000e+00,   0.00000000e+00,   7.54966000e+05],\n",
       "       [  0.00000000e+00,   7.63990000e+04,   4.16067200e+06],\n",
       "       [  0.00000000e+00,   2.62788000e+05,   8.19175500e+06],\n",
       "       [  0.00000000e+00,   0.00000000e+00,   2.60449000e+06],\n",
       "       [  0.00000000e+00,   2.61809000e+05,   0.00000000e+00],\n",
       "       [  0.00000000e+00,   2.48017000e+05,   8.25464000e+05],\n",
       "       [  0.00000000e+00,   0.00000000e+00,   1.92758000e+05],\n",
       "       [  0.00000000e+00,   2.29284000e+05,   4.00478000e+05],\n",
       "       [  0.00000000e+00,   2.31946000e+05,   6.36246000e+05],\n",
       "       [  0.00000000e+00,   2.21003000e+05,   0.00000000e+00],\n",
       "       [  1.00000000e+00,   1.58403000e+05,   8.30855200e+06],\n",
       "       [  1.00000000e+00,   0.00000000e+00,   3.07660640e+07],\n",
       "       [  0.00000000e+00,   2.50100000e+05,   1.55001900e+06],\n",
       "       [  0.00000000e+00,   4.92375000e+05,   8.83191300e+06],\n",
       "       [  0.00000000e+00,   1.06093200e+06,   1.04335180e+07],\n",
       "       [  0.00000000e+00,   2.61879000e+05,   1.53641670e+07],\n",
       "       [  0.00000000e+00,   2.39671000e+05,   0.00000000e+00],\n",
       "       [  0.00000000e+00,   0.00000000e+00,   0.00000000e+00],\n",
       "       [  0.00000000e+00,   0.00000000e+00,   1.76378000e+05],\n",
       "       [  0.00000000e+00,   3.04588000e+05,   9.40257000e+05],\n",
       "       [  1.00000000e+00,   3.09946000e+05,   6.71737000e+05],\n",
       "       [  0.00000000e+00,   0.00000000e+00,   0.00000000e+00],\n",
       "       [  0.00000000e+00,   8.52740000e+04,   2.16517200e+06],\n",
       "       [  0.00000000e+00,   2.47338000e+05,   5.91250000e+05],\n",
       "       [  0.00000000e+00,   3.49487000e+05,   2.07030600e+06],\n",
       "       [  0.00000000e+00,   3.30546000e+05,   2.54281300e+06],\n",
       "       [  0.00000000e+00,   0.00000000e+00,   0.00000000e+00],\n",
       "       [  1.00000000e+00,   4.15189000e+05,   0.00000000e+00],\n",
       "       [  0.00000000e+00,   2.65214000e+05,   3.18125000e+06],\n",
       "       [  0.00000000e+00,   2.78601000e+05,   7.65920000e+05],\n",
       "       [  1.00000000e+00,   2.74975000e+05,   3.84728000e+05]])"
      ]
     },
     "execution_count": 7,
     "metadata": {},
     "output_type": "execute_result"
    }
   ],
   "source": [
    "data"
   ]
  },
  {
   "cell_type": "code",
   "execution_count": 8,
   "metadata": {
    "collapsed": false
   },
   "outputs": [
    {
     "data": {
      "text/plain": [
       "[array([ 365788.,       0.]),\n",
       " array([  267102.,  6680544.]),\n",
       " array([  170941.,  4890344.]),\n",
       " array([      0.,  651850.]),\n",
       " array([  243293.,  5538001.]),\n",
       " array([ 267093.,       0.]),\n",
       " array([      0.,  493489.]),\n",
       " array([  370448.,  1104054.]),\n",
       " array([       0.,  5210569.]),\n",
       " array([ 197091.,  880290.]),\n",
       " array([  130724.,  2282768.]),\n",
       " array([ 288589.,       0.]),\n",
       " array([ 248546.,  765313.]),\n",
       " array([ 257486.,       0.]),\n",
       " array([       0.,  2218275.]),\n",
       " array([      0.,  372205.]),\n",
       " array([ 288542.,       0.]),\n",
       " array([  251654.,  1056320.]),\n",
       " array([ 288558.,  185063.]),\n",
       " array([ 63744.,      0.]),\n",
       " array([       0.,  1030329.]),\n",
       " array([  357091.,  4346544.]),\n",
       " array([ 271442.,   81042.]),\n",
       " array([ 0.,  0.]),\n",
       " array([    0.,  3285.]),\n",
       " array([  304110.,  1441898.]),\n",
       " array([ 0.,  0.]),\n",
       " array([ 187922.,       0.]),\n",
       " array([ 0.,  0.]),\n",
       " array([  213625.,  1465734.]),\n",
       " array([  249201.,  1635238.]),\n",
       " array([     0.,  98718.]),\n",
       " array([ 231330.,       0.]),\n",
       " array([ 0.,  0.]),\n",
       " array([ 182245.,  601438.]),\n",
       " array([ 0.,  0.]),\n",
       " array([ 211788.,       0.]),\n",
       " array([ 0.,  0.]),\n",
       " array([      0.,  850477.]),\n",
       " array([ 0.,  0.]),\n",
       " array([      0.,  664375.]),\n",
       " array([ 224305.,       0.]),\n",
       " array([ 273746.,       0.]),\n",
       " array([  339288.,  4158995.]),\n",
       " array([  216582.,  1624396.]),\n",
       " array([  210500.,  2027865.]),\n",
       " array([ 0.,  0.]),\n",
       " array([ 0.,  0.]),\n",
       " array([ 272880.,  436515.]),\n",
       " array([  4.77000000e+02,   4.04615700e+06]),\n",
       " array([      0.,  371750.]),\n",
       " array([ 269076.,  607837.]),\n",
       " array([  428780.,  1835558.]),\n",
       " array([  211844.,  1624396.]),\n",
       " array([      0.,  412878.]),\n",
       " array([ 206121.,   17378.]),\n",
       " array([ 174246.,       0.]),\n",
       " array([  510364.,  3282960.]),\n",
       " array([  365038.,  1623010.]),\n",
       " array([ 0.,  0.]),\n",
       " array([  365163.,  2291113.]),\n",
       " array([  162779.,  1362375.]),\n",
       " array([      0.,  139130.]),\n",
       " array([  236457.,  2549361.]),\n",
       " array([ 0.,  0.]),\n",
       " array([  1072321.,  34348384.]),\n",
       " array([ 261516.,       0.]),\n",
       " array([  329078.,  1637034.]),\n",
       " array([      0.,  757301.]),\n",
       " array([ 184899.,       0.]),\n",
       " array([ 192008.,   83237.]),\n",
       " array([ 263413.,  506765.]),\n",
       " array([ 262663.,  187500.]),\n",
       " array([      0.,  759557.]),\n",
       " array([       0.,  1753766.]),\n",
       " array([ 374125.,  608750.]),\n",
       " array([ 278601.,       0.]),\n",
       " array([    0.,  9803.]),\n",
       " array([ 199157.,  664461.]),\n",
       " array([     0.,  59539.]),\n",
       " array([   96840.,  7509039.]),\n",
       " array([   80818.,  1599641.]),\n",
       " array([ 213999.,  953136.]),\n",
       " array([  210692.,  1451869.]),\n",
       " array([  222093.,  4452476.]),\n",
       " array([ 440698.,       0.]),\n",
       " array([      0.,  343434.]),\n",
       " array([ 240189.,       0.]),\n",
       " array([   420636.,  19794175.]),\n",
       " array([ 275101.,  850010.]),\n",
       " array([ 0.,  0.]),\n",
       " array([ 314288.,  117551.]),\n",
       " array([   94941.,  5266578.]),\n",
       " array([ 0.,  0.]),\n",
       " array([ 239502.,       0.]),\n",
       " array([  1111258.,  19250000.]),\n",
       " array([ 0.,  0.]),\n",
       " array([       0.,  1426469.]),\n",
       " array([      0.,  886231.]),\n",
       " array([ 6615.,     0.]),\n",
       " array([ 655037.,   28798.]),\n",
       " array([ 0.,  0.]),\n",
       " array([ 0.,  0.]),\n",
       " array([  404338.,  2022048.]),\n",
       " array([       0.,  1324578.]),\n",
       " array([  259996.,  1668260.]),\n",
       " array([  317543.,  1297049.]),\n",
       " array([       0.,  5127155.]),\n",
       " array([  201955.,  1729541.]),\n",
       " array([ 248146.,  281073.]),\n",
       " array([      0.,  431750.]),\n",
       " array([ 0.,  0.]),\n",
       " array([ 0.,  0.]),\n",
       " array([      0.,  257817.]),\n",
       " array([      0.,  754966.]),\n",
       " array([   76399.,  4160672.]),\n",
       " array([  262788.,  8191755.]),\n",
       " array([       0.,  2604490.]),\n",
       " array([ 261809.,       0.]),\n",
       " array([ 248017.,  825464.]),\n",
       " array([      0.,  192758.]),\n",
       " array([ 229284.,  400478.]),\n",
       " array([ 231946.,  636246.]),\n",
       " array([ 221003.,       0.]),\n",
       " array([  158403.,  8308552.]),\n",
       " array([        0.,  30766064.]),\n",
       " array([  250100.,  1550019.]),\n",
       " array([  492375.,  8831913.]),\n",
       " array([  1060932.,  10433518.]),\n",
       " array([   261879.,  15364167.]),\n",
       " array([ 239671.,       0.]),\n",
       " array([ 0.,  0.]),\n",
       " array([      0.,  176378.]),\n",
       " array([ 304588.,  940257.]),\n",
       " array([ 309946.,  671737.]),\n",
       " array([ 0.,  0.]),\n",
       " array([   85274.,  2165172.]),\n",
       " array([ 247338.,  591250.]),\n",
       " array([  349487.,  2070306.]),\n",
       " array([  330546.,  2542813.]),\n",
       " array([ 0.,  0.]),\n",
       " array([ 415189.,       0.]),\n",
       " array([  265214.,  3181250.]),\n",
       " array([ 278601.,  765920.]),\n",
       " array([ 274975.,  384728.])]"
      ]
     },
     "execution_count": 8,
     "metadata": {},
     "output_type": "execute_result"
    }
   ],
   "source": [
    "finance_features"
   ]
  },
  {
   "cell_type": "code",
   "execution_count": 9,
   "metadata": {
    "collapsed": false
   },
   "outputs": [
    {
     "data": {
      "text/plain": [
       "[0.0,\n",
       " 0.0,\n",
       " 0.0,\n",
       " 0.0,\n",
       " 1.0,\n",
       " 0.0,\n",
       " 0.0,\n",
       " 0.0,\n",
       " 0.0,\n",
       " 0.0,\n",
       " 0.0,\n",
       " 0.0,\n",
       " 0.0,\n",
       " 0.0,\n",
       " 0.0,\n",
       " 0.0,\n",
       " 1.0,\n",
       " 0.0,\n",
       " 0.0,\n",
       " 0.0,\n",
       " 0.0,\n",
       " 0.0,\n",
       " 0.0,\n",
       " 0.0,\n",
       " 0.0,\n",
       " 0.0,\n",
       " 0.0,\n",
       " 0.0,\n",
       " 0.0,\n",
       " 0.0,\n",
       " 1.0,\n",
       " 0.0,\n",
       " 0.0,\n",
       " 0.0,\n",
       " 0.0,\n",
       " 0.0,\n",
       " 0.0,\n",
       " 0.0,\n",
       " 0.0,\n",
       " 0.0,\n",
       " 0.0,\n",
       " 1.0,\n",
       " 0.0,\n",
       " 0.0,\n",
       " 0.0,\n",
       " 0.0,\n",
       " 0.0,\n",
       " 0.0,\n",
       " 0.0,\n",
       " 0.0,\n",
       " 0.0,\n",
       " 0.0,\n",
       " 0.0,\n",
       " 1.0,\n",
       " 0.0,\n",
       " 0.0,\n",
       " 0.0,\n",
       " 0.0,\n",
       " 0.0,\n",
       " 0.0,\n",
       " 1.0,\n",
       " 0.0,\n",
       " 0.0,\n",
       " 0.0,\n",
       " 0.0,\n",
       " 1.0,\n",
       " 0.0,\n",
       " 0.0,\n",
       " 0.0,\n",
       " 0.0,\n",
       " 0.0,\n",
       " 0.0,\n",
       " 0.0,\n",
       " 0.0,\n",
       " 0.0,\n",
       " 0.0,\n",
       " 1.0,\n",
       " 0.0,\n",
       " 0.0,\n",
       " 0.0,\n",
       " 0.0,\n",
       " 0.0,\n",
       " 1.0,\n",
       " 0.0,\n",
       " 0.0,\n",
       " 1.0,\n",
       " 0.0,\n",
       " 1.0,\n",
       " 1.0,\n",
       " 0.0,\n",
       " 0.0,\n",
       " 0.0,\n",
       " 0.0,\n",
       " 0.0,\n",
       " 0.0,\n",
       " 1.0,\n",
       " 0.0,\n",
       " 0.0,\n",
       " 0.0,\n",
       " 0.0,\n",
       " 0.0,\n",
       " 0.0,\n",
       " 0.0,\n",
       " 0.0,\n",
       " 0.0,\n",
       " 0.0,\n",
       " 0.0,\n",
       " 0.0,\n",
       " 0.0,\n",
       " 0.0,\n",
       " 0.0,\n",
       " 0.0,\n",
       " 0.0,\n",
       " 0.0,\n",
       " 0.0,\n",
       " 0.0,\n",
       " 0.0,\n",
       " 0.0,\n",
       " 0.0,\n",
       " 0.0,\n",
       " 0.0,\n",
       " 0.0,\n",
       " 0.0,\n",
       " 0.0,\n",
       " 1.0,\n",
       " 1.0,\n",
       " 0.0,\n",
       " 0.0,\n",
       " 0.0,\n",
       " 0.0,\n",
       " 0.0,\n",
       " 0.0,\n",
       " 0.0,\n",
       " 0.0,\n",
       " 1.0,\n",
       " 0.0,\n",
       " 0.0,\n",
       " 0.0,\n",
       " 0.0,\n",
       " 0.0,\n",
       " 0.0,\n",
       " 1.0,\n",
       " 0.0,\n",
       " 0.0,\n",
       " 1.0]"
      ]
     },
     "execution_count": 9,
     "metadata": {},
     "output_type": "execute_result"
    }
   ],
   "source": [
    "poi"
   ]
  },
  {
   "cell_type": "code",
   "execution_count": 11,
   "metadata": {
    "collapsed": false
   },
   "outputs": [
    {
     "data": {
      "image/png": "[encoded data removed]",
      "text/plain": [
       "<matplotlib.figure.Figure at 0x10d4b5510>"
      ]
     },
     "metadata": {},
     "output_type": "display_data"
    }
   ],
   "source": [
    "### in the \"clustering with 3 features\" part of the mini-project,\n",
    "### you'll want to change this line to \n",
    "### for f1, f2, _ in finance_features:\n",
    "### (as it's currently written, the line below assumes 2 features)\n",
    "for f1, f2 in finance_features:\n",
    "    plt.scatter( f1, f2 )\n",
    "plt.xlabel('salary')\n",
    "plt.ylabel('exercised stock options')\n",
    "plt.show()"
   ]
  },
  {
   "cell_type": "markdown",
   "metadata": {},
   "source": [
    "Cluster here. Create predictions of the cluster labels for the data and store them to a list called pred.\n",
    "\n",
    "Example code can be found here:\n",
    "\n",
    "http://scikit-learn.org/stable/modules/generated/sklearn.cluster.KMeans.html#sklearn.cluster.KMeans"
   ]
  },
  {
   "cell_type": "code",
   "execution_count": 12,
   "metadata": {
    "collapsed": true
   },
   "outputs": [],
   "source": [
    "from sklearn.cluster import KMeans"
   ]
  },
  {
   "cell_type": "code",
   "execution_count": 13,
   "metadata": {
    "collapsed": false
   },
   "outputs": [],
   "source": [
    "kmeans = KMeans(n_clusters=2, random_state=42).fit(finance_features)"
   ]
  },
  {
   "cell_type": "code",
   "execution_count": 14,
   "metadata": {
    "collapsed": false
   },
   "outputs": [
    {
     "data": {
      "text/plain": [
       "array([0, 0, 0, 0, 0, 0, 0, 0, 0, 0, 0, 0, 0, 0, 0, 0, 0, 0, 0, 0, 0, 0, 0,\n",
       "       0, 0, 0, 0, 0, 0, 0, 0, 0, 0, 0, 0, 0, 0, 0, 0, 0, 0, 0, 0, 0, 0, 0,\n",
       "       0, 0, 0, 0, 0, 0, 0, 0, 0, 0, 0, 0, 0, 0, 0, 0, 0, 0, 0, 1, 0, 0, 0,\n",
       "       0, 0, 0, 0, 0, 0, 0, 0, 0, 0, 0, 0, 0, 0, 0, 0, 0, 0, 0, 1, 0, 0, 0,\n",
       "       0, 0, 0, 1, 0, 0, 0, 0, 0, 0, 0, 0, 0, 0, 0, 0, 0, 0, 0, 0, 0, 0, 0,\n",
       "       0, 0, 0, 0, 0, 0, 0, 0, 0, 0, 1, 0, 0, 0, 1, 0, 0, 0, 0, 0, 0, 0, 0,\n",
       "       0, 0, 0, 0, 0, 0, 0], dtype=int32)"
      ]
     },
     "execution_count": 14,
     "metadata": {},
     "output_type": "execute_result"
    }
   ],
   "source": [
    "kmeans.labels_"
   ]
  },
  {
   "cell_type": "code",
   "execution_count": 15,
   "metadata": {
    "collapsed": false
   },
   "outputs": [
    {
     "data": {
      "text/plain": [
       "array([[   170272.39285714,   1281376.39285714],\n",
       "       [   573218.8       ,  23904558.        ]])"
      ]
     },
     "execution_count": 15,
     "metadata": {},
     "output_type": "execute_result"
    }
   ],
   "source": [
    "kmeans.cluster_centers_"
   ]
  },
  {
   "cell_type": "code",
   "execution_count": 16,
   "metadata": {
    "collapsed": false
   },
   "outputs": [],
   "source": [
    "pred = kmeans.predict(finance_features)"
   ]
  },
  {
   "cell_type": "markdown",
   "metadata": {},
   "source": [
    "Rename the \"name\" parameter when you change the number of features so that the figure gets save to a different file:"
   ]
  },
  {
   "cell_type": "code",
   "execution_count": 18,
   "metadata": {
    "collapsed": false
   },
   "outputs": [
    {
     "data": {
      "image/png": "[encoded data removed]",
      "text/plain": [
       "<matplotlib.figure.Figure at 0x111203410>"
      ]
     },
     "metadata": {},
     "output_type": "display_data"
    }
   ],
   "source": [
    "try:\n",
    "    Draw(pred, finance_features, poi, mark_poi=False, name=\"clusters121016.pdf\", f1_name=feature_1, f2_name=feature_2)\n",
    "except NameError:\n",
    "    print \"no predictions object named pred found, no clusters to plot\"\n"
   ]
  },
  {
   "cell_type": "code",
   "execution_count": 19,
   "metadata": {
    "collapsed": false
   },
   "outputs": [
    {
     "data": {
      "image/png": "[encoded data removed]",
      "text/plain": [
       "<matplotlib.figure.Figure at 0x10d1dbd50>"
      ]
     },
     "metadata": {},
     "output_type": "display_data"
    }
   ],
   "source": [
    "try:\n",
    "    Draw(pred, finance_features, poi, mark_poi=True, name=\"clusters121016b.pdf\", f1_name=feature_1, f2_name=feature_2)\n",
    "except NameError:\n",
    "    print \"no predictions object named pred found, no clusters to plot\"\n"
   ]
  },
  {
   "cell_type": "markdown",
   "metadata": {},
   "source": [
    "Are the clusters what you expected?\n",
    "\n",
    "No, I don't see how those clusters were right."
   ]
  },
  {
   "cell_type": "markdown",
   "metadata": {},
   "source": [
    "### Clustering with 3 Features\n",
    "\n",
    "Add a third feature to features_list, “total_payments\". Now rerun clustering, using 3 input features instead of 2 (obviously we can still only visualize the original 2 dimensions). Compare the plot with the clusterings to the one you obtained with 2 input features. Do any points switch clusters? How many? This new clustering, using 3 features, couldn’t have been guessed by eye--it was the k-means algorithm that identified it.\n",
    "\n",
    "(You'll need to change the code that makes the scatterplot to accommodate 3 features instead of 2, see the comments in the starter code for instructions on how to do this.)"
   ]
  },
  {
   "cell_type": "code",
   "execution_count": 20,
   "metadata": {
    "collapsed": true
   },
   "outputs": [],
   "source": [
    "feature_1 = \"salary\"\n",
    "feature_2 = \"exercised_stock_options\"\n",
    "feature_3 = \"total_payments\"\n",
    "poi  = \"poi\"\n",
    "features_list = [poi, feature_1, feature_2, feature_3]\n",
    "data = featureFormat(data_dict, features_list )\n",
    "poi, finance_features = targetFeatureSplit( data )"
   ]
  },
  {
   "cell_type": "code",
   "execution_count": 21,
   "metadata": {
    "collapsed": false
   },
   "outputs": [
    {
     "data": {
      "text/plain": [
       "['poi', 'salary', 'exercised_stock_options', 'total_payments']"
      ]
     },
     "execution_count": 21,
     "metadata": {},
     "output_type": "execute_result"
    }
   ],
   "source": [
    "features_list"
   ]
  },
  {
   "cell_type": "code",
   "execution_count": 22,
   "metadata": {
    "collapsed": false,
    "scrolled": true
   },
   "outputs": [
    {
     "data": {
      "text/plain": [
       "array([[  0.00000000e+00,   3.65788000e+05,   0.00000000e+00,\n",
       "          1.06182700e+06],\n",
       "       [  0.00000000e+00,   2.67102000e+05,   6.68054400e+06,\n",
       "          5.63434300e+06],\n",
       "       [  0.00000000e+00,   1.70941000e+05,   4.89034400e+06,\n",
       "          2.11725000e+05],\n",
       "       [  0.00000000e+00,   0.00000000e+00,   6.51850000e+05,\n",
       "          0.00000000e+00],\n",
       "       [  1.00000000e+00,   2.43293000e+05,   5.53800100e+06,\n",
       "          2.88682000e+05],\n",
       "       [  0.00000000e+00,   2.67093000e+05,   0.00000000e+00,\n",
       "          6.28522000e+05],\n",
       "       [  0.00000000e+00,   0.00000000e+00,   4.93489000e+05,\n",
       "          1.84822700e+06],\n",
       "       [  0.00000000e+00,   3.70448000e+05,   1.10405400e+06,\n",
       "          4.09977100e+06],\n",
       "       [  0.00000000e+00,   0.00000000e+00,   5.21056900e+06,\n",
       "          3.13186000e+06],\n",
       "       [  0.00000000e+00,   1.97091000e+05,   8.80290000e+05,\n",
       "          1.73762900e+06],\n",
       "       [  0.00000000e+00,   1.30724000e+05,   2.28276800e+06,\n",
       "          3.10022400e+06],\n",
       "       [  0.00000000e+00,   2.88589000e+05,   0.00000000e+00,\n",
       "          1.13046100e+06],\n",
       "       [  0.00000000e+00,   2.48546000e+05,   7.65313000e+05,\n",
       "          2.01483500e+06],\n",
       "       [  0.00000000e+00,   2.57486000e+05,   0.00000000e+00,\n",
       "          1.54505900e+06],\n",
       "       [  0.00000000e+00,   0.00000000e+00,   2.21827500e+06,\n",
       "          9.66522000e+05],\n",
       "       [  0.00000000e+00,   0.00000000e+00,   3.72205000e+05,\n",
       "          0.00000000e+00],\n",
       "       [  1.00000000e+00,   2.88542000e+05,   0.00000000e+00,\n",
       "          1.49034400e+06],\n",
       "       [  0.00000000e+00,   2.51654000e+05,   1.05632000e+06,\n",
       "          3.20207000e+06],\n",
       "       [  0.00000000e+00,   2.88558000e+05,   1.85063000e+05,\n",
       "          5.51174000e+05],\n",
       "       [  0.00000000e+00,   6.37440000e+04,   0.00000000e+00,\n",
       "          7.62135000e+05],\n",
       "       [  0.00000000e+00,   0.00000000e+00,   1.03032900e+06,\n",
       "          8.74100000e+04],\n",
       "       [  0.00000000e+00,   3.57091000e+05,   4.34654400e+06,\n",
       "          1.79878000e+06],\n",
       "       [  0.00000000e+00,   2.71442000e+05,   8.10420000e+04,\n",
       "          3.47114100e+06],\n",
       "       [  0.00000000e+00,   0.00000000e+00,   0.00000000e+00,\n",
       "          0.00000000e+00],\n",
       "       [  0.00000000e+00,   0.00000000e+00,   3.28500000e+03,\n",
       "          1.02500000e+05],\n",
       "       [  0.00000000e+00,   3.04110000e+05,   1.44189800e+06,\n",
       "          3.03870200e+06],\n",
       "       [  0.00000000e+00,   0.00000000e+00,   0.00000000e+00,\n",
       "          1.89583000e+05],\n",
       "       [  0.00000000e+00,   1.87922000e+05,   0.00000000e+00,\n",
       "          6.18850000e+05],\n",
       "       [  0.00000000e+00,   0.00000000e+00,   0.00000000e+00,\n",
       "          2.28656000e+05],\n",
       "       [  0.00000000e+00,   2.13625000e+05,   1.46573400e+06,\n",
       "          2.04759300e+06],\n",
       "       [  1.00000000e+00,   2.49201000e+05,   1.63523800e+06,\n",
       "          1.09910000e+06],\n",
       "       [  0.00000000e+00,   0.00000000e+00,   9.87180000e+04,\n",
       "          0.00000000e+00],\n",
       "       [  0.00000000e+00,   2.31330000e+05,   0.00000000e+00,\n",
       "          9.69068000e+05],\n",
       "       [  0.00000000e+00,   0.00000000e+00,   0.00000000e+00,\n",
       "          4.75000000e+02],\n",
       "       [  0.00000000e+00,   1.82245000e+05,   6.01438000e+05,\n",
       "          2.69232400e+06],\n",
       "       [  0.00000000e+00,   0.00000000e+00,   0.00000000e+00,\n",
       "          1.48000000e+02],\n",
       "       [  0.00000000e+00,   2.11788000e+05,   0.00000000e+00,\n",
       "          2.08179600e+06],\n",
       "       [  0.00000000e+00,   0.00000000e+00,   0.00000000e+00,\n",
       "          0.00000000e+00],\n",
       "       [  0.00000000e+00,   0.00000000e+00,   8.50477000e+05,\n",
       "          0.00000000e+00],\n",
       "       [  0.00000000e+00,   0.00000000e+00,   0.00000000e+00,\n",
       "          7.96100000e+03],\n",
       "       [  0.00000000e+00,   0.00000000e+00,   6.64375000e+05,\n",
       "          0.00000000e+00],\n",
       "       [  1.00000000e+00,   2.24305000e+05,   0.00000000e+00,\n",
       "          2.65261200e+06],\n",
       "       [  0.00000000e+00,   2.73746000e+05,   0.00000000e+00,\n",
       "          2.66422800e+06],\n",
       "       [  0.00000000e+00,   3.39288000e+05,   4.15899500e+06,\n",
       "          1.04257570e+07],\n",
       "       [  0.00000000e+00,   2.16582000e+05,   1.62439600e+06,\n",
       "          2.28474000e+05],\n",
       "       [  0.00000000e+00,   2.10500000e+05,   2.02786500e+06,\n",
       "          1.20458300e+06],\n",
       "       [  0.00000000e+00,   0.00000000e+00,   0.00000000e+00,\n",
       "          2.13071000e+05],\n",
       "       [  0.00000000e+00,   0.00000000e+00,   0.00000000e+00,\n",
       "          0.00000000e+00],\n",
       "       [  0.00000000e+00,   2.72880000e+05,   4.36515000e+05,\n",
       "          2.14697300e+06],\n",
       "       [  0.00000000e+00,   4.77000000e+02,   4.04615700e+06,\n",
       "          9.16197000e+05],\n",
       "       [  0.00000000e+00,   0.00000000e+00,   3.71750000e+05,\n",
       "          7.74920000e+04],\n",
       "       [  0.00000000e+00,   2.69076000e+05,   6.07837000e+05,\n",
       "          1.05754800e+06],\n",
       "       [  0.00000000e+00,   4.28780000e+05,   1.83555800e+06,\n",
       "          4.33538800e+06],\n",
       "       [  1.00000000e+00,   2.11844000e+05,   1.62439600e+06,\n",
       "          2.00388500e+06],\n",
       "       [  0.00000000e+00,   0.00000000e+00,   4.12878000e+05,\n",
       "          8.74920000e+04],\n",
       "       [  0.00000000e+00,   2.06121000e+05,   1.73780000e+04,\n",
       "          1.20864900e+06],\n",
       "       [  0.00000000e+00,   1.74246000e+05,   0.00000000e+00,\n",
       "          7.04896000e+05],\n",
       "       [  0.00000000e+00,   5.10364000e+05,   3.28296000e+06,\n",
       "          4.67757400e+06],\n",
       "       [  0.00000000e+00,   3.65038000e+05,   1.62301000e+06,\n",
       "          2.10136400e+06],\n",
       "       [  0.00000000e+00,   0.00000000e+00,   0.00000000e+00,\n",
       "          0.00000000e+00],\n",
       "       [  1.00000000e+00,   3.65163000e+05,   2.29111300e+06,\n",
       "          4.74797900e+06],\n",
       "       [  0.00000000e+00,   1.62779000e+05,   1.36237500e+06,\n",
       "          9.99356000e+05],\n",
       "       [  0.00000000e+00,   0.00000000e+00,   1.39130000e+05,\n",
       "          0.00000000e+00],\n",
       "       [  0.00000000e+00,   2.36457000e+05,   2.54936100e+06,\n",
       "          8.75889000e+05],\n",
       "       [  0.00000000e+00,   0.00000000e+00,   0.00000000e+00,\n",
       "          2.15100000e+03],\n",
       "       [  1.00000000e+00,   1.07232100e+06,   3.43483840e+07,\n",
       "          1.03559793e+08],\n",
       "       [  0.00000000e+00,   2.61516000e+05,   0.00000000e+00,\n",
       "          1.27158200e+06],\n",
       "       [  0.00000000e+00,   3.29078000e+05,   1.63703400e+06,\n",
       "          1.32155700e+06],\n",
       "       [  0.00000000e+00,   0.00000000e+00,   7.57301000e+05,\n",
       "          0.00000000e+00],\n",
       "       [  0.00000000e+00,   1.84899000e+05,   0.00000000e+00,\n",
       "          8.07956000e+05],\n",
       "       [  0.00000000e+00,   1.92008000e+05,   8.32370000e+04,\n",
       "          9.00585000e+05],\n",
       "       [  0.00000000e+00,   2.63413000e+05,   5.06765000e+05,\n",
       "          1.31876300e+06],\n",
       "       [  0.00000000e+00,   2.62663000e+05,   1.87500000e+05,\n",
       "          1.29746100e+06],\n",
       "       [  0.00000000e+00,   0.00000000e+00,   7.59557000e+05,\n",
       "          0.00000000e+00],\n",
       "       [  0.00000000e+00,   0.00000000e+00,   1.75376600e+06,\n",
       "          0.00000000e+00],\n",
       "       [  0.00000000e+00,   3.74125000e+05,   6.08750000e+05,\n",
       "          3.85906500e+06],\n",
       "       [  1.00000000e+00,   2.78601000e+05,   0.00000000e+00,\n",
       "          2.66958900e+06],\n",
       "       [  0.00000000e+00,   0.00000000e+00,   9.80300000e+03,\n",
       "          0.00000000e+00],\n",
       "       [  0.00000000e+00,   1.99157000e+05,   6.64461000e+05,\n",
       "          1.41485700e+06],\n",
       "       [  0.00000000e+00,   0.00000000e+00,   5.95390000e+04,\n",
       "          0.00000000e+00],\n",
       "       [  0.00000000e+00,   9.68400000e+04,   7.50903900e+06,\n",
       "          1.11529000e+05],\n",
       "       [  0.00000000e+00,   8.08180000e+04,   1.59964100e+06,\n",
       "          8.60136000e+05],\n",
       "       [  1.00000000e+00,   2.13999000e+05,   9.53136000e+05,\n",
       "          5.50163000e+06],\n",
       "       [  0.00000000e+00,   2.10692000e+05,   1.45186900e+06,\n",
       "          2.09326300e+06],\n",
       "       [  0.00000000e+00,   2.22093000e+05,   4.45247600e+06,\n",
       "          9.11453000e+05],\n",
       "       [  1.00000000e+00,   4.40698000e+05,   0.00000000e+00,\n",
       "          2.42408300e+06],\n",
       "       [  0.00000000e+00,   0.00000000e+00,   3.43434000e+05,\n",
       "          1.81755000e+05],\n",
       "       [  1.00000000e+00,   2.40189000e+05,   0.00000000e+00,\n",
       "          1.63929700e+06],\n",
       "       [  1.00000000e+00,   4.20636000e+05,   1.97941750e+07,\n",
       "          5.05050000e+05],\n",
       "       [  0.00000000e+00,   2.75101000e+05,   8.50010000e+05,\n",
       "          1.08682100e+06],\n",
       "       [  0.00000000e+00,   0.00000000e+00,   0.00000000e+00,\n",
       "          0.00000000e+00],\n",
       "       [  0.00000000e+00,   3.14288000e+05,   1.17551000e+05,\n",
       "          1.10139300e+06],\n",
       "       [  0.00000000e+00,   9.49410000e+04,   5.26657800e+06,\n",
       "          2.49787000e+05],\n",
       "       [  0.00000000e+00,   0.00000000e+00,   0.00000000e+00,\n",
       "          2.79420000e+04],\n",
       "       [  0.00000000e+00,   2.39502000e+05,   0.00000000e+00,\n",
       "          1.11208700e+06],\n",
       "       [  1.00000000e+00,   1.11125800e+06,   1.92500000e+07,\n",
       "          8.68271600e+06],\n",
       "       [  0.00000000e+00,   0.00000000e+00,   0.00000000e+00,\n",
       "          1.27900000e+03],\n",
       "       [  0.00000000e+00,   0.00000000e+00,   1.42646900e+06,\n",
       "          0.00000000e+00],\n",
       "       [  0.00000000e+00,   0.00000000e+00,   8.86231000e+05,\n",
       "          5.64348000e+05],\n",
       "       [  0.00000000e+00,   6.61500000e+03,   0.00000000e+00,\n",
       "          1.14665800e+06],\n",
       "       [  0.00000000e+00,   6.55037000e+05,   2.87980000e+04,\n",
       "          1.38669000e+06],\n",
       "       [  0.00000000e+00,   0.00000000e+00,   0.00000000e+00,\n",
       "          3.62096000e+05],\n",
       "       [  0.00000000e+00,   0.00000000e+00,   0.00000000e+00,\n",
       "          7.74401000e+05],\n",
       "       [  0.00000000e+00,   4.04338000e+05,   2.02204800e+06,\n",
       "          1.74752200e+06],\n",
       "       [  0.00000000e+00,   0.00000000e+00,   1.32457800e+06,\n",
       "          0.00000000e+00],\n",
       "       [  0.00000000e+00,   2.59996000e+05,   1.66826000e+06,\n",
       "          1.03439500e+06],\n",
       "       [  0.00000000e+00,   3.17543000e+05,   1.29704900e+06,\n",
       "          1.93435900e+06],\n",
       "       [  0.00000000e+00,   0.00000000e+00,   5.12715500e+06,\n",
       "          0.00000000e+00],\n",
       "       [  0.00000000e+00,   2.01955000e+05,   1.72954100e+06,\n",
       "          4.48444200e+06],\n",
       "       [  0.00000000e+00,   2.48146000e+05,   2.81073000e+05,\n",
       "          1.57651100e+06],\n",
       "       [  0.00000000e+00,   0.00000000e+00,   4.31750000e+05,\n",
       "          8.37500000e+04],\n",
       "       [  0.00000000e+00,   0.00000000e+00,   0.00000000e+00,\n",
       "          8.49920000e+04],\n",
       "       [  0.00000000e+00,   0.00000000e+00,   0.00000000e+00,\n",
       "          4.92880000e+04],\n",
       "       [  0.00000000e+00,   0.00000000e+00,   2.57817000e+05,\n",
       "          1.82466000e+05],\n",
       "       [  0.00000000e+00,   0.00000000e+00,   7.54966000e+05,\n",
       "          0.00000000e+00],\n",
       "       [  0.00000000e+00,   7.63990000e+04,   4.16067200e+06,\n",
       "          3.94475000e+05],\n",
       "       [  0.00000000e+00,   2.62788000e+05,   8.19175500e+06,\n",
       "          2.36815100e+06],\n",
       "       [  0.00000000e+00,   0.00000000e+00,   2.60449000e+06,\n",
       "          1.54562900e+07],\n",
       "       [  0.00000000e+00,   2.61809000e+05,   0.00000000e+00,\n",
       "          4.77557000e+05],\n",
       "       [  0.00000000e+00,   2.48017000e+05,   8.25464000e+05,\n",
       "          1.05463700e+06],\n",
       "       [  0.00000000e+00,   0.00000000e+00,   1.92758000e+05,\n",
       "          5.50970000e+04],\n",
       "       [  0.00000000e+00,   2.29284000e+05,   4.00478000e+05,\n",
       "          8.12194000e+05],\n",
       "       [  0.00000000e+00,   2.31946000e+05,   6.36246000e+05,\n",
       "          1.56646900e+06],\n",
       "       [  0.00000000e+00,   2.21003000e+05,   0.00000000e+00,\n",
       "          3.19941000e+05],\n",
       "       [  1.00000000e+00,   1.58403000e+05,   8.30855200e+06,\n",
       "          3.60300000e+05],\n",
       "       [  1.00000000e+00,   0.00000000e+00,   3.07660640e+07,\n",
       "          9.10930000e+04],\n",
       "       [  0.00000000e+00,   2.50100000e+05,   1.55001900e+06,\n",
       "          1.41046400e+06],\n",
       "       [  0.00000000e+00,   4.92375000e+05,   8.83191300e+06,\n",
       "          5.50981000e+05],\n",
       "       [  0.00000000e+00,   1.06093200e+06,   1.04335180e+07,\n",
       "          1.72525300e+07],\n",
       "       [  0.00000000e+00,   2.61879000e+05,   1.53641670e+07,\n",
       "          3.12338300e+06],\n",
       "       [  0.00000000e+00,   2.39671000e+05,   0.00000000e+00,\n",
       "          8.27696000e+05],\n",
       "       [  0.00000000e+00,   0.00000000e+00,   0.00000000e+00,\n",
       "          0.00000000e+00],\n",
       "       [  0.00000000e+00,   0.00000000e+00,   1.76378000e+05,\n",
       "          5.05910000e+04],\n",
       "       [  0.00000000e+00,   3.04588000e+05,   9.40257000e+05,\n",
       "          3.67634000e+06],\n",
       "       [  1.00000000e+00,   3.09946000e+05,   6.71737000e+05,\n",
       "          1.58742100e+06],\n",
       "       [  0.00000000e+00,   0.00000000e+00,   0.00000000e+00,\n",
       "          3.75000000e+03],\n",
       "       [  0.00000000e+00,   8.52740000e+04,   2.16517200e+06,\n",
       "          1.97959600e+06],\n",
       "       [  0.00000000e+00,   2.47338000e+05,   5.91250000e+05,\n",
       "          3.99393000e+05],\n",
       "       [  0.00000000e+00,   3.49487000e+05,   2.07030600e+06,\n",
       "          8.40701600e+06],\n",
       "       [  0.00000000e+00,   3.30546000e+05,   2.54281300e+06,\n",
       "          2.35570200e+06],\n",
       "       [  0.00000000e+00,   0.00000000e+00,   0.00000000e+00,\n",
       "          1.19292000e+05],\n",
       "       [  1.00000000e+00,   4.15189000e+05,   0.00000000e+00,\n",
       "          1.86875800e+06],\n",
       "       [  0.00000000e+00,   2.65214000e+05,   3.18125000e+06,\n",
       "          1.09266300e+06],\n",
       "       [  0.00000000e+00,   2.78601000e+05,   7.65920000e+05,\n",
       "          8.75760000e+05],\n",
       "       [  1.00000000e+00,   2.74975000e+05,   3.84728000e+05,\n",
       "          1.27228400e+06]])"
      ]
     },
     "execution_count": 22,
     "metadata": {},
     "output_type": "execute_result"
    }
   ],
   "source": [
    "data"
   ]
  },
  {
   "cell_type": "code",
   "execution_count": 23,
   "metadata": {
    "collapsed": false
   },
   "outputs": [
    {
     "data": {
      "text/plain": [
       "[array([  365788.,        0.,  1061827.]),\n",
       " array([  267102.,  6680544.,  5634343.]),\n",
       " array([  170941.,  4890344.,   211725.]),\n",
       " array([      0.,  651850.,       0.]),\n",
       " array([  243293.,  5538001.,   288682.]),\n",
       " array([ 267093.,       0.,  628522.]),\n",
       " array([       0.,   493489.,  1848227.]),\n",
       " array([  370448.,  1104054.,  4099771.]),\n",
       " array([       0.,  5210569.,  3131860.]),\n",
       " array([  197091.,   880290.,  1737629.]),\n",
       " array([  130724.,  2282768.,  3100224.]),\n",
       " array([  288589.,        0.,  1130461.]),\n",
       " array([  248546.,   765313.,  2014835.]),\n",
       " array([  257486.,        0.,  1545059.]),\n",
       " array([       0.,  2218275.,   966522.]),\n",
       " array([      0.,  372205.,       0.]),\n",
       " array([  288542.,        0.,  1490344.]),\n",
       " array([  251654.,  1056320.,  3202070.]),\n",
       " array([ 288558.,  185063.,  551174.]),\n",
       " array([  63744.,       0.,  762135.]),\n",
       " array([       0.,  1030329.,    87410.]),\n",
       " array([  357091.,  4346544.,  1798780.]),\n",
       " array([  271442.,    81042.,  3471141.]),\n",
       " array([ 0.,  0.,  0.]),\n",
       " array([      0.,    3285.,  102500.]),\n",
       " array([  304110.,  1441898.,  3038702.]),\n",
       " array([      0.,       0.,  189583.]),\n",
       " array([ 187922.,       0.,  618850.]),\n",
       " array([      0.,       0.,  228656.]),\n",
       " array([  213625.,  1465734.,  2047593.]),\n",
       " array([  249201.,  1635238.,  1099100.]),\n",
       " array([     0.,  98718.,      0.]),\n",
       " array([ 231330.,       0.,  969068.]),\n",
       " array([   0.,    0.,  475.]),\n",
       " array([  182245.,   601438.,  2692324.]),\n",
       " array([   0.,    0.,  148.]),\n",
       " array([  211788.,        0.,  2081796.]),\n",
       " array([ 0.,  0.,  0.]),\n",
       " array([      0.,  850477.,       0.]),\n",
       " array([    0.,     0.,  7961.]),\n",
       " array([      0.,  664375.,       0.]),\n",
       " array([  224305.,        0.,  2652612.]),\n",
       " array([  273746.,        0.,  2664228.]),\n",
       " array([   339288.,   4158995.,  10425757.]),\n",
       " array([  216582.,  1624396.,   228474.]),\n",
       " array([  210500.,  2027865.,  1204583.]),\n",
       " array([      0.,       0.,  213071.]),\n",
       " array([ 0.,  0.,  0.]),\n",
       " array([  272880.,   436515.,  2146973.]),\n",
       " array([  4.77000000e+02,   4.04615700e+06,   9.16197000e+05]),\n",
       " array([      0.,  371750.,   77492.]),\n",
       " array([  269076.,   607837.,  1057548.]),\n",
       " array([  428780.,  1835558.,  4335388.]),\n",
       " array([  211844.,  1624396.,  2003885.]),\n",
       " array([      0.,  412878.,   87492.]),\n",
       " array([  206121.,    17378.,  1208649.]),\n",
       " array([ 174246.,       0.,  704896.]),\n",
       " array([  510364.,  3282960.,  4677574.]),\n",
       " array([  365038.,  1623010.,  2101364.]),\n",
       " array([ 0.,  0.,  0.]),\n",
       " array([  365163.,  2291113.,  4747979.]),\n",
       " array([  162779.,  1362375.,   999356.]),\n",
       " array([      0.,  139130.,       0.]),\n",
       " array([  236457.,  2549361.,   875889.]),\n",
       " array([    0.,     0.,  2151.]),\n",
       " array([  1.07232100e+06,   3.43483840e+07,   1.03559793e+08]),\n",
       " array([  261516.,        0.,  1271582.]),\n",
       " array([  329078.,  1637034.,  1321557.]),\n",
       " array([      0.,  757301.,       0.]),\n",
       " array([ 184899.,       0.,  807956.]),\n",
       " array([ 192008.,   83237.,  900585.]),\n",
       " array([  263413.,   506765.,  1318763.]),\n",
       " array([  262663.,   187500.,  1297461.]),\n",
       " array([      0.,  759557.,       0.]),\n",
       " array([       0.,  1753766.,        0.]),\n",
       " array([  374125.,   608750.,  3859065.]),\n",
       " array([  278601.,        0.,  2669589.]),\n",
       " array([    0.,  9803.,     0.]),\n",
       " array([  199157.,   664461.,  1414857.]),\n",
       " array([     0.,  59539.,      0.]),\n",
       " array([   96840.,  7509039.,   111529.]),\n",
       " array([   80818.,  1599641.,   860136.]),\n",
       " array([  213999.,   953136.,  5501630.]),\n",
       " array([  210692.,  1451869.,  2093263.]),\n",
       " array([  222093.,  4452476.,   911453.]),\n",
       " array([  440698.,        0.,  2424083.]),\n",
       " array([      0.,  343434.,  181755.]),\n",
       " array([  240189.,        0.,  1639297.]),\n",
       " array([   420636.,  19794175.,    505050.]),\n",
       " array([  275101.,   850010.,  1086821.]),\n",
       " array([ 0.,  0.,  0.]),\n",
       " array([  314288.,   117551.,  1101393.]),\n",
       " array([   94941.,  5266578.,   249787.]),\n",
       " array([     0.,      0.,  27942.]),\n",
       " array([  239502.,        0.,  1112087.]),\n",
       " array([  1111258.,  19250000.,   8682716.]),\n",
       " array([    0.,     0.,  1279.]),\n",
       " array([       0.,  1426469.,        0.]),\n",
       " array([      0.,  886231.,  564348.]),\n",
       " array([    6615.,        0.,  1146658.]),\n",
       " array([  655037.,    28798.,  1386690.]),\n",
       " array([      0.,       0.,  362096.]),\n",
       " array([      0.,       0.,  774401.]),\n",
       " array([  404338.,  2022048.,  1747522.]),\n",
       " array([       0.,  1324578.,        0.]),\n",
       " array([  259996.,  1668260.,  1034395.]),\n",
       " array([  317543.,  1297049.,  1934359.]),\n",
       " array([       0.,  5127155.,        0.]),\n",
       " array([  201955.,  1729541.,  4484442.]),\n",
       " array([  248146.,   281073.,  1576511.]),\n",
       " array([      0.,  431750.,   83750.]),\n",
       " array([     0.,      0.,  84992.]),\n",
       " array([     0.,      0.,  49288.]),\n",
       " array([      0.,  257817.,  182466.]),\n",
       " array([      0.,  754966.,       0.]),\n",
       " array([   76399.,  4160672.,   394475.]),\n",
       " array([  262788.,  8191755.,  2368151.]),\n",
       " array([        0.,   2604490.,  15456290.]),\n",
       " array([ 261809.,       0.,  477557.]),\n",
       " array([  248017.,   825464.,  1054637.]),\n",
       " array([      0.,  192758.,   55097.]),\n",
       " array([ 229284.,  400478.,  812194.]),\n",
       " array([  231946.,   636246.,  1566469.]),\n",
       " array([ 221003.,       0.,  319941.]),\n",
       " array([  158403.,  8308552.,   360300.]),\n",
       " array([        0.,  30766064.,     91093.]),\n",
       " array([  250100.,  1550019.,  1410464.]),\n",
       " array([  492375.,  8831913.,   550981.]),\n",
       " array([  1060932.,  10433518.,  17252530.]),\n",
       " array([   261879.,  15364167.,   3123383.]),\n",
       " array([ 239671.,       0.,  827696.]),\n",
       " array([ 0.,  0.,  0.]),\n",
       " array([      0.,  176378.,   50591.]),\n",
       " array([  304588.,   940257.,  3676340.]),\n",
       " array([  309946.,   671737.,  1587421.]),\n",
       " array([    0.,     0.,  3750.]),\n",
       " array([   85274.,  2165172.,  1979596.]),\n",
       " array([ 247338.,  591250.,  399393.]),\n",
       " array([  349487.,  2070306.,  8407016.]),\n",
       " array([  330546.,  2542813.,  2355702.]),\n",
       " array([      0.,       0.,  119292.]),\n",
       " array([  415189.,        0.,  1868758.]),\n",
       " array([  265214.,  3181250.,  1092663.]),\n",
       " array([ 278601.,  765920.,  875760.]),\n",
       " array([  274975.,   384728.,  1272284.])]"
      ]
     },
     "execution_count": 23,
     "metadata": {},
     "output_type": "execute_result"
    }
   ],
   "source": [
    "finance_features"
   ]
  },
  {
   "cell_type": "code",
   "execution_count": 24,
   "metadata": {
    "collapsed": false
   },
   "outputs": [
    {
     "data": {
      "image/png": "[encoded data removed]",
      "text/plain": [
       "<matplotlib.figure.Figure at 0x11179c110>"
      ]
     },
     "metadata": {},
     "output_type": "display_data"
    }
   ],
   "source": [
    "### in the \"clustering with 3 features\" part of the mini-project,\n",
    "### you'll want to change this line to \n",
    "### for f1, f2, _ in finance_features:\n",
    "### (as it's currently written, the line below assumes 2 features)\n",
    "for f1, f2, _ in finance_features:\n",
    "    plt.scatter( f1, f2 )\n",
    "plt.xlabel('salary')\n",
    "plt.ylabel('exercised stock options')\n",
    "plt.show()"
   ]
  },
  {
   "cell_type": "code",
   "execution_count": 25,
   "metadata": {
    "collapsed": false
   },
   "outputs": [
    {
     "data": {
      "image/png": "[encoded data removed]",
      "text/plain": [
       "<matplotlib.figure.Figure at 0x111da4790>"
      ]
     },
     "metadata": {},
     "output_type": "display_data"
    }
   ],
   "source": [
    "### in the \"clustering with 3 features\" part of the mini-project,\n",
    "### you'll want to change this line to \n",
    "### for f1, f2, _ in finance_features:\n",
    "### (as it's currently written, the line below assumes 2 features)\n",
    "for f1, _, f2 in finance_features:\n",
    "    plt.scatter( f1, f2 )\n",
    "plt.xlabel('salary')\n",
    "plt.ylabel('total payments')\n",
    "plt.show()"
   ]
  },
  {
   "cell_type": "code",
   "execution_count": 26,
   "metadata": {
    "collapsed": false
   },
   "outputs": [
    {
     "data": {
      "image/png": "[encoded data removed]",
      "text/plain": [
       "<matplotlib.figure.Figure at 0x10d1c4f90>"
      ]
     },
     "metadata": {},
     "output_type": "display_data"
    }
   ],
   "source": [
    "### in the \"clustering with 3 features\" part of the mini-project,\n",
    "### you'll want to change this line to \n",
    "### for f1, f2, _ in finance_features:\n",
    "### (as it's currently written, the line below assumes 2 features)\n",
    "for _, f1, f2 in finance_features:\n",
    "    plt.scatter( f1, f2 )\n",
    "plt.xlabel('exercised stock options')\n",
    "plt.ylabel('total payments')\n",
    "plt.show()"
   ]
  },
  {
   "cell_type": "markdown",
   "metadata": {},
   "source": [
    "Clustering"
   ]
  },
  {
   "cell_type": "code",
   "execution_count": 27,
   "metadata": {
    "collapsed": true
   },
   "outputs": [],
   "source": [
    "kmeans = KMeans(n_clusters=2, random_state=42).fit(finance_features)"
   ]
  },
  {
   "cell_type": "code",
   "execution_count": 28,
   "metadata": {
    "collapsed": true
   },
   "outputs": [],
   "source": [
    "pred = kmeans.predict(finance_features)"
   ]
  },
  {
   "cell_type": "markdown",
   "metadata": {},
   "source": [
    "Plot"
   ]
  },
  {
   "cell_type": "code",
   "execution_count": 30,
   "metadata": {
    "collapsed": false
   },
   "outputs": [
    {
     "data": {
      "image/png": "[encoded data removed]",
      "text/plain": [
       "<matplotlib.figure.Figure at 0x111b7e310>"
      ]
     },
     "metadata": {},
     "output_type": "display_data"
    }
   ],
   "source": [
    "try:\n",
    "    Draw(pred, finance_features, poi, mark_poi=False, name=\"clusters_3features.pdf\", f1_name=feature_1, f2_name=feature_2)\n",
    "except NameError:\n",
    "    print \"no predictions object named pred found, no clusters to plot\""
   ]
  },
  {
   "cell_type": "markdown",
   "metadata": {},
   "source": [
    "As comparison:"
   ]
  },
  {
   "cell_type": "code",
   "execution_count": 35,
   "metadata": {
    "collapsed": false
   },
   "outputs": [
    {
     "data": {
      "image/png": "[encoded data removed]",
      "text/plain": [
       "<IPython.core.display.Image object>"
      ]
     },
     "execution_count": 35,
     "metadata": {},
     "output_type": "execute_result"
    }
   ],
   "source": [
    "from IPython.display import Image\n",
    "Image('clusters.png')"
   ]
  },
  {
   "cell_type": "markdown",
   "metadata": {},
   "source": [
    "<-- four of the points changed clusters"
   ]
  },
  {
   "cell_type": "markdown",
   "metadata": {},
   "source": [
    "### Stock option range\n",
    "\n",
    "In the next lesson, we’ll talk about feature scaling. It’s a type of feature preprocessing that you should perform before some classification and regression tasks. Here’s a sneak preview that should call your attention to the general outline of what feature scaling does.\n",
    "\n",
    "What are the maximum and minimum values taken by the “exercised_stock_options” feature used in this example?\n",
    "\n",
    "(NB: if you look at finance_features, there are some \"NaN\" values that have been cleaned away and replaced with zeroes--so while those might look like the minima, it's a bit deceptive because they're more like points for which we don't have information, and just have to put in a number. So for this question, go back to data_dict and look for the maximum and minimum numbers that show up there, ignoring all the \"NaN\" entries.)"
   ]
  },
  {
   "cell_type": "code",
   "execution_count": 41,
   "metadata": {
    "collapsed": false
   },
   "outputs": [],
   "source": [
    "eso = []\n",
    "for key in data_dict:\n",
    "    if data_dict[key][\"exercised_stock_options\"] != \"NaN\":\n",
    "        eso.append(data_dict[key][\"exercised_stock_options\"])"
   ]
  },
  {
   "cell_type": "markdown",
   "metadata": {},
   "source": [
    "Minimum exercised_stock_options:"
   ]
  },
  {
   "cell_type": "code",
   "execution_count": 42,
   "metadata": {
    "collapsed": false
   },
   "outputs": [
    {
     "data": {
      "text/plain": [
       "3285"
      ]
     },
     "execution_count": 42,
     "metadata": {},
     "output_type": "execute_result"
    }
   ],
   "source": [
    "min(eso)"
   ]
  },
  {
   "cell_type": "markdown",
   "metadata": {},
   "source": [
    "Maximum exercised_stock_options:"
   ]
  },
  {
   "cell_type": "code",
   "execution_count": 43,
   "metadata": {
    "collapsed": false
   },
   "outputs": [
    {
     "data": {
      "text/plain": [
       "34348384"
      ]
     },
     "execution_count": 43,
     "metadata": {},
     "output_type": "execute_result"
    }
   ],
   "source": [
    "max(eso)"
   ]
  },
  {
   "cell_type": "markdown",
   "metadata": {},
   "source": [
    "### Salary range\n",
    "\n",
    "What are the maximum and minimum values taken by “salary”?\n",
    "\n",
    "(NB: same caveat as in the last quiz. If you look at finance_features, there are some \"NaN\" values that have been cleaned away and replaced with zeroes--so while those might look like the minima, it's a bit deceptive because they're more like points for which we don't have information, and just have to put in a number. So for this question, go back to data_dict and look for the maximum and minimum numbers that show up there, ignoring all the \"NaN\" entries.)"
   ]
  },
  {
   "cell_type": "code",
   "execution_count": 44,
   "metadata": {
    "collapsed": true
   },
   "outputs": [],
   "source": [
    "salary = []\n",
    "for key in data_dict:\n",
    "    if data_dict[key][\"salary\"] != \"NaN\":\n",
    "        salary.append(data_dict[key][\"salary\"])"
   ]
  },
  {
   "cell_type": "markdown",
   "metadata": {},
   "source": [
    "Minimum salary"
   ]
  },
  {
   "cell_type": "code",
   "execution_count": 45,
   "metadata": {
    "collapsed": false
   },
   "outputs": [
    {
     "data": {
      "text/plain": [
       "477"
      ]
     },
     "execution_count": 45,
     "metadata": {},
     "output_type": "execute_result"
    }
   ],
   "source": [
    "min(salary)"
   ]
  },
  {
   "cell_type": "markdown",
   "metadata": {},
   "source": [
    "Maxium salary"
   ]
  },
  {
   "cell_type": "code",
   "execution_count": 46,
   "metadata": {
    "collapsed": false
   },
   "outputs": [
    {
     "data": {
      "text/plain": [
       "1111258"
      ]
     },
     "execution_count": 46,
     "metadata": {},
     "output_type": "execute_result"
    }
   ],
   "source": [
    "max(salary)"
   ]
  },
  {
   "cell_type": "markdown",
   "metadata": {},
   "source": [
    "### Clustering Changes\n",
    "\n",
    "The plot on the next slide shows the exact same clustering code that you just wrote, but in this example we applied feature scaling before performing the clustering.\n",
    "\n",
    "We want you to compare the clustering with scaling (on the next slide) with the first clustering visualization you produced, when you used two features in your clustering algorithm.\n",
    "\n",
    "Notice that now the range of the features has changed to [0.0, 1.0]. That's the only change we've made.\n",
    "\n",
    "In the next lesson you’ll learn a lot more about what feature scaling means, but for now, just look at the effect on the clusters--which point(s) switch their associated cluster?"
   ]
  },
  {
   "cell_type": "code",
   "execution_count": 47,
   "metadata": {
    "collapsed": false
   },
   "outputs": [
    {
     "data": {
      "image/png": "[encoded data removed]",
      "text/plain": [
       "<IPython.core.display.Image object>"
      ]
     },
     "execution_count": 47,
     "metadata": {},
     "output_type": "execute_result"
    }
   ],
   "source": [
    "Image('clusteringchanges.png')"
   ]
  },
  {
   "cell_type": "code",
   "execution_count": null,
   "metadata": {
    "collapsed": true
   },
   "outputs": [],
   "source": []
  }
 ],
 "metadata": {
  "anaconda-cloud": {},
  "kernelspec": {
   "display_name": "Python [default]",
   "language": "python",
   "name": "python2"
  },
  "language_info": {
   "codemirror_mode": {
    "name": "ipython",
    "version": 2
   },
   "file_extension": ".py",
   "mimetype": "text/x-python",
   "name": "python",
   "nbconvert_exporter": "python",
   "pygments_lexer": "ipython2",
   "version": "2.7.12"
  }
 },
 "nbformat": 4,
 "nbformat_minor": 0
}
